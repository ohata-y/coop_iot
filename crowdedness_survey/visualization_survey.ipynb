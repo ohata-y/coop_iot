{
 "cells": [
  {
   "cell_type": "code",
   "execution_count": null,
   "metadata": {},
   "outputs": [],
   "source": [
    "import pandas as pd\n",
    "import matplotlib.pyplot as plt\n",
    "import numpy as np"
   ]
  },
  {
   "cell_type": "code",
   "execution_count": null,
   "metadata": {},
   "outputs": [],
   "source": [
    "df = pd.read_csv(\"data/survey_result.csv\")"
   ]
  },
  {
   "cell_type": "code",
   "execution_count": null,
   "metadata": {},
   "outputs": [],
   "source": [
    "df.head()"
   ]
  },
  {
   "cell_type": "code",
   "execution_count": null,
   "metadata": {},
   "outputs": [],
   "source": [
    "x = np.arange(0, 16)\n",
    "\n",
    "fig, ax_left = plt.subplots(figsize=(10, 6), layout=\"constrained\")\n",
    "ax_right = ax_left.twinx()\n",
    "\n",
    "bar1 = ax_left.bar(x-0.2, df[\"WestCrowdedness\"]*100, label=\"West Crowdedness (%)\", color=\"lightcoral\", width=0.4, alpha=0.4)\n",
    "bar2 = ax_left.bar(x+0.2, df[\"EastCrowdedness\"]*100, label=\"East Crowdedness (%)\", color=\"steelblue\", width=0.4, alpha=0.4)\n",
    "ax_left.set_xlim(-0.8, 15.8)\n",
    "ax_left.set_ylim(0, 100)\n",
    "ax_left.set_ylabel(\"Crowdedness (%)\")\n",
    "\n",
    "line1, = ax_right.plot(x, df[\"WestWaitingTime\"], label=\"West Waiting Time (min)\", marker=\"o\", color=\"lightcoral\")\n",
    "line2, = ax_right.plot(x, df[\"EastWaitingTime\"], label=\"East Waiting Time (min)\", marker=\"o\", color=\"steelblue\")\n",
    "ax_right.set_ylim(0, 10)\n",
    "ax_right.set_ylabel(\"Waiting Time (min)\")\n",
    "\n",
    "ax_right.legend(handles=[bar1, bar2, line1, line2])\n",
    "ax_right.set_xticks(x, df[\"Time\"])\n",
    "\n",
    "ax_left.grid()\n",
    "ax_left.set_title(\"Crowdedness and Waiting Time of East and West\")\n",
    "\n",
    "fig.savefig(\"images/crowdedness_waiting_time.png\")"
   ]
  }
 ],
 "metadata": {
  "kernelspec": {
   "display_name": "coop_iot_env",
   "language": "python",
   "name": "python3"
  },
  "language_info": {
   "codemirror_mode": {
    "name": "ipython",
    "version": 3
   },
   "file_extension": ".py",
   "mimetype": "text/x-python",
   "name": "python",
   "nbconvert_exporter": "python",
   "pygments_lexer": "ipython3",
   "version": "3.11.9"
  }
 },
 "nbformat": 4,
 "nbformat_minor": 2
}
