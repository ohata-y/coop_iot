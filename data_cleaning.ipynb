{
 "cells": [
  {
   "cell_type": "code",
   "execution_count": null,
   "metadata": {},
   "outputs": [],
   "source": [
    "import pandas as pd\n",
    "from pandas import DataFrame"
   ]
  },
  {
   "cell_type": "code",
   "execution_count": null,
   "metadata": {},
   "outputs": [],
   "source": [
    "# カラム名を修正・タイムスタンプは必要ないので削除\n",
    "nms = [\"TimeStamp\", \"Grade\", \"Faculty\", \"Sex\", \"Living\", \"2F3N\", \"2N3F\", \"2F3F\", \n",
    "       \"FreqG\", \"AvePayG\", \"WhenG\", \"PeopleG\", \"ReasonUseG\", \"ReasonNotUseG\", \"FreqMenu\", \n",
    "       \"LikeG\", \"DislikeG\", \"ImprsG\", \"FreqP\", \"GvsP\", \"WhereP\", \"EvsW\", \"ReasonEvsW\", \n",
    "       \"App\", \"ReasonUseApp\", \"RepositApp\", \"ReasonNotUseApp\", \"AppFeature\"]\n",
    "df_forms = pd.read_csv(\"forms.csv\", header=0, names=nms, usecols=nms[1:])"
   ]
  },
  {
   "cell_type": "code",
   "execution_count": null,
   "metadata": {},
   "outputs": [],
   "source": [
    "for col in df_forms.columns:\n",
    "    print(f\"{col}: {df_forms[col].unique()}\")"
   ]
  },
  {
   "cell_type": "code",
   "execution_count": null,
   "metadata": {},
   "outputs": [],
   "source": [
    "df_forms.replace({\"Grade\": {'学部1年': \"B1\", '学部2年': \"B2\", '学部3年': \"B3\", '学部4年': \"B4\", '院生': \"M\"}, \n",
    "                  \"Faculty\": {'商学部': \"Com\", '経済学部': \"Econ\", '社会学部': \"Soc\", '法学部': \"Law\", \n",
    "                              'ソーシャル・データ・サイエンス学部': \"SDS\", '大学院': \"Grad\"}, \n",
    "                  \"Sex\": {'男性': \"M\", '女性': \"F\"}, \n",
    "                  \"Living\": {'一人暮らし（自炊をしない）': \"Alone(NoCook)\", \n",
    "                              '一人暮らし（自炊をする）': \"Alone(Cook)\", \n",
    "                              '寮暮らし（食事が出ない）': \"Dormitory(NoMeal)\", \n",
    "                              '寮暮らし（食事が出る）': \"Dormitory(Meal)\", \n",
    "                              '実家暮らし': \"WithParents\"}, \n",
    "                  \"2F3N\": {'なし': 0, '週１回': 1, '週２回': 2, '週３回': 3, '週４回': 4, '週５回': 5}, \n",
    "                  \"2N3F\": {'なし': 0, '週１回': 1, '週２回': 2, '週３回': 3, '週４回': 4, '週５回': 5}, \n",
    "                  \"2F3F\": {'なし': 0, '週１回': 1, '週２回': 2, '週３回': 3, '週４回': 4, '週５回': 5}, \n",
    "                  \"FreqG\": {'0回': \"0\", '１回': \"1\", '２〜３回': \"2-3\", '４回以上': \"4+\"}, \n",
    "                  \"AvePayG\": {'利用しない': \"0\", '〜300円': \"1-299\", '300円〜500円': \"300-499\", \n",
    "                              '500円〜800円': \"500-799\", '800円〜1000円': \"800-999\", '1000円〜': \"1000+\"}, \n",
    "                  \"PeopleG\": {'利用しない': \"0\", '1人': \"1\", '2～3人': \"2-3\", '4人以上': \"4+\"}, \n",
    "                  \"FreqP\": {'週０回': \"0\", '月1回程度。部活後にアイス食べたりはしちゃいます。': \"1/M\", \n",
    "                            '月2〜3回': \"2-3/M\", '週１回': \"1/W\", '週２〜３回': \"2-3/W\", '週４回以上': \"4+/W\"}, \n",
    "                  \"GvsP\": {'学食': \"Gakushoku\", 'パンショップ': \"PanShop\", '好き嫌い無くどちらも利用する': \"Both\", 'どちらも好きではない': \"NoneOfThem\"}, \n",
    "                  \"WhereP\": {'学食内の席': \"InGakushoku\", '次の授業の教室': \"NxtClass\", 'その他教室': \"OtherClass\", \n",
    "                             '研究室': \"Lab\", '部室': \"Clubroom\", '外のベンチ': \"Outside\", '食べ歩き': \"Outside\", \n",
    "                             '利用しない': \"DontUse\", '買わない': \"DontUse\"}, \n",
    "                  \"EvsW\": {'東学食': \"East\", '西学食': \"West\", 'どちらも好きではない': \"NoneOfThem\", 'どちらも好き。': \"Both\"}, \n",
    "                  \"App\": {'はい': \"Use\", 'いいえ': \"DontUse\"},\n",
    "                  \"RepositApp\": {'アプリ導入時に学食カード？の残金を移行したのが残っているため使っている。使い切ったら使用しないと思う。': \"DontReposit\", \n",
    "                                 '入学した時にチャージしただけ': \"DontReposit\", 'クレカ入金（自分のお金）': \"CreditCard(own)\", \n",
    "                                 'クレカ入金（親のお金）': \"CreditCard(prt)\", 'コンビニ入金（自分のお金）': \"ConvStore(own)\", \n",
    "                                 'コンビニ入金（親のお金）': \"ConvStore(prt)\", '生協レジでチャージ（自分のお金）': \"CoopCasher(own)\", \n",
    "                                 '生協レジでチャージ（親のお金）': \"CoopCasher(prt)\"}}, \n",
    "                inplace=True)\n",
    "df_forms.fillna(\"Unanswered\", inplace=True)\n",
    "df_WhenG = df_forms[[\"WhenG\"]].copy()\n",
    "df_ReasonUseG = df_forms[[\"ReasonUseG\"]].copy()\n",
    "df_ReasonNotUseG = df_forms[[\"ReasonNotUseG\"]].copy()\n",
    "df_FreqMenu = df_forms[[\"FreqMenu\"]].copy()\n",
    "df_LikeG = df_forms[[\"LikeG\"]].copy()\n",
    "df_DislikeG = df_forms[[\"DislikeG\"]].copy()\n",
    "df_ImprsG = df_forms[[\"ImprsG\"]].copy()\n",
    "df_ReasonEvsW = df_forms[[\"ReasonEvsW\"]].copy()\n",
    "df_ReasonUseApp = df_forms[[\"ReasonUseApp\"]].copy()\n",
    "df_ReasonNotUseApp = df_forms[[\"ReasonNotUseApp\"]].copy()\n",
    "df_AppFeature = df_forms[[\"AppFeature\"]].copy()\n",
    "df_forms.drop(columns=[\"WhenG\", \"ReasonUseG\", \"ReasonNotUseG\", \"FreqMenu\", \"LikeG\", \"DislikeG\", \"ImprsG\", \n",
    "                       \"ReasonEvsW\", \"ReasonUseApp\", \"ReasonNotUseApp\", \"AppFeature\"], \n",
    "                       inplace=True)"
   ]
  },
  {
   "cell_type": "code",
   "execution_count": null,
   "metadata": {},
   "outputs": [],
   "source": [
    "def split_and_check_values(df: DataFrame) -> set:\n",
    "    \"\"\"\n",
    "    ユニークな回答を返す\n",
    "    \"\"\"\n",
    "    r = len(df)\n",
    "    splited_ans = set()\n",
    "    for i in range(r):\n",
    "        splited_ans = splited_ans | set(str(df.iloc[i, 0]).split(\", \"))\n",
    "    return set(splited_ans)"
   ]
  },
  {
   "cell_type": "code",
   "execution_count": null,
   "metadata": {},
   "outputs": [],
   "source": [
    "def split_and_to_dummy(df: DataFrame, \n",
    "                      original_to_new: dict[str, list]) -> DataFrame:\n",
    "    \"\"\"\n",
    "    複数回答を分割し、新たなカラムを指定してダミー変数化\\\\\n",
    "    なお、回答のうち文字列\"\"は無視されるため、original_to_newに含める必要はない\n",
    "    \"\"\"\n",
    "    r = len(df)\n",
    "\n",
    "    new_column = []\n",
    "    for value_list in original_to_new.values():\n",
    "        new_column += value_list\n",
    "    new_column = list(set(new_column))\n",
    "    \n",
    "    n = len(new_column)\n",
    "    dummy = [[0] * n for _ in range(r)]\n",
    "    \n",
    "    for i in range(r):\n",
    "        splited_ans = str(df.iloc[i, 0]).split(\", \")\n",
    "        for ans in splited_ans:\n",
    "            if ans == \"\":\n",
    "                continue\n",
    "            new_ans_list = original_to_new[ans]\n",
    "            for new_ans in new_ans_list:\n",
    "                dummy[i][new_column.index(new_ans)] = 1\n",
    "    return pd.DataFrame(data=dummy, columns=new_column)"
   ]
  },
  {
   "cell_type": "code",
   "execution_count": null,
   "metadata": {},
   "outputs": [],
   "source": [
    "split_and_check_values(df_WhenG)"
   ]
  },
  {
   "cell_type": "code",
   "execution_count": null,
   "metadata": {},
   "outputs": [],
   "source": [
    "df_dummy_WhenG = split_and_to_dummy(df_WhenG, \n",
    "                                    {'11:30~11:45': ['11:30-11:45'], '11:45~12:00': ['11:45-12:00'], \n",
    "                                     '12:00~12:15': ['12:00-12:15'], '12:15~12:30': ['12:15-12:30'], \n",
    "                                     '12:30~12:45': ['12:30-12:45'], '12:45~13:00': ['12:45-13:00'], \n",
    "                                     '13:00~13:15': ['13:00-13:15'], '13:15~13:30': ['13:15-13:30'], \n",
    "                                     '13:30~13:45': ['13:30-13:45'], '13:45~14:00': ['13:45-14:00'], \n",
    "                                     '14:00~14:15': ['14:00-14:15'], '14:15~14:30': ['14:15-14:30'], \n",
    "                                     'パンショップのみ利用': [\"PanShop\"],'利用しない': [\"DontUse\"],'夜営業': [\"Night\"]})\n",
    "df_dummy_WhenG = df_dummy_WhenG.reindex(columns=['11:30-11:45', '11:45-12:00', '12:00-12:15', \n",
    "                                                 '12:15-12:30', '12:30-12:45', '12:45-13:00', \n",
    "                                                 '13:00-13:15', '13:15-13:30', '13:30-13:45', \n",
    "                                                 '13:45-14:00', '14:00-14:15', '14:15-14:30', \n",
    "                                                 \"Night\", \"PanShop\", \"DontUse\"])"
   ]
  },
  {
   "cell_type": "code",
   "execution_count": null,
   "metadata": {},
   "outputs": [],
   "source": [
    "split_and_check_values(df_ReasonUseG)"
   ]
  },
  {
   "cell_type": "code",
   "execution_count": null,
   "metadata": {},
   "outputs": [],
   "source": [
    "df_dummy_ReasonUseG = split_and_to_dummy(df_ReasonUseG, \n",
    "                                          {'人間関係の構築のため': ['HumanRelation'], \n",
    "                                           '他の人が行きたいと言うから': [\"HumanRelation\"], \n",
    "                                           '価格が安いから': [\"Cheap\"], \n",
    "                                           '友人に誘われるから': [\"Friend\"], \n",
    "                                           '友達と行くのに1番誘いやすいから': [\"Friend\"], \n",
    "                                           '友達と食べたいから': [\"Friend\"], \n",
    "                                           '大学の外に行かなくていいので': [\"Close\"], \n",
    "                                           '近いから': [\"Close\"], \n",
    "                                           '大学内でご飯を食べる場所が生協しかないから。': [\"OnlyCoopInUniv\"], \n",
    "                                           '学食なら親が費用を負担してくれるから': [\"ParentsToPay\"], \n",
    "                                           '手っ取り早く量を食べれる': [\"CanEatQuickly\"], \n",
    "                                           '授業の教室に近いから\\u3000友達と合流しやすいから': [\"Close\", \"Friend\"], \n",
    "                                           '支払いが便利だから': [\"EasyToPay\"], \n",
    "                                           '時間の節約になるから': [\"TimeSave\"], \n",
    "                                           '栄養バランスが良いから': [\"Nutrition\"], \n",
    "                                           '食べたことのないメニューが出ることがあるから。': [\"Menu\"], \n",
    "                                           '利用していない': [\"DontUse\"]})\n",
    "df_dummy_ReasonUseG = df_dummy_ReasonUseG.reindex(columns=['HumanRelation', 'Cheap', \"Friend\", \"Close\", \n",
    "                                                             \"OnlyCoopInUniv\", \"ParentsToPay\", \"CanEatQuickly\", \n",
    "                                                             \"EasyToPay\", \"TimeSave\", \"Nutrition\", \"Menu\", \"DontUse\"])                                         "
   ]
  },
  {
   "cell_type": "code",
   "execution_count": null,
   "metadata": {},
   "outputs": [],
   "source": [
    "split_and_check_values(df_ReasonNotUseG)"
   ]
  },
  {
   "cell_type": "code",
   "execution_count": null,
   "metadata": {},
   "outputs": [],
   "source": [
    "df_dummy_ReasonNotUseG = split_and_to_dummy(df_ReasonNotUseG,\n",
    "                                            {'下宿まで5分程度で家に帰って作り置きなどを食べる方がコストパフォーマンスが良いように感じる。学食(生協？)は値上げをしないようがんばっていることは伝わるものの、私が体育会ということもあり1メニューでは空腹を満たしきれないのであまり積極的に使おうとは思わない。': [\"PreferHome\", \"SmallMeal\"],\n",
    "                                             '人がたくさんいて、落ち着かない': [\"Crowded\", \"CantBeRelaxed\"],\n",
    "                                             '利用している': [\"Use\"], '利用しない理由はない': [\"Use\"],\n",
    "                                             '利用する必要がない。': [\"NoNeedToUse\"],\n",
    "                                             '外食やコンビニを好むから': [\"PreferOut\"],\n",
    "                                             '家に帰りたいから': [\"PreferHome\"],\n",
    "                                             '家のご飯の方が安くて美味しい': [\"PreferHome\", \"Expensive\", \"NotDelicious\"],\n",
    "                                             '家帰って食べた方が節約になる': [\"PreferHome\", \"Expensive\"],\n",
    "                                             '座席が確保しにくいから': [\"FewSeats\"],\n",
    "                                             '混雑していて、並ぶのが嫌': [\"Crowded\", \"LongQueue\"],\n",
    "                                             '清潔感がないから': [\"Dirty\"],\n",
    "                                             '自炊や外食の方が、コストや質の点で妥当感がある。': [\"PreferOut\", \"Expensive\", \"NotDelicious\"],\n",
    "                                             '食堂の値段がたかいから': [\"Expensive\"],\n",
    "                                             '高いしさほど美味しくない': [\"Expensive\", \"NotDelicious\"],\n",
    "                                             '高価であるため': [\"Expensive\"]})\n",
    "df_dummy_ReasonNotUseG = df_dummy_ReasonNotUseG.reindex(columns=['PreferHome', 'SmallMeal', 'Crowded', \n",
    "                                                                   'CantBeRelaxed', \"NoNeedToUse\", \"PreferOut\", \n",
    "                                                                   \"Expensive\", \"NotDelicious\", \"FewSeats\", \n",
    "                                                                   \"LongQueue\", \"Dirty\", \"Use\"])"
   ]
  },
  {
   "cell_type": "code",
   "execution_count": null,
   "metadata": {},
   "outputs": [],
   "source": [
    "split_and_check_values(df_FreqMenu)"
   ]
  },
  {
   "cell_type": "code",
   "execution_count": null,
   "metadata": {},
   "outputs": [],
   "source": [
    "df_dummy_FreqMenu = split_and_to_dummy(df_FreqMenu, \n",
    "                                        {'おかず': [\"Okazu\"], \n",
    "                                         'パン': [\"Bread\"], \n",
    "                                         '丼もの（カレー含む）': [\"Don-mono\"], \n",
    "                                         '利用しない': [\"DontUse\"], \n",
    "                                         '小鉢': [\"Kobachi\"], \n",
    "                                         '麺類': [\"Noodle\"]})\n",
    "df_dummy_FreqMenu = df_dummy_FreqMenu.reindex(columns=['Okazu', 'Bread', 'Don-mono', 'Kobachi', 'Noodle', 'DontUse'])"
   ]
  },
  {
   "cell_type": "code",
   "execution_count": null,
   "metadata": {},
   "outputs": [],
   "source": [
    "split_and_check_values(df_LikeG)"
   ]
  },
  {
   "cell_type": "code",
   "execution_count": null,
   "metadata": {},
   "outputs": [],
   "source": [
    "df_dummy_LikeG = split_and_to_dummy(df_LikeG, \n",
    "                                    {'Unanswered': [\"Unanswered\"], 'パンが美味しい': [\"DeliciousBread\"], \n",
    "                                     'メニューのバリエーションが豊富': [\"WideVarietyMenu\"], \n",
    "                                     '利用しない': [\"DontUse\"], '安い': [\"Cheap\"], \n",
    "                                     '支払いが便利': [\"ConvenientToPay\"], '近い': [\"Close\"]})\n",
    "df_dummy_LikeG = df_dummy_LikeG.reindex(columns=['DeliciousBread', 'WideVarietyMenu', 'Cheap', \n",
    "                                                   'ConvenientToPay', 'Close', 'DontUse', 'Unanswered'])"
   ]
  },
  {
   "cell_type": "code",
   "execution_count": null,
   "metadata": {},
   "outputs": [],
   "source": [
    "split_and_check_values(df_DislikeG)"
   ]
  },
  {
   "cell_type": "code",
   "execution_count": null,
   "metadata": {},
   "outputs": [],
   "source": [
    "df_dummy_DislikeG = split_and_to_dummy(df_DislikeG, \n",
    "                                       {'インテリアがいまいち': [\"PoorInterior\"], 'メニュー内容': [\"PoorMenu\"], \n",
    "                                        '並ぶのが嫌、時間がかかる': [\"LongQueue\"], \n",
    "                                        '人がたくさんいて、落ち着かない': [\"Crowded\", \"CantBeRelaxed\"], \n",
    "                                        '価格が高い': [\"Expensive\"], '座席が少ない': [\"FewSeats\"], \n",
    "                                        '価格が高いというより、無理して値下げするなら普通の価格でお腹いっぱい食べたいです。': [\"SmallMeal\"], \n",
    "                                        '利用しない': [\"DontUse\"], '動線が悪い': [\"BadFlow\"]})\n",
    "df_dummy_DislikeG = df_dummy_DislikeG.reindex(columns=['PoorInterior', 'PoorMenu', 'LongQueue', \"Crowded\", \"CantBeRelaxed\", \n",
    "                                                         \"Expensive\", \"FewSeats\", \"SmallMeal\", \"BadFlow\", \"DontUse\"])"
   ]
  },
  {
   "cell_type": "code",
   "execution_count": null,
   "metadata": {},
   "outputs": [],
   "source": [
    "split_and_check_values(df_ReasonEvsW)"
   ]
  },
  {
   "cell_type": "code",
   "execution_count": null,
   "metadata": {},
   "outputs": [],
   "source": [
    "df_dummy_ReasonEvsW = split_and_to_dummy(df_ReasonEvsW, \n",
    "                                         {'Unanswered': [\"Unanswered\"], \n",
    "                                          'パンが充実しているから。': [\"WideVarietyBread\"], \n",
    "                                          'パンショップでしか学食(生協)を利用しないため。': [\"OnlyUsePan-shop\"], \n",
    "                                          'メニュー数が多い': [\"WideVarietyMenu\"], \n",
    "                                          '売店が充実している': [\"RichSchoolStore\"], \n",
    "                                          '席数が多い': [\"MoreSeats\"], '東は片付けが楽': [\"EasyToClear\"], \n",
    "                                          '混んでいない気がする': [\"NotCrowded\"], \n",
    "                                          '片付けが楽': [\"EasyToClear\"], '生協があるから': [\"Coop\"], \n",
    "                                          '立地': [\"Location\"], '西生協はパンの種類が多いから。': [\"WideVarietyBread\"], \n",
    "                                          '雰囲気': [\"Atmosphere\"]})\n",
    "df_dummy_ReasonEvsW = df_dummy_ReasonEvsW.reindex(columns=['WideVarietyBread', 'OnlyUsePan-shop', 'WideVarietyMenu', \n",
    "                                                           'RichSchoolStore', 'MoreSeats', 'EasyToClear', \n",
    "                                                           'NotCrowded', 'Coop', 'Location', 'Atmosphere', 'Unanswered'])"
   ]
  },
  {
   "cell_type": "code",
   "execution_count": null,
   "metadata": {},
   "outputs": [],
   "source": [
    "split_and_check_values(df_ReasonUseApp)"
   ]
  },
  {
   "cell_type": "code",
   "execution_count": null,
   "metadata": {},
   "outputs": [],
   "source": [
    "df_dummy_ReasonUseApp = split_and_to_dummy(df_ReasonUseApp, \n",
    "                                           {'Unanswered': [\"Unanswered\"], 'ポイントが貯まる': [\"Point\"], \n",
    "                                            '学食ペイの残金を他で使えないから。': [\"CantUseGakuPayElsewhere\"], \n",
    "                                            '専用レジを利用し、迅速に会計を済ませたい': [\"ToPayQuickly\"], \n",
    "                                            '支払いが便利': [\"ConvenientToPay\"], \n",
    "                                            '教科書販売のときに利用することの方が多いです。': [\"ToBuyTextbook\"]})\n",
    "df_dummy_ReasonUseApp = df_dummy_ReasonUseApp.reindex(columns=['Point', 'CantUseGakuPayElsewhere', 'ToPayQuickly', \n",
    "                                                               'ConvenientToPay', 'ToBuyTextbook', 'Unanswered'])"
   ]
  },
  {
   "cell_type": "code",
   "execution_count": null,
   "metadata": {},
   "outputs": [],
   "source": [
    "split_and_check_values(df_ReasonNotUseApp)"
   ]
  },
  {
   "cell_type": "code",
   "execution_count": null,
   "metadata": {},
   "outputs": [],
   "source": [
    "df_dummy_ReasonNotUseApp = split_and_to_dummy(df_ReasonNotUseApp, \n",
    "                                              {'使用が面倒だから': [\"TroublesomeToUse\"], \n",
    "                                               '使用方法を知らないから': [\"DontKnowHowToUse\"], \n",
    "                                               '入金が面倒だから': [\"TroublesomeToReposit\"], \n",
    "                                               '利用している': [\"Use\"], \n",
    "                                               '利用価値を感じないから': [\"NotWorthUsing\"], \n",
    "                                               '存在を知らないから': [\"DontKnowApp\"], \n",
    "                                               '学食を利用しないから': [\"DontUseGakushoku\"]})\n",
    "df_dummy_ReasonNotUseApp = df_dummy_ReasonNotUseApp.reindex(columns=['TroublesomeToUse', 'DontKnowHowToUse', \n",
    "                                                                     'TroublesomeToReposit', 'NotWorthUsing', \n",
    "                                                                     'DontKnowApp', 'DontUseGakushoku', 'Use'])"
   ]
  },
  {
   "cell_type": "code",
   "execution_count": null,
   "metadata": {},
   "outputs": [],
   "source": [
    "split_and_check_values(df_AppFeature)"
   ]
  },
  {
   "cell_type": "code",
   "execution_count": null,
   "metadata": {},
   "outputs": [],
   "source": [
    "df_dummy_AppFeature = split_and_to_dummy(df_AppFeature, \n",
    "                                         {'Unanswered': ['Unanswered'], \n",
    "                                          'アプリの軽さ。': [\"Responsiveness\"], \n",
    "                                          'クレカとの紐付け': [\"CreditCard\"], \n",
    "                                          'クーポンの配布': [\"Coupon\"], \n",
    "                                          'ドーナツ情報。ミスドは1週間前にアプリでも通知してほしいです': [\"DonutsInfo\"], \n",
    "                                          '事前注文': [\"PreOrder\"], \n",
    "                                          '席から頼めたら便利。入金もっと簡単にして欲しいです🥺。(クレカ情報の記憶など)': [\"PreOrder\", \"CreditCard\"], \n",
    "                                          '混雑状況の確認': [\"CrowdednessInfo\"]})\n",
    "df_dummy_AppFeature = df_dummy_AppFeature.reindex(columns=['Responsiveness', 'CreditCard', 'Coupon', 'DonutsInfo', \n",
    "                                                           'PreOrder', 'CrowdednessInfo', 'Unanswered'])"
   ]
  },
  {
   "cell_type": "code",
   "execution_count": null,
   "metadata": {},
   "outputs": [],
   "source": [
    "dfs = [df_forms, df_dummy_WhenG, df_dummy_ReasonUseG, df_dummy_ReasonNotUseG, df_dummy_FreqMenu, \n",
    "       df_dummy_LikeG, df_dummy_DislikeG, df_dummy_ReasonEvsW, df_dummy_ReasonUseApp, \n",
    "       df_dummy_ReasonNotUseApp, df_dummy_AppFeature, df_ImprsG]\n",
    "names = [\"NonDummy\", \"WhenG\", \"ReasonUseG\", \"ReasonNotUseG\", \"FreqMenu\", \"LikeG\", \"DislikeG\", \n",
    "         \"ReasonEvsW\", \"ReasonUseApp\", \"ReasonNotUseApp\", \"AppFeature\", \"ImprsG\"]\n",
    "with pd.ExcelWriter(\"forms_cleaned.xlsx\") as writer:\n",
    "    for df, name in zip(dfs, names):\n",
    "        df.to_excel(writer, sheet_name=name, index=False)"
   ]
  }
 ],
 "metadata": {
  "kernelspec": {
   "display_name": "coop_iot_env",
   "language": "python",
   "name": "python3"
  },
  "language_info": {
   "codemirror_mode": {
    "name": "ipython",
    "version": 3
   },
   "file_extension": ".py",
   "mimetype": "text/x-python",
   "name": "python",
   "nbconvert_exporter": "python",
   "pygments_lexer": "ipython3",
   "version": "3.11.9"
  }
 },
 "nbformat": 4,
 "nbformat_minor": 2
}
