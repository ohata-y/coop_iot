{
 "cells": [
  {
   "cell_type": "code",
   "execution_count": 1,
   "metadata": {},
   "outputs": [],
   "source": [
    "import pandas as pd\n",
    "from pandas import DataFrame"
   ]
  },
  {
   "cell_type": "code",
   "execution_count": 2,
   "metadata": {},
   "outputs": [],
   "source": [
    "nms = [\"TimeStamp\", \"Grade\", \"Faculty\", \"Sex\", \"Living\", \"2F3N\", \"2N3F\", \"2F3F\", \n",
    "       \"FreqG\", \"AvePayG\", \"WhenG\", \"PeopleG\", \"ReasonUseG\", \"ReasonNotUseG\", \"FreqMenu\", \n",
    "       \"LikeG\", \"DislikeG\", \"ImprsG\", \"FreqP\", \"GvsP\", \"WhereP\", \"EvsW\", \"ReasonEvsW\", \n",
    "       \"App\", \"ReasonUseApp\", \"RepositApp\", \"ReasonNotUseApp\", \"AppFeature\"]\n",
    "df_forms = pd.read_csv(\"forms.csv\", header=0, names=nms, usecols=nms[1:])"
   ]
  },
  {
   "cell_type": "code",
   "execution_count": 3,
   "metadata": {},
   "outputs": [
    {
     "name": "stdout",
     "output_type": "stream",
     "text": [
      "Grade: ['学部3年' '学部4年' '学部2年' '学部1年' '院生']\n",
      "Faculty: ['商学部' '社会学部' '経済学部' '法学部' 'ソーシャル・データ・サイエンス学部' '大学院']\n",
      "Sex: ['男性' '女性']\n",
      "Living: ['一人暮らし（自炊をする）' '一人暮らし（自炊をしない）' '実家暮らし' '寮暮らし（食事が出ない）' '寮暮らし（食事が出る）']\n",
      "2F3N: ['なし' '週１回' '週２回' '週５回' '週３回']\n",
      "2N3F: ['なし' '週１回' '週２回' '週３回']\n",
      "2F3F: ['なし' '週１回' '週２回' '週３回' '週４回' '週５回']\n",
      "FreqG: ['0回' '２〜３回' '１回' '４回以上']\n",
      "AvePayG: ['500円〜800円' '利用しない' '300円〜500円' '800円〜1000円' '1000円〜' '〜300円']\n",
      "WhenG: ['利用しない' '11:30~11:45, 11:45~12:00, 12:00~12:15, 12:15~12:30, 12:30~12:45'\n",
      " '12:45~13:00, 夜営業' 'パンショップのみ利用, 12:00~12:15, 12:15~12:30'\n",
      " '12:30~12:45, 12:45~13:00, 13:00~13:15' 'パンショップのみ利用'\n",
      " '12:15~12:30, 12:30~12:45, 12:45~13:00, 13:00~13:15'\n",
      " 'パンショップのみ利用, 12:30~12:45, 12:45~13:00, 13:00~13:15'\n",
      " '12:00~12:15, 12:15~12:30'\n",
      " 'パンショップのみ利用, 12:15~12:30, 12:30~12:45, 12:45~13:00, 13:00~13:15'\n",
      " '12:30~12:45, 12:45~13:00'\n",
      " 'パンショップのみ利用, 12:15~12:30, 12:30~12:45, 12:45~13:00, 13:00~13:15, 13:15~13:30, 13:30~13:45, 13:45~14:00'\n",
      " '12:30~12:45'\n",
      " 'パンショップのみ利用, 11:30~11:45, 13:00~13:15, 13:15~13:30, 13:30~13:45, 13:45~14:00, 14:00~14:15, 14:15~14:30'\n",
      " '12:15~12:30, 12:30~12:45, 12:45~13:00, 13:00~13:15, 13:30~13:45'\n",
      " '12:15~12:30, 12:30~12:45, 12:45~13:00'\n",
      " '12:30~12:45, 12:45~13:00, 13:00~13:15, 13:15~13:30'\n",
      " '11:45~12:00, 12:00~12:15, 12:15~12:30, 12:30~12:45, 12:45~13:00, 13:00~13:15, 13:15~13:30, 13:30~13:45, 13:45~14:00'\n",
      " '12:45~13:00, 13:00~13:15, 13:15~13:30, 13:30~13:45, 13:45~14:00, 14:00~14:15'\n",
      " '11:45~12:00, 12:00~12:15, 12:15~12:30, 12:30~12:45, 12:45~13:00, 13:00~13:15'\n",
      " '11:30~11:45, 11:45~12:00, 12:00~12:15, 12:15~12:30, 12:30~12:45, 12:45~13:00'\n",
      " 'パンショップのみ利用, 11:30~11:45, 11:45~12:00, 12:00~12:15, 12:15~12:30'\n",
      " '12:00~12:15, 12:15~12:30, 12:30~12:45, 12:45~13:00'\n",
      " 'パンショップのみ利用, 11:30~11:45, 11:45~12:00, 12:00~12:15, 12:15~12:30, 13:30~13:45, 13:45~14:00, 14:00~14:15, 14:15~14:30'\n",
      " 'パンショップのみ利用, 11:45~12:00' '12:45~13:00' '11:45~12:00'\n",
      " '12:00~12:15, 12:15~12:30, 12:30~12:45'\n",
      " '12:15~12:30, 12:30~12:45, 12:45~13:00, 13:00~13:15, 13:15~13:30'\n",
      " '13:15~13:30, 13:30~13:45, 13:45~14:00' '12:15~12:30, 12:30~12:45'\n",
      " '11:30~11:45, 13:15~13:30'\n",
      " 'パンショップのみ利用, 11:30~11:45, 11:45~12:00, 12:15~12:30, 12:30~12:45, 12:45~13:00'\n",
      " '11:30~11:45, 11:45~12:00, 12:00~12:15, 12:15~12:30, 12:30~12:45, 12:45~13:00, 13:00~13:15'\n",
      " '12:30~12:45, 12:45~13:00, 13:00~13:15, 13:15~13:30, 13:30~13:45']\n",
      "PeopleG: ['2～3人' '4人以上' '利用しない' '1人']\n",
      "ReasonUseG: ['価格が安いから' '利用していない' '栄養バランスが良いから, 時間の節約になるから'\n",
      " '時間の節約になるから, 友達と行くのに1番誘いやすいから' '時間の節約になるから' '価格が安いから, 栄養バランスが良いから'\n",
      " '価格が安いから, 栄養バランスが良いから, 時間の節約になるから' '大学の外に行かなくていいので' '友人に誘われるから'\n",
      " '価格が安いから, 時間の節約になるから' '食べたことのないメニューが出ることがあるから。' '手っ取り早く量を食べれる'\n",
      " '栄養バランスが良いから, 友達と食べたいから' '時間の節約になるから, 授業の教室に近いから\\u3000友達と合流しやすいから'\n",
      " '栄養バランスが良いから' '時間の節約になるから, 支払いが便利だから' '近いから'\n",
      " '価格が安いから, 時間の節約になるから, 支払いが便利だから' '価格が安いから, ' '支払いが便利だから'\n",
      " '価格が安いから, 支払いが便利だから' '栄養バランスが良いから, 時間の節約になるから, 支払いが便利だから' '人間関係の構築のため'\n",
      " '他の人が行きたいと言うから' '学食なら親が費用を負担してくれるから' '価格が安いから, 大学内でご飯を食べる場所が生協しかないから。']\n",
      "ReasonNotUseG: ['外食やコンビニを好むから' '人がたくさんいて、落ち着かない' '座席が確保しにくいから' '混雑していて、並ぶのが嫌'\n",
      " '混雑していて、並ぶのが嫌, 座席が確保しにくいから, 下宿まで5分程度で家に帰って作り置きなどを食べる方がコストパフォーマンスが良いように感じる。学食(生協？)は値上げをしないようがんばっていることは伝わるものの、私が体育会ということもあり1メニューでは空腹を満たしきれないのであまり積極的に使おうとは思わない。'\n",
      " '混雑していて、並ぶのが嫌, 座席が確保しにくいから, 利用している' '利用している'\n",
      " '人がたくさんいて、落ち着かない, 混雑していて、並ぶのが嫌' '混雑していて、並ぶのが嫌, 外食やコンビニを好むから' '利用しない理由はない'\n",
      " '混雑していて、並ぶのが嫌, 座席が確保しにくいから' '利用する必要がない。'\n",
      " '人がたくさんいて、落ち着かない, 混雑していて、並ぶのが嫌, 座席が確保しにくいから'\n",
      " '混雑していて、並ぶのが嫌, 座席が確保しにくいから, 清潔感がないから, 外食やコンビニを好むから'\n",
      " '混雑していて、並ぶのが嫌, 利用している'\n",
      " '人がたくさんいて、落ち着かない, 混雑していて、並ぶのが嫌, 座席が確保しにくいから, 利用している'\n",
      " '人がたくさんいて、落ち着かない, 混雑していて、並ぶのが嫌, 外食やコンビニを好むから' '家のご飯の方が安くて美味しい'\n",
      " '人がたくさんいて、落ち着かない, 混雑していて、並ぶのが嫌, 座席が確保しにくいから, 外食やコンビニを好むから' '食堂の値段がたかいから'\n",
      " '家に帰りたいから' '人がたくさんいて、落ち着かない, 混雑していて、並ぶのが嫌, 座席が確保しにくいから, 高価であるため'\n",
      " '家帰って食べた方が節約になる' '混雑していて、並ぶのが嫌, 高いしさほど美味しくない'\n",
      " '人がたくさんいて、落ち着かない, 混雑していて、並ぶのが嫌, 座席が確保しにくいから, 清潔感がないから, 外食やコンビニを好むから, 自炊や外食の方が、コストや質の点で妥当感がある。'\n",
      " '人がたくさんいて、落ち着かない, 座席が確保しにくいから' '清潔感がないから']\n",
      "FreqMenu: ['丼もの（カレー含む）, おかず' '利用しない' '麺類' 'おかず' 'おかず, 小鉢, パン' '丼もの（カレー含む）, おかず, 麺類'\n",
      " '丼もの（カレー含む）, 麺類, パン' 'おかず, 麺類' '丼もの（カレー含む）, おかず, 小鉢, 麺類' '丼もの（カレー含む）'\n",
      " 'おかず, 麺類, パン' 'おかず, 小鉢, 麺類' '丼もの（カレー含む）, 小鉢' '丼もの（カレー含む）, 麺類'\n",
      " '小鉢, 麺類, パン' '丼もの（カレー含む）, 小鉢, 麺類' 'パン' '麺類, パン' '丼もの（カレー含む）, おかず, 小鉢, パン'\n",
      " '丼もの（カレー含む）, パン' '小鉢' '丼もの（カレー含む）, おかず, 小鉢, 麺類, パン' '小鉢, 麺類'\n",
      " '丼もの（カレー含む）, おかず, 小鉢' 'おかず, 小鉢' 'おかず, 小鉢, 麺類, パン' '丼もの（カレー含む）, おかず, パン']\n",
      "LikeG: ['近い, 安い' '安い' '近い' nan 'メニューのバリエーションが豊富' '支払いが便利, 近い'\n",
      " 'メニューのバリエーションが豊富, 近い' '支払いが便利' '支払いが便利, 安い' '近い, パンが美味しい'\n",
      " 'メニューのバリエーションが豊富, 支払いが便利' 'メニューのバリエーションが豊富, 近い, 安い'\n",
      " 'メニューのバリエーションが豊富, 支払いが便利, 近い, 安い' '利用しない' '支払いが便利, 近い, 安い']\n",
      "DislikeG: ['人がたくさんいて、落ち着かない, 並ぶのが嫌、時間がかかる' '人がたくさんいて、落ち着かない, 座席が少ない' '価格が高い'\n",
      " '人がたくさんいて、落ち着かない' '並ぶのが嫌、時間がかかる, 価格が高い, 動線が悪い'\n",
      " '価格が高いというより、無理して値下げするなら普通の価格でお腹いっぱい食べたいです。' '並ぶのが嫌、時間がかかる, 座席が少ない'\n",
      " '並ぶのが嫌、時間がかかる, 動線が悪い, 座席が少ない' '人がたくさんいて、落ち着かない, 並ぶのが嫌、時間がかかる, 動線が悪い'\n",
      " '人がたくさんいて、落ち着かない, 動線が悪い, 座席が少ない' '並ぶのが嫌、時間がかかる, 動線が悪い' '並ぶのが嫌、時間がかかる'\n",
      " '人がたくさんいて、落ち着かない, 並ぶのが嫌、時間がかかる, 価格が高い' '座席が少ない' 'メニュー内容'\n",
      " '人がたくさんいて、落ち着かない, 並ぶのが嫌、時間がかかる, 座席が少ない'\n",
      " '人がたくさんいて、落ち着かない, 並ぶのが嫌、時間がかかる, 価格が高い, 動線が悪い, 座席が少ない'\n",
      " '並ぶのが嫌、時間がかかる, 価格が高い' '人がたくさんいて、落ち着かない, 価格が高い, 座席が少ない'\n",
      " '人がたくさんいて、落ち着かない, 並ぶのが嫌、時間がかかる, 動線が悪い, 座席が少ない' '価格が高い, 座席が少ない'\n",
      " '人がたくさんいて、落ち着かない, 並ぶのが嫌、時間がかかる, 価格が高い, 動線が悪い'\n",
      " '人がたくさんいて、落ち着かない, 並ぶのが嫌、時間がかかる, 価格が高い, 座席が少ない'\n",
      " '人がたくさんいて、落ち着かない, インテリアがいまいち' '利用しない' '並ぶのが嫌、時間がかかる, 価格が高い, 座席が少ない'\n",
      " '動線が悪い']\n",
      "ImprsG: ['安い' 'いろんな人と会うため落ち着かない' '美味しいけど、ちょっと高いなぁ' '高い気がする' '安い！' '麺レーンの回転率が悪すぎる'\n",
      " 'ローコストローリターン' '席空いてない' '手頃の価格でいっぱい食べられる学生に優しい食堂' '混んでる' '友達と行きやすい'\n",
      " '他の選択肢があまりないから、利用している人が多いイメージ。' '混みすぎている、外部の人の利用が多い' '大学らしい' '狭い'\n",
      " '2限と3限の間がかなり混んでいて、授業に間に合わない' '食べる量が少ない人には便利。食べる量が多いと値段が張る。' 'ちょっとコスパ悪い'\n",
      " '並びが酷すぎる、特に麺類は改善しない理由がわからない' '若干高い' '安くて質素' '学生の集まる場所兼食堂'\n",
      " '多く食べようとするとコスパが悪い、混んでるからタイパも悪い、それなら外の定食屋さんに行く方がマシ' 'たくさん食べようと思ったら高い'\n",
      " '混んでいる。意外と高い' '混んでいる、メニューが少ない' '大衆食堂' '来る人に対する店員の数少なすぎる' '混んでる。めにゅーがほうふ'\n",
      " '大学にあるから使ってるイメージ' '商品のレパートリーが少ない' '安く栄養が取れる' 'ちょっと高い美味しい' 'あまり味が良くない'\n",
      " 'カス' '2限終わりに行くと超混雑してる' 'いつも混んでいる' 'せまい' 'ごみごみしている' '人が多い' '美味しい、混んでいる'\n",
      " '思っているほど安くは無い' '他の大学よりはメニュー（味含む）、値段で劣るが一般の飲食店よりはコスパは良いか。' 'やすい'\n",
      " '高い、キャデまでの動線がいい' '味が濃いめ。' '安くてある程度美味しいが、昼時には混雑していて何分も待たなければならない。' '便利'\n",
      " '美味しいものは美味しい' 'なし' '時間節約のために利用する' 'カレー大があんまり大きくない'\n",
      " '量の割に値段が高い。混んでる。メニューの変化が乏しい。スパゲティ系が無い' '混んでいる' '親の金で食べれるという利点' '近くて便利'\n",
      " '種類が少ない' '大人数のグループがうるさく牛耳っている'\n",
      " '生活協同組合なのに生活に寄り添っていない印象。200円の小さいパンはなんのために存在するのか？'\n",
      " '安い。特に小鉢。期間限定のものは少し割高の印象。' 'いつも同じメニューしかない。' 'たのしい' '美味しくない割と高い'\n",
      " 'バンバンジー豆腐がおいしい。' '高くはないが期待してるほど安くもない価格帯' 'うるさい、さほどおいしくない'\n",
      " '学生向けの大盛りで安いご飯の提供' '人が多い、うるさい、落ち着かない、知り合いと会う、そこまで安くもない' 'コスパが悪い'\n",
      " '人が多い、わざわざ混んでるのにばしPay専用レーンを作ったせいでよりレジが混むようになって不愉快' '意外と高い'\n",
      " 'レジに並ぶ時間が長い。今年度になってさらに混雑している。' '混んでいるというイメージは強いので、時間に余裕があるとき以外は使わない。'\n",
      " '1年生' '昼休みの時間は混んでいる' '栄養バランスが良い' '混んでるおいしくない' 'なんだかんだお金がかかる'\n",
      " '狭い、営業時間が短く混雑している' '学校の食堂' '進化の方向が見当違いな学校の食堂'\n",
      " '価格ほど美味しくない。パンショップやコンビニに行くか、もう少しお金を出して駅周辺のチェーン店を利用することが多い。'\n",
      " 'スピーディーに提供される高くはない食事' '食事のバリエーションが少ない' '昼時には大分混雑している印象を受ける' '営業時間が短い'\n",
      " '常に混雑している。メニューが少なく、2限が長引くと売り切れてしまっている🥺'\n",
      " '人が多い、メニューのバリエーションが少ない、小皿をつけると意外と値段が高い、麺類並びがち']\n",
      "FreqP: ['週０回' '週１回' '週２〜３回' '月1回程度。部活後にアイス食べたりはしちゃいます。' '週４回以上' '月2〜3回']\n",
      "GvsP: ['パンショップ' 'どちらも好きではない' '学食' '好き嫌い無くどちらも利用する']\n",
      "WhereP: ['次の授業の教室' '学食内の席' 'その他教室' '外のベンチ' '食べ歩き' '部室' nan '買わない' '研究室' '利用しない']\n",
      "EvsW: ['西学食' 'どちらも好きではない' '東学食' 'どちらも好き。']\n",
      "ReasonEvsW: ['立地' nan 'メニュー数が多い' '席数が多い, メニュー数が多い, 混んでいない気がする, 雰囲気' '席数が多い, メニュー数が多い'\n",
      " 'メニュー数が多い, 混んでいない気がする' 'パンショップでしか学食(生協)を利用しないため。' '席数が多い, 混んでいない気がする'\n",
      " '混んでいない気がする' '席数が多い, メニュー数が多い, 雰囲気' '席数が多い' '混んでいない気がする, 立地, 雰囲気'\n",
      " '席数が多い, 雰囲気' '雰囲気' '西生協はパンの種類が多いから。' '生協があるから' '混んでいない気がする, 雰囲気'\n",
      " '東は片付けが楽' 'パンが充実しているから。' '席数が多い, 立地' '立地, 雰囲気'\n",
      " '席数が多い, メニュー数が多い, 混んでいない気がする' 'メニュー数が多い, 立地' '売店が充実している' '片付けが楽'\n",
      " 'メニュー数が多い, 混んでいない気がする, 雰囲気' '席数が多い, 混んでいない気がする, 雰囲気' '混んでいない気がする, 立地']\n",
      "App: ['いいえ' 'はい']\n",
      "ReasonUseApp: [nan '支払いが便利' '支払いが便利, 教科書販売のときに利用することの方が多いです。' '支払いが便利, ポイントが貯まる'\n",
      " '支払いが便利, 専用レジを利用し、迅速に会計を済ませたい' '支払いが便利, ポイントが貯まる, 専用レジを利用し、迅速に会計を済ませたい'\n",
      " '専用レジを利用し、迅速に会計を済ませたい' 'ポイントが貯まる, 専用レジを利用し、迅速に会計を済ませたい' 'ポイントが貯まる'\n",
      " '学食ペイの残金を他で使えないから。']\n",
      "RepositApp: [nan 'クレカ入金（自分のお金）' '生協レジでチャージ（親のお金）' 'コンビニ入金（自分のお金）' 'クレカ入金（親のお金）'\n",
      " 'コンビニ入金（親のお金）' '生協レジでチャージ（自分のお金）' '入学した時にチャージしただけ'\n",
      " 'アプリ導入時に学食カード？の残金を移行したのが残っているため使っている。使い切ったら使用しないと思う。']\n",
      "ReasonNotUseApp: ['入金が面倒だから, 使用が面倒だから, 利用価値を感じないから' '利用している' '利用価値を感じないから' '使用方法を知らないから'\n",
      " '入金が面倒だから' '使用が面倒だから, 利用価値を感じないから' '入金が面倒だから, 使用が面倒だから, 使用方法を知らないから'\n",
      " '使用が面倒だから' '入金が面倒だから, 使用が面倒だから' '存在を知らないから, 使用方法を知らないから' '学食を利用しないから'\n",
      " '入金が面倒だから, 利用価値を感じないから' '入金が面倒だから, 利用価値を感じないから, 使用方法を知らないから'\n",
      " '入金が面倒だから, 使用が面倒だから, 利用価値を感じないから, 使用方法を知らないから' '利用している, ' '存在を知らないから'\n",
      " '利用価値を感じないから, 存在を知らないから']\n",
      "AppFeature: ['事前注文' 'クーポンの配布' '事前注文, クーポンの配布'\n",
      " 'クーポンの配布, ドーナツ情報。ミスドは1週間前にアプリでも通知してほしいです' '事前注文, 混雑状況の確認, クーポンの配布' nan\n",
      " '混雑状況の確認, クーポンの配布' 'クレカとの紐付け' '混雑状況の確認' '事前注文, 混雑状況の確認' 'アプリの軽さ。'\n",
      " '事前注文, クーポンの配布, 席から頼めたら便利。入金もっと簡単にして欲しいです🥺。(クレカ情報の記憶など)']\n"
     ]
    }
   ],
   "source": [
    "for col in df_forms.columns:\n",
    "    print(f\"{col}: {df_forms[col].unique()}\")"
   ]
  },
  {
   "cell_type": "code",
   "execution_count": 4,
   "metadata": {},
   "outputs": [
    {
     "name": "stderr",
     "output_type": "stream",
     "text": [
      "C:\\Users\\thiyo\\AppData\\Local\\Temp\\ipykernel_25616\\4232718880.py:1: FutureWarning: Downcasting behavior in `replace` is deprecated and will be removed in a future version. To retain the old behavior, explicitly call `result.infer_objects(copy=False)`. To opt-in to the future behavior, set `pd.set_option('future.no_silent_downcasting', True)`\n",
      "  df_forms.replace({\"Grade\": {'学部1年': \"B1\", '学部2年': \"B2\", '学部3年': \"B3\", '学部4年': \"B4\", '院生': \"M\"},\n"
     ]
    }
   ],
   "source": [
    "df_forms.replace({\"Grade\": {'学部1年': \"B1\", '学部2年': \"B2\", '学部3年': \"B3\", '学部4年': \"B4\", '院生': \"M\"}, \n",
    "                  \"Faculty\": {'商学部': \"Com\", '経済学部': \"Econ\", '社会学部': \"Soc\", '法学部': \"Law\", \n",
    "                              'ソーシャル・データ・サイエンス学部': \"SDS\", '大学院': \"Grad\"}, \n",
    "                  \"Sex\": {'男性': \"M\", '女性': \"F\"}, \n",
    "                  \"Living\": {'一人暮らし（自炊をしない）': \"Alone(NoCook)\", \n",
    "                              '一人暮らし（自炊をする）': \"Alone(Cook)\", \n",
    "                              '寮暮らし（食事が出ない）': \"Dormitory(NoMeal)\", \n",
    "                              '寮暮らし（食事が出る）': \"Dormitory(Meal)\", \n",
    "                              '実家暮らし': \"WithParents\"}, \n",
    "                  \"2F3N\": {'なし': 0, '週１回': 1, '週２回': 2, '週３回': 3, '週４回': 4, '週５回': 5}, \n",
    "                  \"2N3F\": {'なし': 0, '週１回': 1, '週２回': 2, '週３回': 3, '週４回': 4, '週５回': 5}, \n",
    "                  \"2F3F\": {'なし': 0, '週１回': 1, '週２回': 2, '週３回': 3, '週４回': 4, '週５回': 5}, \n",
    "                  \"FreqG\": {'0回': \"0\", '１回': \"1\", '２〜３回': \"2-3\", '４回以上': \"4+\"}, \n",
    "                  \"AvePayG\": {'利用しない': \"0\", '〜300円': \"1-299\", '300円〜500円': \"300-499\", \n",
    "                              '500円〜800円': \"500-799\", '800円〜1000円': \"800-999\", '1000円〜': \"1000+\"}, \n",
    "                  \"PeopleG\": {'利用しない': \"0\", '1人': \"1\", '2～3人': \"2-3\", '4人以上': \"4+\"}, \n",
    "                  \"FreqP\": {'週０回': \"0\", '月1回程度。部活後にアイス食べたりはしちゃいます。': \"1/M\", \n",
    "                            '月2〜3回': \"2-3/M\", '週１回': \"1/W\", '週２〜３回': \"2-3/W\", '週４回以上': \"4+/W\"}, \n",
    "                  \"GvsP\": {'学食': \"Gakushoku\", 'パンショップ': \"PanShop\", '好き嫌い無くどちらも利用する': \"Both\", 'どちらも好きではない': \"NoneOfThem\"}, \n",
    "                  \"WhereP\": {'学食内の席': \"InGakushoku\", '次の授業の教室': \"NxtClass\", 'その他教室': \"OtherClass\", \n",
    "                             '研究室': \"Lab\", '部室': \"Clubroom\", '外のベンチ': \"Outside\", '食べ歩き': \"Outside\", \n",
    "                             '利用しない': \"DontUse\", '買わない': \"DontUse\"}, \n",
    "                  \"EvsW\": {'東学食': \"East\", '西学食': \"West\", 'どちらも好きではない': \"NoneOfThem\", 'どちらも好き。': \"Both\"}, \n",
    "                  \"App\": {'はい': \"Use\", 'いいえ': \"DontUse\"},\n",
    "                  \"RepositApp\": {'アプリ導入時に学食カード？の残金を移行したのが残っているため使っている。使い切ったら使用しないと思う。': \"DontReposit\", \n",
    "                                 '入学した時にチャージしただけ': \"DontReposit\", 'クレカ入金（自分のお金）': \"CreditCard(own)\", \n",
    "                                 'クレカ入金（親のお金）': \"CreditCard(prt)\", 'コンビニ入金（自分のお金）': \"ConvStore(own)\", \n",
    "                                 'コンビニ入金（親のお金）': \"ConvStore(prt)\", '生協レジでチャージ（自分のお金）': \"CoopCashier(own)\", \n",
    "                                 '生協レジでチャージ（親のお金）': \"CoopCashier(prt)\"}}, \n",
    "                inplace=True)\n",
    "df_forms.fillna(\"Unanswered\", inplace=True)\n",
    "df_WhenG = df_forms[[\"WhenG\"]].copy()\n",
    "df_ReasonUseG = df_forms[[\"ReasonUseG\"]].copy()\n",
    "df_ReasonNotUseG = df_forms[[\"ReasonNotUseG\"]].copy()\n",
    "df_FreqMenu = df_forms[[\"FreqMenu\"]].copy()\n",
    "df_LikeG = df_forms[[\"LikeG\"]].copy()\n",
    "df_DislikeG = df_forms[[\"DislikeG\"]].copy()\n",
    "df_ImprsG = df_forms[[\"ImprsG\"]].copy()\n",
    "df_ReasonEvsW = df_forms[[\"ReasonEvsW\"]].copy()\n",
    "df_ReasonUseApp = df_forms[[\"ReasonUseApp\"]].copy()\n",
    "df_ReasonNotUseApp = df_forms[[\"ReasonNotUseApp\"]].copy()\n",
    "df_AppFeature = df_forms[[\"AppFeature\"]].copy()\n",
    "df_forms.drop(columns=[\"WhenG\", \"ReasonUseG\", \"ReasonNotUseG\", \"FreqMenu\", \"LikeG\", \"DislikeG\", \"ImprsG\", \n",
    "                       \"ReasonEvsW\", \"ReasonUseApp\", \"ReasonNotUseApp\", \"AppFeature\"], \n",
    "                       inplace=True)"
   ]
  },
  {
   "cell_type": "code",
   "execution_count": 5,
   "metadata": {},
   "outputs": [],
   "source": [
    "def split_and_check_values(df: DataFrame) -> set:\n",
    "    \"\"\"\n",
    "    ユニークな回答を返す\n",
    "    \"\"\"\n",
    "    r = len(df)\n",
    "    splited_ans = set()\n",
    "    for i in range(r):\n",
    "        splited_ans = splited_ans | set(str(df.iloc[i, 0]).split(\", \"))\n",
    "    return set(splited_ans)"
   ]
  },
  {
   "cell_type": "code",
   "execution_count": 6,
   "metadata": {},
   "outputs": [],
   "source": [
    "def split_and_to_dummy(df: DataFrame, \n",
    "                      original_to_new: dict[str, list]) -> DataFrame:\n",
    "    \"\"\"\n",
    "    複数回答を分割し、新たなカラムを指定してダミー変数化\\\\\n",
    "    なお、回答のうち文字列\"\"は無視されるため、original_to_newに含める必要はない\n",
    "    \"\"\"\n",
    "    r = len(df)\n",
    "\n",
    "    new_column = []\n",
    "    for value_list in original_to_new.values():\n",
    "        new_column += value_list\n",
    "    new_column = list(set(new_column))\n",
    "    \n",
    "    n = len(new_column)\n",
    "    dummy = [[0] * n for _ in range(r)]\n",
    "    \n",
    "    for i in range(r):\n",
    "        splited_ans = str(df.iloc[i, 0]).split(\", \")\n",
    "        for ans in splited_ans:\n",
    "            if ans == \"\":\n",
    "                continue\n",
    "            new_ans_list = original_to_new[ans]\n",
    "            for new_ans in new_ans_list:\n",
    "                dummy[i][new_column.index(new_ans)] = 1\n",
    "    return pd.DataFrame(data=dummy, columns=new_column)"
   ]
  },
  {
   "cell_type": "code",
   "execution_count": 7,
   "metadata": {},
   "outputs": [
    {
     "data": {
      "text/plain": [
       "{'11:30~11:45',\n",
       " '11:45~12:00',\n",
       " '12:00~12:15',\n",
       " '12:15~12:30',\n",
       " '12:30~12:45',\n",
       " '12:45~13:00',\n",
       " '13:00~13:15',\n",
       " '13:15~13:30',\n",
       " '13:30~13:45',\n",
       " '13:45~14:00',\n",
       " '14:00~14:15',\n",
       " '14:15~14:30',\n",
       " 'パンショップのみ利用',\n",
       " '利用しない',\n",
       " '夜営業'}"
      ]
     },
     "execution_count": 7,
     "metadata": {},
     "output_type": "execute_result"
    }
   ],
   "source": [
    "split_and_check_values(df_WhenG)"
   ]
  },
  {
   "cell_type": "code",
   "execution_count": 8,
   "metadata": {},
   "outputs": [],
   "source": [
    "df_dummy_WhenG = split_and_to_dummy(df_WhenG, \n",
    "                                    {'11:30~11:45': ['11:30-11:45'], '11:45~12:00': ['11:45-12:00'], \n",
    "                                     '12:00~12:15': ['12:00-12:15'], '12:15~12:30': ['12:15-12:30'], \n",
    "                                     '12:30~12:45': ['12:30-12:45'], '12:45~13:00': ['12:45-13:00'], \n",
    "                                     '13:00~13:15': ['13:00-13:15'], '13:15~13:30': ['13:15-13:30'], \n",
    "                                     '13:30~13:45': ['13:30-13:45'], '13:45~14:00': ['13:45-14:00'], \n",
    "                                     '14:00~14:15': ['14:00-14:15'], '14:15~14:30': ['14:15-14:30'], \n",
    "                                     'パンショップのみ利用': [\"PanShop\"],'利用しない': [\"DontUse\"],'夜営業': [\"Night\"]})\n",
    "df_dummy_WhenG = df_dummy_WhenG.reindex(columns=['11:30-11:45', '11:45-12:00', '12:00-12:15', \n",
    "                                                 '12:15-12:30', '12:30-12:45', '12:45-13:00', \n",
    "                                                 '13:00-13:15', '13:15-13:30', '13:30-13:45', \n",
    "                                                 '13:45-14:00', '14:00-14:15', '14:15-14:30', \n",
    "                                                 \"Night\", \"PanShop\", \"DontUse\"])"
   ]
  },
  {
   "cell_type": "code",
   "execution_count": 9,
   "metadata": {},
   "outputs": [
    {
     "data": {
      "text/plain": [
       "{'',\n",
       " '人間関係の構築のため',\n",
       " '他の人が行きたいと言うから',\n",
       " '価格が安いから',\n",
       " '利用していない',\n",
       " '友人に誘われるから',\n",
       " '友達と行くのに1番誘いやすいから',\n",
       " '友達と食べたいから',\n",
       " '大学の外に行かなくていいので',\n",
       " '大学内でご飯を食べる場所が生協しかないから。',\n",
       " '学食なら親が費用を負担してくれるから',\n",
       " '手っ取り早く量を食べれる',\n",
       " '授業の教室に近いから\\u3000友達と合流しやすいから',\n",
       " '支払いが便利だから',\n",
       " '時間の節約になるから',\n",
       " '栄養バランスが良いから',\n",
       " '近いから',\n",
       " '食べたことのないメニューが出ることがあるから。'}"
      ]
     },
     "execution_count": 9,
     "metadata": {},
     "output_type": "execute_result"
    }
   ],
   "source": [
    "split_and_check_values(df_ReasonUseG)"
   ]
  },
  {
   "cell_type": "code",
   "execution_count": 10,
   "metadata": {},
   "outputs": [],
   "source": [
    "df_dummy_ReasonUseG = split_and_to_dummy(df_ReasonUseG, \n",
    "                                          {'人間関係の構築のため': ['HumanRelation'], \n",
    "                                           '他の人が行きたいと言うから': [\"HumanRelation\"], \n",
    "                                           '価格が安いから': [\"Cheap\"], \n",
    "                                           '友人に誘われるから': [\"Friend\"], \n",
    "                                           '友達と行くのに1番誘いやすいから': [\"Friend\"], \n",
    "                                           '友達と食べたいから': [\"Friend\"], \n",
    "                                           '大学の外に行かなくていいので': [\"Close\"], \n",
    "                                           '近いから': [\"Close\"], \n",
    "                                           '大学内でご飯を食べる場所が生協しかないから。': [\"OnlyCoopInUniv\"], \n",
    "                                           '学食なら親が費用を負担してくれるから': [\"ParentsToPay\"], \n",
    "                                           '手っ取り早く量を食べれる': [\"CanEatQuickly\"], \n",
    "                                           '授業の教室に近いから\\u3000友達と合流しやすいから': [\"Close\", \"Friend\"], \n",
    "                                           '支払いが便利だから': [\"EasyToPay\"], \n",
    "                                           '時間の節約になるから': [\"TimeSave\"], \n",
    "                                           '栄養バランスが良いから': [\"Nutritious\"], \n",
    "                                           '食べたことのないメニューが出ることがあるから。': [\"Menu\"], \n",
    "                                           '利用していない': [\"DontUse\"]})\n",
    "df_dummy_ReasonUseG = df_dummy_ReasonUseG.reindex(columns=['HumanRelation', 'Cheap', \"Friend\", \"Close\", \n",
    "                                                             \"OnlyCoopInUniv\", \"ParentsToPay\", \"CanEatQuickly\", \n",
    "                                                             \"EasyToPay\", \"TimeSave\", \"Nutritious\", \"Menu\", \"DontUse\"])                                         "
   ]
  },
  {
   "cell_type": "code",
   "execution_count": 11,
   "metadata": {},
   "outputs": [
    {
     "data": {
      "text/plain": [
       "{'下宿まで5分程度で家に帰って作り置きなどを食べる方がコストパフォーマンスが良いように感じる。学食(生協？)は値上げをしないようがんばっていることは伝わるものの、私が体育会ということもあり1メニューでは空腹を満たしきれないのであまり積極的に使おうとは思わない。',\n",
       " '人がたくさんいて、落ち着かない',\n",
       " '利用している',\n",
       " '利用しない理由はない',\n",
       " '利用する必要がない。',\n",
       " '外食やコンビニを好むから',\n",
       " '家に帰りたいから',\n",
       " '家のご飯の方が安くて美味しい',\n",
       " '家帰って食べた方が節約になる',\n",
       " '座席が確保しにくいから',\n",
       " '混雑していて、並ぶのが嫌',\n",
       " '清潔感がないから',\n",
       " '自炊や外食の方が、コストや質の点で妥当感がある。',\n",
       " '食堂の値段がたかいから',\n",
       " '高いしさほど美味しくない',\n",
       " '高価であるため'}"
      ]
     },
     "execution_count": 11,
     "metadata": {},
     "output_type": "execute_result"
    }
   ],
   "source": [
    "split_and_check_values(df_ReasonNotUseG)"
   ]
  },
  {
   "cell_type": "code",
   "execution_count": 12,
   "metadata": {},
   "outputs": [],
   "source": [
    "df_dummy_ReasonNotUseG = split_and_to_dummy(df_ReasonNotUseG,\n",
    "                                            {'下宿まで5分程度で家に帰って作り置きなどを食べる方がコストパフォーマンスが良いように感じる。学食(生協？)は値上げをしないようがんばっていることは伝わるものの、私が体育会ということもあり1メニューでは空腹を満たしきれないのであまり積極的に使おうとは思わない。': [\"PreferHome\", \"SmallPortionSize\"],\n",
    "                                             '人がたくさんいて、落ち着かない': [\"Crowded\", \"CantBeRelaxed\"],\n",
    "                                             '利用している': [\"Use\"], '利用しない理由はない': [\"Use\"],\n",
    "                                             '利用する必要がない。': [\"NoNeedToUse\"],\n",
    "                                             '外食やコンビニを好むから': [\"PreferOut\"],\n",
    "                                             '家に帰りたいから': [\"PreferHome\"],\n",
    "                                             '家のご飯の方が安くて美味しい': [\"PreferHome\", \"Expensive\", \"NotDelicious\"],\n",
    "                                             '家帰って食べた方が節約になる': [\"PreferHome\", \"Expensive\"],\n",
    "                                             '座席が確保しにくいから': [\"FewSeats\"],\n",
    "                                             '混雑していて、並ぶのが嫌': [\"Crowded\", \"LongQueue\"],\n",
    "                                             '清潔感がないから': [\"Dirty\"],\n",
    "                                             '自炊や外食の方が、コストや質の点で妥当感がある。': [\"PreferOut\", \"Expensive\", \"NotDelicious\"],\n",
    "                                             '食堂の値段がたかいから': [\"Expensive\"],\n",
    "                                             '高いしさほど美味しくない': [\"Expensive\", \"NotDelicious\"],\n",
    "                                             '高価であるため': [\"Expensive\"]})\n",
    "df_dummy_ReasonNotUseG = df_dummy_ReasonNotUseG.reindex(columns=['PreferHome', 'SmallPortionSize', 'Crowded', \n",
    "                                                                   'CantBeRelaxed', \"NoNeedToUse\", \"PreferOut\", \n",
    "                                                                   \"Expensive\", \"NotDelicious\", \"FewSeats\", \n",
    "                                                                   \"LongQueue\", \"Dirty\", \"Use\"])"
   ]
  },
  {
   "cell_type": "code",
   "execution_count": 13,
   "metadata": {},
   "outputs": [
    {
     "data": {
      "text/plain": [
       "{'おかず', 'パン', '丼もの（カレー含む）', '利用しない', '小鉢', '麺類'}"
      ]
     },
     "execution_count": 13,
     "metadata": {},
     "output_type": "execute_result"
    }
   ],
   "source": [
    "split_and_check_values(df_FreqMenu)"
   ]
  },
  {
   "cell_type": "code",
   "execution_count": 14,
   "metadata": {},
   "outputs": [],
   "source": [
    "df_dummy_FreqMenu = split_and_to_dummy(df_FreqMenu, \n",
    "                                        {'おかず': [\"Okazu\"], \n",
    "                                         'パン': [\"Bread\"], \n",
    "                                         '丼もの（カレー含む）': [\"Don-mono\"], \n",
    "                                         '利用しない': [\"DontUse\"], \n",
    "                                         '小鉢': [\"Kobachi\"], \n",
    "                                         '麺類': [\"Noodle\"]})\n",
    "df_dummy_FreqMenu = df_dummy_FreqMenu.reindex(columns=['Okazu', 'Bread', 'Don-mono', 'Kobachi', 'Noodle', 'DontUse'])"
   ]
  },
  {
   "cell_type": "code",
   "execution_count": 15,
   "metadata": {},
   "outputs": [
    {
     "data": {
      "text/plain": [
       "{'Unanswered', 'パンが美味しい', 'メニューのバリエーションが豊富', '利用しない', '安い', '支払いが便利', '近い'}"
      ]
     },
     "execution_count": 15,
     "metadata": {},
     "output_type": "execute_result"
    }
   ],
   "source": [
    "split_and_check_values(df_LikeG)"
   ]
  },
  {
   "cell_type": "code",
   "execution_count": 16,
   "metadata": {},
   "outputs": [],
   "source": [
    "df_dummy_LikeG = split_and_to_dummy(df_LikeG, \n",
    "                                    {'Unanswered': [\"Unanswered\"], 'パンが美味しい': [\"DeliciousBread\"], \n",
    "                                     'メニューのバリエーションが豊富': [\"WideVarietyMenu\"], \n",
    "                                     '利用しない': [\"DontUse\"], '安い': [\"Cheap\"], \n",
    "                                     '支払いが便利': [\"ConvenientToPay\"], '近い': [\"Close\"]})\n",
    "df_dummy_LikeG = df_dummy_LikeG.reindex(columns=['DeliciousBread', 'WideVarietyMenu', 'Cheap', \n",
    "                                                   'ConvenientToPay', 'Close', 'DontUse', 'Unanswered'])"
   ]
  },
  {
   "cell_type": "code",
   "execution_count": 17,
   "metadata": {},
   "outputs": [
    {
     "data": {
      "text/plain": [
       "{'インテリアがいまいち',\n",
       " 'メニュー内容',\n",
       " '並ぶのが嫌、時間がかかる',\n",
       " '人がたくさんいて、落ち着かない',\n",
       " '価格が高い',\n",
       " '価格が高いというより、無理して値下げするなら普通の価格でお腹いっぱい食べたいです。',\n",
       " '利用しない',\n",
       " '動線が悪い',\n",
       " '座席が少ない'}"
      ]
     },
     "execution_count": 17,
     "metadata": {},
     "output_type": "execute_result"
    }
   ],
   "source": [
    "split_and_check_values(df_DislikeG)"
   ]
  },
  {
   "cell_type": "code",
   "execution_count": 18,
   "metadata": {},
   "outputs": [],
   "source": [
    "df_dummy_DislikeG = split_and_to_dummy(df_DislikeG, \n",
    "                                       {'インテリアがいまいち': [\"PoorInterior\"], 'メニュー内容': [\"PoorMenu\"], \n",
    "                                        '並ぶのが嫌、時間がかかる': [\"LongQueue\"], \n",
    "                                        '人がたくさんいて、落ち着かない': [\"Crowded\", \"CantBeRelaxed\"], \n",
    "                                        '価格が高い': [\"Expensive\"], '座席が少ない': [\"FewSeats\"], \n",
    "                                        '価格が高いというより、無理して値下げするなら普通の価格でお腹いっぱい食べたいです。': [\"SmallPortionSize\"], \n",
    "                                        '利用しない': [\"DontUse\"], '動線が悪い': [\"BadFlow\"]})\n",
    "df_dummy_DislikeG = df_dummy_DislikeG.reindex(columns=['PoorInterior', 'PoorMenu', 'LongQueue', \"Crowded\", \"CantBeRelaxed\", \n",
    "                                                         \"Expensive\", \"FewSeats\", \"SmallPortionSize\", \"BadFlow\", \"DontUse\"])"
   ]
  },
  {
   "cell_type": "code",
   "execution_count": 19,
   "metadata": {},
   "outputs": [
    {
     "data": {
      "text/plain": [
       "{'Unanswered',\n",
       " 'パンが充実しているから。',\n",
       " 'パンショップでしか学食(生協)を利用しないため。',\n",
       " 'メニュー数が多い',\n",
       " '売店が充実している',\n",
       " '席数が多い',\n",
       " '東は片付けが楽',\n",
       " '混んでいない気がする',\n",
       " '片付けが楽',\n",
       " '生協があるから',\n",
       " '立地',\n",
       " '西生協はパンの種類が多いから。',\n",
       " '雰囲気'}"
      ]
     },
     "execution_count": 19,
     "metadata": {},
     "output_type": "execute_result"
    }
   ],
   "source": [
    "split_and_check_values(df_ReasonEvsW)"
   ]
  },
  {
   "cell_type": "code",
   "execution_count": 20,
   "metadata": {},
   "outputs": [],
   "source": [
    "df_dummy_ReasonEvsW = split_and_to_dummy(df_ReasonEvsW, \n",
    "                                         {'Unanswered': [\"Unanswered\"], \n",
    "                                          'パンが充実しているから。': [\"WideVarietyBread\"], \n",
    "                                          'パンショップでしか学食(生協)を利用しないため。': [\"OnlyUsePan-shop\"], \n",
    "                                          'メニュー数が多い': [\"WideVarietyMenu\"], \n",
    "                                          '売店が充実している': [\"RichSchoolStore\"], \n",
    "                                          '席数が多い': [\"MoreSeats\"], '東は片付けが楽': [\"EasyToClear\"], \n",
    "                                          '混んでいない気がする': [\"NotCrowded\"], \n",
    "                                          '片付けが楽': [\"EasyToClear\"], '生協があるから': [\"Coop\"], \n",
    "                                          '立地': [\"Location\"], '西生協はパンの種類が多いから。': [\"WideVarietyBread\"], \n",
    "                                          '雰囲気': [\"Atmosphere\"]})\n",
    "df_dummy_ReasonEvsW = df_dummy_ReasonEvsW.reindex(columns=['WideVarietyBread', 'OnlyUsePan-shop', 'WideVarietyMenu', \n",
    "                                                           'RichSchoolStore', 'MoreSeats', 'EasyToClear', \n",
    "                                                           'NotCrowded', 'Coop', 'Location', 'Atmosphere', 'Unanswered'])"
   ]
  },
  {
   "cell_type": "code",
   "execution_count": 21,
   "metadata": {},
   "outputs": [
    {
     "data": {
      "text/plain": [
       "{'Unanswered',\n",
       " 'ポイントが貯まる',\n",
       " '学食ペイの残金を他で使えないから。',\n",
       " '専用レジを利用し、迅速に会計を済ませたい',\n",
       " '支払いが便利',\n",
       " '教科書販売のときに利用することの方が多いです。'}"
      ]
     },
     "execution_count": 21,
     "metadata": {},
     "output_type": "execute_result"
    }
   ],
   "source": [
    "split_and_check_values(df_ReasonUseApp)"
   ]
  },
  {
   "cell_type": "code",
   "execution_count": 22,
   "metadata": {},
   "outputs": [],
   "source": [
    "df_dummy_ReasonUseApp = split_and_to_dummy(df_ReasonUseApp, \n",
    "                                           {'Unanswered': [\"Unanswered\"], 'ポイントが貯まる': [\"Point\"], \n",
    "                                            '学食ペイの残金を他で使えないから。': [\"CantUseGakuPayElsewhere\"], \n",
    "                                            '専用レジを利用し、迅速に会計を済ませたい': [\"ToPayQuickly\"], \n",
    "                                            '支払いが便利': [\"ConvenientToPay\"], \n",
    "                                            '教科書販売のときに利用することの方が多いです。': [\"ToBuyTextbook\"]})\n",
    "df_dummy_ReasonUseApp = df_dummy_ReasonUseApp.reindex(columns=['Point', 'CantUseGakuPayElsewhere', 'ToPayQuickly', \n",
    "                                                               'ConvenientToPay', 'ToBuyTextbook', 'Unanswered'])"
   ]
  },
  {
   "cell_type": "code",
   "execution_count": 23,
   "metadata": {},
   "outputs": [
    {
     "data": {
      "text/plain": [
       "{'',\n",
       " '使用が面倒だから',\n",
       " '使用方法を知らないから',\n",
       " '入金が面倒だから',\n",
       " '利用している',\n",
       " '利用価値を感じないから',\n",
       " '存在を知らないから',\n",
       " '学食を利用しないから'}"
      ]
     },
     "execution_count": 23,
     "metadata": {},
     "output_type": "execute_result"
    }
   ],
   "source": [
    "split_and_check_values(df_ReasonNotUseApp)"
   ]
  },
  {
   "cell_type": "code",
   "execution_count": 24,
   "metadata": {},
   "outputs": [],
   "source": [
    "df_dummy_ReasonNotUseApp = split_and_to_dummy(df_ReasonNotUseApp, \n",
    "                                              {'使用が面倒だから': [\"TroublesomeToUse\"], \n",
    "                                               '使用方法を知らないから': [\"DontKnowHowToUse\"], \n",
    "                                               '入金が面倒だから': [\"TroublesomeToReposit\"], \n",
    "                                               '利用している': [\"Use\"], \n",
    "                                               '利用価値を感じないから': [\"NotWorthUsing\"], \n",
    "                                               '存在を知らないから': [\"DontKnowApp\"], \n",
    "                                               '学食を利用しないから': [\"DontUseGakushoku\"]})\n",
    "df_dummy_ReasonNotUseApp = df_dummy_ReasonNotUseApp.reindex(columns=['TroublesomeToUse', 'DontKnowHowToUse', \n",
    "                                                                     'TroublesomeToReposit', 'NotWorthUsing', \n",
    "                                                                     'DontKnowApp', 'DontUseGakushoku', 'Use'])"
   ]
  },
  {
   "cell_type": "code",
   "execution_count": 25,
   "metadata": {},
   "outputs": [
    {
     "data": {
      "text/plain": [
       "{'Unanswered',\n",
       " 'アプリの軽さ。',\n",
       " 'クレカとの紐付け',\n",
       " 'クーポンの配布',\n",
       " 'ドーナツ情報。ミスドは1週間前にアプリでも通知してほしいです',\n",
       " '事前注文',\n",
       " '席から頼めたら便利。入金もっと簡単にして欲しいです🥺。(クレカ情報の記憶など)',\n",
       " '混雑状況の確認'}"
      ]
     },
     "execution_count": 25,
     "metadata": {},
     "output_type": "execute_result"
    }
   ],
   "source": [
    "split_and_check_values(df_AppFeature)"
   ]
  },
  {
   "cell_type": "code",
   "execution_count": 26,
   "metadata": {},
   "outputs": [],
   "source": [
    "df_dummy_AppFeature = split_and_to_dummy(df_AppFeature, \n",
    "                                         {'Unanswered': ['Unanswered'], \n",
    "                                          'アプリの軽さ。': [\"Responsiveness\"], \n",
    "                                          'クレカとの紐付け': [\"CreditCard\"], \n",
    "                                          'クーポンの配布': [\"Coupon\"], \n",
    "                                          'ドーナツ情報。ミスドは1週間前にアプリでも通知してほしいです': [\"DonutsInfo\"], \n",
    "                                          '事前注文': [\"PreOrder\"], \n",
    "                                          '席から頼めたら便利。入金もっと簡単にして欲しいです🥺。(クレカ情報の記憶など)': [\"PreOrder\", \"CreditCard\"], \n",
    "                                          '混雑状況の確認': [\"CrowdednessInfo\"]})\n",
    "df_dummy_AppFeature = df_dummy_AppFeature.reindex(columns=['Responsiveness', 'CreditCard', 'Coupon', 'DonutsInfo', \n",
    "                                                           'PreOrder', 'CrowdednessInfo', 'Unanswered'])"
   ]
  },
  {
   "cell_type": "code",
   "execution_count": 27,
   "metadata": {},
   "outputs": [],
   "source": [
    "dfs = [df_forms, df_dummy_WhenG, df_dummy_ReasonUseG, df_dummy_ReasonNotUseG, df_dummy_FreqMenu, \n",
    "       df_dummy_LikeG, df_dummy_DislikeG, df_dummy_ReasonEvsW, df_dummy_ReasonUseApp, \n",
    "       df_dummy_ReasonNotUseApp, df_dummy_AppFeature, df_ImprsG]\n",
    "names = [\"NonDummy\", \"WhenG\", \"ReasonUseG\", \"ReasonNotUseG\", \"FreqMenu\", \"LikeG\", \"DislikeG\", \n",
    "         \"ReasonEvsW\", \"ReasonUseApp\", \"ReasonNotUseApp\", \"AppFeature\", \"ImprsG\"]\n",
    "with pd.ExcelWriter(\"forms_cleaned.xlsx\") as writer:\n",
    "    for df, name in zip(dfs, names):\n",
    "        df.to_excel(writer, sheet_name=name, index=False)"
   ]
  }
 ],
 "metadata": {
  "kernelspec": {
   "display_name": "coop_iot_env",
   "language": "python",
   "name": "python3"
  },
  "language_info": {
   "codemirror_mode": {
    "name": "ipython",
    "version": 3
   },
   "file_extension": ".py",
   "mimetype": "text/x-python",
   "name": "python",
   "nbconvert_exporter": "python",
   "pygments_lexer": "ipython3",
   "version": "3.11.9"
  }
 },
 "nbformat": 4,
 "nbformat_minor": 2
}
