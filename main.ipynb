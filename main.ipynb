{
 "cells": [
  {
   "cell_type": "markdown",
   "metadata": {},
   "source": [
    "### Comments\n",
    " - 一部の質問を除いて、無回答がでないような構造の質問にするべき\n",
    " - はじめに、「生協」、「学食」、「パンショップ」がそれぞれ具体的に何を指しているかを説明すべき\n",
    " - 回答者が内容を追いやすい構造にすべき\n",
    " - 学食についての質問セクション\n",
    "   - 「学食の利用頻度は？」→「なぜ利用する／しない？」→「どの時間帯に利用する？」→「何人で利用する？」→「よく選ぶメニューは？」\n",
    "   - 「学食の良い点／悪い点は？」→「学食の印象は？」\n",
    "   - 「西学食と東学食のどちらが好き？（両方好き／嫌いの選択肢も）」→「なぜ？」\n",
    " - パンショップについての質問セクション\n",
    "   - 「パンショップの利用頻度は？」→「パンはどこで食べる？」\n",
    " - 学食とパンショップの比較についての質問セクション\n",
    "   - 「学食とパンショップのどちらが好き？（両方好き／嫌いの選択肢も）」→「なぜ？」\n",
    " - 生協アプリについての質問セクション\n",
    "   - 「生協アプリ使ってる？」→「なぜ？」→「（利用している人に対し）入金方法は？」→「ほしい機能は？」"
   ]
  },
  {
   "cell_type": "markdown",
   "metadata": {},
   "source": [
    "### Preparation"
   ]
  },
  {
   "cell_type": "code",
   "execution_count": 10,
   "metadata": {},
   "outputs": [],
   "source": [
    "# import libraries\n",
    "import pandas as pd\n",
    "from pandas import DataFrame\n",
    "import matplotlib.pyplot as plt"
   ]
  },
  {
   "cell_type": "code",
   "execution_count": 11,
   "metadata": {},
   "outputs": [],
   "source": [
    "# choose a file and read it as a dataframe\n",
    "df = pd.read_csv(\"forms_0620.csv\", encoding=\"utf-8\")"
   ]
  },
  {
   "cell_type": "code",
   "execution_count": 12,
   "metadata": {},
   "outputs": [],
   "source": [
    "# modify column names\n",
    "\n",
    "# f2_no3: face-to-face class at 2nd and no class at 3rd\n",
    "# no2_f3: no class at 2nd and face-to-face class at 3rd\n",
    "# f2_f3: face-to-face class at 2nd and 3rd\n",
    "columns = [\"timestamp\", \n",
    "           \"grade\", \n",
    "           \"faculty\", \n",
    "           \"sex\", \n",
    "           \"living\", \n",
    "           \"f2_no3\", \n",
    "           \"no2_f3\", \n",
    "           \"f2_f3\", \n",
    "           \"frequency_c\", \n",
    "           \"average_payment\", \n",
    "           \"when_to_use\", \n",
    "           \"n_of_people\", \n",
    "           \"reasons_for_using_c\", \n",
    "           \"reasons_for_not_using_c\", \n",
    "           \"frequently_chose_menu\", \n",
    "           \"good_points_of_c\", \n",
    "           \"bad_points_of_c\", \n",
    "           \"impression_of_c\", \n",
    "           \"frequency_b\", \n",
    "           \"preference_b_vs_c\", \n",
    "           \"where_to_eat_b\", \n",
    "           \"preference_e_vs_w\", \n",
    "           \"reasons_e_vs_w\", \n",
    "           \"using_app\", \n",
    "           \"reasons_for_using_app\", \n",
    "           \"how_to_deposit\", \n",
    "           \"reasons_for_not_using_app\", \n",
    "           \"desirable_features\"]\n",
    "\n",
    "df1 = df.set_axis(columns, axis=\"columns\", copy=True)\n",
    "df2 = df1.drop(columns=\"timestamp\")"
   ]
  },
  {
   "cell_type": "code",
   "execution_count": 13,
   "metadata": {},
   "outputs": [
    {
     "data": {
      "text/html": [
       "<div>\n",
       "<style scoped>\n",
       "    .dataframe tbody tr th:only-of-type {\n",
       "        vertical-align: middle;\n",
       "    }\n",
       "\n",
       "    .dataframe tbody tr th {\n",
       "        vertical-align: top;\n",
       "    }\n",
       "\n",
       "    .dataframe thead th {\n",
       "        text-align: right;\n",
       "    }\n",
       "</style>\n",
       "<table border=\"1\" class=\"dataframe\">\n",
       "  <thead>\n",
       "    <tr style=\"text-align: right;\">\n",
       "      <th></th>\n",
       "      <th>grade</th>\n",
       "      <th>faculty</th>\n",
       "      <th>sex</th>\n",
       "      <th>living</th>\n",
       "      <th>f2_no3</th>\n",
       "      <th>no2_f3</th>\n",
       "      <th>f2_f3</th>\n",
       "      <th>frequency_c</th>\n",
       "      <th>average_payment</th>\n",
       "      <th>when_to_use</th>\n",
       "      <th>...</th>\n",
       "      <th>frequency_b</th>\n",
       "      <th>preference_b_vs_c</th>\n",
       "      <th>where_to_eat_b</th>\n",
       "      <th>preference_e_vs_w</th>\n",
       "      <th>reasons_e_vs_w</th>\n",
       "      <th>using_app</th>\n",
       "      <th>reasons_for_using_app</th>\n",
       "      <th>how_to_deposit</th>\n",
       "      <th>reasons_for_not_using_app</th>\n",
       "      <th>desirable_features</th>\n",
       "    </tr>\n",
       "  </thead>\n",
       "  <tbody>\n",
       "    <tr>\n",
       "      <th>0</th>\n",
       "      <td>学部3年</td>\n",
       "      <td>商学部</td>\n",
       "      <td>男性</td>\n",
       "      <td>一人暮らし（自炊をする）</td>\n",
       "      <td>なし</td>\n",
       "      <td>なし</td>\n",
       "      <td>なし</td>\n",
       "      <td>0回</td>\n",
       "      <td>500円〜800円</td>\n",
       "      <td>利用しない</td>\n",
       "      <td>...</td>\n",
       "      <td>週０回</td>\n",
       "      <td>パンショップ</td>\n",
       "      <td>次の授業の教室</td>\n",
       "      <td>西学食</td>\n",
       "      <td>立地</td>\n",
       "      <td>いいえ</td>\n",
       "      <td>NaN</td>\n",
       "      <td>NaN</td>\n",
       "      <td>入金が面倒だから, 使用が面倒だから, 利用価値を感じないから</td>\n",
       "      <td>事前注文</td>\n",
       "    </tr>\n",
       "    <tr>\n",
       "      <th>1</th>\n",
       "      <td>学部4年</td>\n",
       "      <td>商学部</td>\n",
       "      <td>男性</td>\n",
       "      <td>一人暮らし（自炊をしない）</td>\n",
       "      <td>なし</td>\n",
       "      <td>週１回</td>\n",
       "      <td>なし</td>\n",
       "      <td>0回</td>\n",
       "      <td>利用しない</td>\n",
       "      <td>利用しない</td>\n",
       "      <td>...</td>\n",
       "      <td>週０回</td>\n",
       "      <td>どちらも好きではない</td>\n",
       "      <td>学食内の席</td>\n",
       "      <td>どちらも好きではない</td>\n",
       "      <td>NaN</td>\n",
       "      <td>はい</td>\n",
       "      <td>支払いが便利</td>\n",
       "      <td>クレカ入金（自分のお金）</td>\n",
       "      <td>利用している</td>\n",
       "      <td>事前注文</td>\n",
       "    </tr>\n",
       "    <tr>\n",
       "      <th>2</th>\n",
       "      <td>学部3年</td>\n",
       "      <td>商学部</td>\n",
       "      <td>男性</td>\n",
       "      <td>実家暮らし</td>\n",
       "      <td>なし</td>\n",
       "      <td>週２回</td>\n",
       "      <td>なし</td>\n",
       "      <td>0回</td>\n",
       "      <td>500円〜800円</td>\n",
       "      <td>11:30~11:45, 11:45~12:00, 12:00~12:15, 12:15~1...</td>\n",
       "      <td>...</td>\n",
       "      <td>週０回</td>\n",
       "      <td>学食</td>\n",
       "      <td>学食内の席</td>\n",
       "      <td>東学食</td>\n",
       "      <td>メニュー数が多い</td>\n",
       "      <td>いいえ</td>\n",
       "      <td>NaN</td>\n",
       "      <td>NaN</td>\n",
       "      <td>利用価値を感じないから</td>\n",
       "      <td>クーポンの配布</td>\n",
       "    </tr>\n",
       "    <tr>\n",
       "      <th>3</th>\n",
       "      <td>学部3年</td>\n",
       "      <td>商学部</td>\n",
       "      <td>男性</td>\n",
       "      <td>一人暮らし（自炊をする）</td>\n",
       "      <td>なし</td>\n",
       "      <td>週１回</td>\n",
       "      <td>なし</td>\n",
       "      <td>２〜３回</td>\n",
       "      <td>300円〜500円</td>\n",
       "      <td>12:45~13:00, 夜営業</td>\n",
       "      <td>...</td>\n",
       "      <td>週１回</td>\n",
       "      <td>学食</td>\n",
       "      <td>その他教室</td>\n",
       "      <td>東学食</td>\n",
       "      <td>席数が多い, メニュー数が多い, 混んでいない気がする, 雰囲気</td>\n",
       "      <td>いいえ</td>\n",
       "      <td>NaN</td>\n",
       "      <td>NaN</td>\n",
       "      <td>使用方法を知らないから</td>\n",
       "      <td>クーポンの配布</td>\n",
       "    </tr>\n",
       "    <tr>\n",
       "      <th>4</th>\n",
       "      <td>学部2年</td>\n",
       "      <td>社会学部</td>\n",
       "      <td>女性</td>\n",
       "      <td>実家暮らし</td>\n",
       "      <td>なし</td>\n",
       "      <td>週２回</td>\n",
       "      <td>週１回</td>\n",
       "      <td>１回</td>\n",
       "      <td>300円〜500円</td>\n",
       "      <td>パンショップのみ利用, 12:00~12:15, 12:15~12:30</td>\n",
       "      <td>...</td>\n",
       "      <td>週２〜３回</td>\n",
       "      <td>パンショップ</td>\n",
       "      <td>次の授業の教室</td>\n",
       "      <td>東学食</td>\n",
       "      <td>席数が多い, メニュー数が多い</td>\n",
       "      <td>いいえ</td>\n",
       "      <td>NaN</td>\n",
       "      <td>NaN</td>\n",
       "      <td>入金が面倒だから</td>\n",
       "      <td>クーポンの配布</td>\n",
       "    </tr>\n",
       "  </tbody>\n",
       "</table>\n",
       "<p>5 rows × 27 columns</p>\n",
       "</div>"
      ],
      "text/plain": [
       "  grade faculty sex         living f2_no3 no2_f3 f2_f3 frequency_c  \\\n",
       "0  学部3年     商学部  男性   一人暮らし（自炊をする）     なし     なし    なし          0回   \n",
       "1  学部4年     商学部  男性  一人暮らし（自炊をしない）     なし    週１回    なし          0回   \n",
       "2  学部3年     商学部  男性          実家暮らし     なし    週２回    なし          0回   \n",
       "3  学部3年     商学部  男性   一人暮らし（自炊をする）     なし    週１回    なし        ２〜３回   \n",
       "4  学部2年    社会学部  女性          実家暮らし     なし    週２回   週１回          １回   \n",
       "\n",
       "  average_payment                                        when_to_use  ...  \\\n",
       "0       500円〜800円                                              利用しない  ...   \n",
       "1           利用しない                                              利用しない  ...   \n",
       "2       500円〜800円  11:30~11:45, 11:45~12:00, 12:00~12:15, 12:15~1...  ...   \n",
       "3       300円〜500円                                   12:45~13:00, 夜営業  ...   \n",
       "4       300円〜500円               パンショップのみ利用, 12:00~12:15, 12:15~12:30  ...   \n",
       "\n",
       "  frequency_b preference_b_vs_c where_to_eat_b preference_e_vs_w  \\\n",
       "0         週０回            パンショップ        次の授業の教室               西学食   \n",
       "1         週０回        どちらも好きではない          学食内の席        どちらも好きではない   \n",
       "2         週０回                学食          学食内の席               東学食   \n",
       "3         週１回                学食          その他教室               東学食   \n",
       "4       週２〜３回            パンショップ        次の授業の教室               東学食   \n",
       "\n",
       "                     reasons_e_vs_w using_app reasons_for_using_app  \\\n",
       "0                                立地       いいえ                   NaN   \n",
       "1                               NaN        はい                支払いが便利   \n",
       "2                          メニュー数が多い       いいえ                   NaN   \n",
       "3  席数が多い, メニュー数が多い, 混んでいない気がする, 雰囲気       いいえ                   NaN   \n",
       "4                   席数が多い, メニュー数が多い       いいえ                   NaN   \n",
       "\n",
       "  how_to_deposit        reasons_for_not_using_app desirable_features  \n",
       "0            NaN  入金が面倒だから, 使用が面倒だから, 利用価値を感じないから               事前注文  \n",
       "1   クレカ入金（自分のお金）                           利用している               事前注文  \n",
       "2            NaN                      利用価値を感じないから            クーポンの配布  \n",
       "3            NaN                      使用方法を知らないから            クーポンの配布  \n",
       "4            NaN                         入金が面倒だから            クーポンの配布  \n",
       "\n",
       "[5 rows x 27 columns]"
      ]
     },
     "execution_count": 13,
     "metadata": {},
     "output_type": "execute_result"
    }
   ],
   "source": [
    "df2.head()"
   ]
  },
  {
   "cell_type": "code",
   "execution_count": 14,
   "metadata": {},
   "outputs": [
    {
     "name": "stdout",
     "output_type": "stream",
     "text": [
      "<class 'pandas.core.frame.DataFrame'>\n",
      "RangeIndex: 96 entries, 0 to 95\n",
      "Data columns (total 27 columns):\n",
      " #   Column                     Non-Null Count  Dtype \n",
      "---  ------                     --------------  ----- \n",
      " 0   grade                      96 non-null     object\n",
      " 1   faculty                    96 non-null     object\n",
      " 2   sex                        96 non-null     object\n",
      " 3   living                     96 non-null     object\n",
      " 4   f2_no3                     96 non-null     object\n",
      " 5   no2_f3                     96 non-null     object\n",
      " 6   f2_f3                      96 non-null     object\n",
      " 7   frequency_c                96 non-null     object\n",
      " 8   average_payment            96 non-null     object\n",
      " 9   when_to_use                96 non-null     object\n",
      " 10  n_of_people                96 non-null     object\n",
      " 11  reasons_for_using_c        96 non-null     object\n",
      " 12  reasons_for_not_using_c    96 non-null     object\n",
      " 13  frequently_chose_menu      96 non-null     object\n",
      " 14  good_points_of_c           88 non-null     object\n",
      " 15  bad_points_of_c            96 non-null     object\n",
      " 16  impression_of_c            96 non-null     object\n",
      " 17  frequency_b                96 non-null     object\n",
      " 18  preference_b_vs_c          96 non-null     object\n",
      " 19  where_to_eat_b             82 non-null     object\n",
      " 20  preference_e_vs_w          96 non-null     object\n",
      " 21  reasons_e_vs_w             86 non-null     object\n",
      " 22  using_app                  96 non-null     object\n",
      " 23  reasons_for_using_app      38 non-null     object\n",
      " 24  how_to_deposit             38 non-null     object\n",
      " 25  reasons_for_not_using_app  96 non-null     object\n",
      " 26  desirable_features         73 non-null     object\n",
      "dtypes: object(27)\n",
      "memory usage: 20.4+ KB\n"
     ]
    }
   ],
   "source": [
    "df2.info()"
   ]
  },
  {
   "cell_type": "markdown",
   "metadata": {},
   "source": [
    "### Define functions"
   ]
  },
  {
   "cell_type": "code",
   "execution_count": 15,
   "metadata": {},
   "outputs": [],
   "source": [
    "def modify_values_dummy(df: DataFrame, column_name: str, original_values: list, new_values: list):\n",
    "    r, _ = df.shape\n",
    "    result = [[0] * len(original_values) for _ in range(r)]\n",
    "    for i in range(r):\n",
    "        value = df[column_name][i]\n",
    "        idx = original_values.index(value)\n",
    "        result[i][idx] = 1\n",
    "    df_result = pd.DataFrame(data=result, columns=new_values)\n",
    "    return df_result"
   ]
  },
  {
   "cell_type": "code",
   "execution_count": 16,
   "metadata": {},
   "outputs": [],
   "source": [
    "def modify_values_dummies(df: DataFrame, column_name: str, original_values: list, new_values: list):\n",
    "    r, _ = df.shape\n",
    "    result = [[0] * len(original_values) for _ in range(r)]\n",
    "    for i in range(r):\n",
    "        values = df[column_name][i].split(\", \")\n",
    "        for value in values:\n",
    "            idx = original_values.index(value)\n",
    "            result[i][idx] = 1\n",
    "    df_result = pd.DataFrame(data=result, columns=new_values)\n",
    "    return df_result"
   ]
  },
  {
   "cell_type": "code",
   "execution_count": 17,
   "metadata": {},
   "outputs": [],
   "source": [
    "def modify_values_ordinal_scale(df: DataFrame, column_name: str, original_values: list):\n",
    "    r, _ = df.shape\n",
    "    result = [0] * r\n",
    "    for i in range(r):\n",
    "        value = df[column_name][i]\n",
    "        result[i] = original_values.index(value)\n",
    "    df_result = pd.DataFrame(data=result, columns=[column_name])\n",
    "    return df_result"
   ]
  },
  {
   "cell_type": "markdown",
   "metadata": {},
   "source": [
    "### grade（回答必須）"
   ]
  },
  {
   "cell_type": "code",
   "execution_count": 18,
   "metadata": {},
   "outputs": [
    {
     "name": "stdout",
     "output_type": "stream",
     "text": [
      "{'学部4年', '院生', '学部2年', '学部3年', '学部1年'}\n"
     ]
    }
   ],
   "source": [
    "print(set(df2[\"grade\"]))"
   ]
  },
  {
   "cell_type": "code",
   "execution_count": 19,
   "metadata": {},
   "outputs": [
    {
     "data": {
      "text/html": [
       "<div>\n",
       "<style scoped>\n",
       "    .dataframe tbody tr th:only-of-type {\n",
       "        vertical-align: middle;\n",
       "    }\n",
       "\n",
       "    .dataframe tbody tr th {\n",
       "        vertical-align: top;\n",
       "    }\n",
       "\n",
       "    .dataframe thead th {\n",
       "        text-align: right;\n",
       "    }\n",
       "</style>\n",
       "<table border=\"1\" class=\"dataframe\">\n",
       "  <thead>\n",
       "    <tr style=\"text-align: right;\">\n",
       "      <th></th>\n",
       "      <th>B1</th>\n",
       "      <th>B2</th>\n",
       "      <th>B3</th>\n",
       "      <th>B4</th>\n",
       "      <th>Grad</th>\n",
       "    </tr>\n",
       "  </thead>\n",
       "  <tbody>\n",
       "    <tr>\n",
       "      <th>0</th>\n",
       "      <td>0</td>\n",
       "      <td>0</td>\n",
       "      <td>1</td>\n",
       "      <td>0</td>\n",
       "      <td>0</td>\n",
       "    </tr>\n",
       "    <tr>\n",
       "      <th>1</th>\n",
       "      <td>0</td>\n",
       "      <td>0</td>\n",
       "      <td>0</td>\n",
       "      <td>1</td>\n",
       "      <td>0</td>\n",
       "    </tr>\n",
       "    <tr>\n",
       "      <th>2</th>\n",
       "      <td>0</td>\n",
       "      <td>0</td>\n",
       "      <td>1</td>\n",
       "      <td>0</td>\n",
       "      <td>0</td>\n",
       "    </tr>\n",
       "    <tr>\n",
       "      <th>3</th>\n",
       "      <td>0</td>\n",
       "      <td>0</td>\n",
       "      <td>1</td>\n",
       "      <td>0</td>\n",
       "      <td>0</td>\n",
       "    </tr>\n",
       "    <tr>\n",
       "      <th>4</th>\n",
       "      <td>0</td>\n",
       "      <td>1</td>\n",
       "      <td>0</td>\n",
       "      <td>0</td>\n",
       "      <td>0</td>\n",
       "    </tr>\n",
       "  </tbody>\n",
       "</table>\n",
       "</div>"
      ],
      "text/plain": [
       "   B1  B2  B3  B4  Grad\n",
       "0   0   0   1   0     0\n",
       "1   0   0   0   1     0\n",
       "2   0   0   1   0     0\n",
       "3   0   0   1   0     0\n",
       "4   0   1   0   0     0"
      ]
     },
     "execution_count": 19,
     "metadata": {},
     "output_type": "execute_result"
    }
   ],
   "source": [
    "# modify grade \n",
    "original = [\"学部1年\", \"学部2年\", \"学部3年\", \"学部4年\", \"院生\"]\n",
    "# Grad: graduate\n",
    "new = [\"B1\", \"B2\", \"B3\", \"B4\", \"Grad\"]\n",
    "df_grade = modify_values_dummy(df2, \"grade\", original, new)\n",
    "df_grade.head()"
   ]
  },
  {
   "cell_type": "code",
   "execution_count": null,
   "metadata": {},
   "outputs": [],
   "source": [
    "# 院生どうする問題"
   ]
  },
  {
   "cell_type": "markdown",
   "metadata": {},
   "source": [
    "### faculty（回答必須）"
   ]
  },
  {
   "cell_type": "code",
   "execution_count": 20,
   "metadata": {},
   "outputs": [
    {
     "name": "stdout",
     "output_type": "stream",
     "text": [
      "{'商学部', '大学院', '経済学部', 'ソーシャル・データ・サイエンス学部', '法学部', '社会学部'}\n"
     ]
    }
   ],
   "source": [
    "print(set(df2[\"faculty\"]))"
   ]
  },
  {
   "cell_type": "code",
   "execution_count": 21,
   "metadata": {},
   "outputs": [
    {
     "data": {
      "text/html": [
       "<div>\n",
       "<style scoped>\n",
       "    .dataframe tbody tr th:only-of-type {\n",
       "        vertical-align: middle;\n",
       "    }\n",
       "\n",
       "    .dataframe tbody tr th {\n",
       "        vertical-align: top;\n",
       "    }\n",
       "\n",
       "    .dataframe thead th {\n",
       "        text-align: right;\n",
       "    }\n",
       "</style>\n",
       "<table border=\"1\" class=\"dataframe\">\n",
       "  <thead>\n",
       "    <tr style=\"text-align: right;\">\n",
       "      <th></th>\n",
       "      <th>Com</th>\n",
       "      <th>Econ</th>\n",
       "      <th>Law</th>\n",
       "      <th>Soc</th>\n",
       "      <th>SDS</th>\n",
       "      <th>Grad</th>\n",
       "    </tr>\n",
       "  </thead>\n",
       "  <tbody>\n",
       "    <tr>\n",
       "      <th>0</th>\n",
       "      <td>1</td>\n",
       "      <td>0</td>\n",
       "      <td>0</td>\n",
       "      <td>0</td>\n",
       "      <td>0</td>\n",
       "      <td>0</td>\n",
       "    </tr>\n",
       "    <tr>\n",
       "      <th>1</th>\n",
       "      <td>1</td>\n",
       "      <td>0</td>\n",
       "      <td>0</td>\n",
       "      <td>0</td>\n",
       "      <td>0</td>\n",
       "      <td>0</td>\n",
       "    </tr>\n",
       "    <tr>\n",
       "      <th>2</th>\n",
       "      <td>1</td>\n",
       "      <td>0</td>\n",
       "      <td>0</td>\n",
       "      <td>0</td>\n",
       "      <td>0</td>\n",
       "      <td>0</td>\n",
       "    </tr>\n",
       "    <tr>\n",
       "      <th>3</th>\n",
       "      <td>1</td>\n",
       "      <td>0</td>\n",
       "      <td>0</td>\n",
       "      <td>0</td>\n",
       "      <td>0</td>\n",
       "      <td>0</td>\n",
       "    </tr>\n",
       "    <tr>\n",
       "      <th>4</th>\n",
       "      <td>0</td>\n",
       "      <td>0</td>\n",
       "      <td>0</td>\n",
       "      <td>1</td>\n",
       "      <td>0</td>\n",
       "      <td>0</td>\n",
       "    </tr>\n",
       "  </tbody>\n",
       "</table>\n",
       "</div>"
      ],
      "text/plain": [
       "   Com  Econ  Law  Soc  SDS  Grad\n",
       "0    1     0    0    0    0     0\n",
       "1    1     0    0    0    0     0\n",
       "2    1     0    0    0    0     0\n",
       "3    1     0    0    0    0     0\n",
       "4    0     0    0    1    0     0"
      ]
     },
     "execution_count": 21,
     "metadata": {},
     "output_type": "execute_result"
    }
   ],
   "source": [
    "# modify faculty\n",
    "original = [\"商学部\", \"経済学部\", \"法学部\", \"社会学部\", \"ソーシャル・データ・サイエンス学部\", \"大学院\"]\n",
    "new = [\"Com\", \"Econ\", \"Law\", \"Soc\", \"SDS\", \"Grad\"]\n",
    "df_faculty = modify_values_dummy(df2, \"faculty\", original, new)\n",
    "df_faculty.head()"
   ]
  },
  {
   "cell_type": "code",
   "execution_count": null,
   "metadata": {},
   "outputs": [],
   "source": [
    "# 院生どうする問題"
   ]
  },
  {
   "cell_type": "markdown",
   "metadata": {},
   "source": [
    "### sex（回答必須）"
   ]
  },
  {
   "cell_type": "code",
   "execution_count": 22,
   "metadata": {},
   "outputs": [
    {
     "name": "stdout",
     "output_type": "stream",
     "text": [
      "{'女性', '男性'}\n"
     ]
    }
   ],
   "source": [
    "print(set(df2[\"sex\"]))"
   ]
  },
  {
   "cell_type": "code",
   "execution_count": 23,
   "metadata": {},
   "outputs": [
    {
     "data": {
      "text/html": [
       "<div>\n",
       "<style scoped>\n",
       "    .dataframe tbody tr th:only-of-type {\n",
       "        vertical-align: middle;\n",
       "    }\n",
       "\n",
       "    .dataframe tbody tr th {\n",
       "        vertical-align: top;\n",
       "    }\n",
       "\n",
       "    .dataframe thead th {\n",
       "        text-align: right;\n",
       "    }\n",
       "</style>\n",
       "<table border=\"1\" class=\"dataframe\">\n",
       "  <thead>\n",
       "    <tr style=\"text-align: right;\">\n",
       "      <th></th>\n",
       "      <th>f</th>\n",
       "      <th>m</th>\n",
       "    </tr>\n",
       "  </thead>\n",
       "  <tbody>\n",
       "    <tr>\n",
       "      <th>0</th>\n",
       "      <td>0</td>\n",
       "      <td>1</td>\n",
       "    </tr>\n",
       "    <tr>\n",
       "      <th>1</th>\n",
       "      <td>0</td>\n",
       "      <td>1</td>\n",
       "    </tr>\n",
       "    <tr>\n",
       "      <th>2</th>\n",
       "      <td>0</td>\n",
       "      <td>1</td>\n",
       "    </tr>\n",
       "    <tr>\n",
       "      <th>3</th>\n",
       "      <td>0</td>\n",
       "      <td>1</td>\n",
       "    </tr>\n",
       "    <tr>\n",
       "      <th>4</th>\n",
       "      <td>1</td>\n",
       "      <td>0</td>\n",
       "    </tr>\n",
       "  </tbody>\n",
       "</table>\n",
       "</div>"
      ],
      "text/plain": [
       "   f  m\n",
       "0  0  1\n",
       "1  0  1\n",
       "2  0  1\n",
       "3  0  1\n",
       "4  1  0"
      ]
     },
     "execution_count": 23,
     "metadata": {},
     "output_type": "execute_result"
    }
   ],
   "source": [
    "# modify sex\n",
    "original = [\"女性\", \"男性\"]\n",
    "new = [\"female\", \"male\"]\n",
    "df_sex = modify_values_dummy(df2, \"sex\", original, new)\n",
    "df_sex.head()"
   ]
  },
  {
   "cell_type": "markdown",
   "metadata": {},
   "source": [
    "### living（回答必須）"
   ]
  },
  {
   "cell_type": "code",
   "execution_count": 24,
   "metadata": {},
   "outputs": [
    {
     "name": "stdout",
     "output_type": "stream",
     "text": [
      "{'一人暮らし（自炊をする）', '寮暮らし（食事が出る）', '実家暮らし', '一人暮らし（自炊をしない）', '寮暮らし（食事が出ない）'}\n"
     ]
    }
   ],
   "source": [
    "print(set(df2[\"living\"]))"
   ]
  },
  {
   "cell_type": "code",
   "execution_count": 25,
   "metadata": {},
   "outputs": [
    {
     "data": {
      "text/html": [
       "<div>\n",
       "<style scoped>\n",
       "    .dataframe tbody tr th:only-of-type {\n",
       "        vertical-align: middle;\n",
       "    }\n",
       "\n",
       "    .dataframe tbody tr th {\n",
       "        vertical-align: top;\n",
       "    }\n",
       "\n",
       "    .dataframe thead th {\n",
       "        text-align: right;\n",
       "    }\n",
       "</style>\n",
       "<table border=\"1\" class=\"dataframe\">\n",
       "  <thead>\n",
       "    <tr style=\"text-align: right;\">\n",
       "      <th></th>\n",
       "      <th>LP</th>\n",
       "      <th>LM_c</th>\n",
       "      <th>LM_not_c</th>\n",
       "      <th>D_m</th>\n",
       "      <th>D_no_m</th>\n",
       "    </tr>\n",
       "  </thead>\n",
       "  <tbody>\n",
       "    <tr>\n",
       "      <th>0</th>\n",
       "      <td>0</td>\n",
       "      <td>1</td>\n",
       "      <td>0</td>\n",
       "      <td>0</td>\n",
       "      <td>0</td>\n",
       "    </tr>\n",
       "    <tr>\n",
       "      <th>1</th>\n",
       "      <td>0</td>\n",
       "      <td>0</td>\n",
       "      <td>1</td>\n",
       "      <td>0</td>\n",
       "      <td>0</td>\n",
       "    </tr>\n",
       "    <tr>\n",
       "      <th>2</th>\n",
       "      <td>1</td>\n",
       "      <td>0</td>\n",
       "      <td>0</td>\n",
       "      <td>0</td>\n",
       "      <td>0</td>\n",
       "    </tr>\n",
       "    <tr>\n",
       "      <th>3</th>\n",
       "      <td>0</td>\n",
       "      <td>1</td>\n",
       "      <td>0</td>\n",
       "      <td>0</td>\n",
       "      <td>0</td>\n",
       "    </tr>\n",
       "    <tr>\n",
       "      <th>4</th>\n",
       "      <td>1</td>\n",
       "      <td>0</td>\n",
       "      <td>0</td>\n",
       "      <td>0</td>\n",
       "      <td>0</td>\n",
       "    </tr>\n",
       "  </tbody>\n",
       "</table>\n",
       "</div>"
      ],
      "text/plain": [
       "   LP  LM_c  LM_not_c  D_m  D_no_m\n",
       "0   0     1         0    0       0\n",
       "1   0     0         1    0       0\n",
       "2   1     0         0    0       0\n",
       "3   0     1         0    0       0\n",
       "4   1     0         0    0       0"
      ]
     },
     "execution_count": 25,
     "metadata": {},
     "output_type": "execute_result"
    }
   ],
   "source": [
    "# modify living\n",
    "original = [\"実家暮らし\", \"一人暮らし（自炊をする）\", \"一人暮らし（自炊をしない）\", \"寮暮らし（食事が出る）\", \"寮暮らし（食事が出ない）\"]\n",
    "# LP: Living with parents\n",
    "# LM_c: Living by Myself (cooking)\n",
    "# LM_not_c Living by Myself (not cooking)\n",
    "# D_m: Dormitory (meal)\n",
    "# D_no_m) : Dormitory (no meal)\n",
    "new = [\"LP\", \"LM_c\", \"LM_not_c\", \"D_m\", \"D_no_m\"]\n",
    "df_living = modify_values_dummy(df2, \"living\", original, new)\n",
    "df_living.head()"
   ]
  },
  {
   "cell_type": "markdown",
   "metadata": {},
   "source": [
    "### f2_no3, no2_f3, f2_f3（いずれも回答必須）"
   ]
  },
  {
   "cell_type": "code",
   "execution_count": 26,
   "metadata": {},
   "outputs": [
    {
     "name": "stdout",
     "output_type": "stream",
     "text": [
      "{'週２回', 'なし', '週１回', '週５回', '週３回'}\n"
     ]
    }
   ],
   "source": [
    "print(set(df2[\"f2_no3\"]))"
   ]
  },
  {
   "cell_type": "code",
   "execution_count": 27,
   "metadata": {},
   "outputs": [
    {
     "name": "stdout",
     "output_type": "stream",
     "text": [
      "{'週１回', '週２回', '週３回', 'なし'}\n"
     ]
    }
   ],
   "source": [
    "print(set(df2[\"no2_f3\"]))"
   ]
  },
  {
   "cell_type": "code",
   "execution_count": 28,
   "metadata": {},
   "outputs": [
    {
     "name": "stdout",
     "output_type": "stream",
     "text": [
      "{'週２回', 'なし', '週１回', '週４回', '週５回', '週３回'}\n"
     ]
    }
   ],
   "source": [
    "print(set(df2[\"f2_f3\"]))"
   ]
  },
  {
   "cell_type": "code",
   "execution_count": 29,
   "metadata": {},
   "outputs": [
    {
     "data": {
      "text/html": [
       "<div>\n",
       "<style scoped>\n",
       "    .dataframe tbody tr th:only-of-type {\n",
       "        vertical-align: middle;\n",
       "    }\n",
       "\n",
       "    .dataframe tbody tr th {\n",
       "        vertical-align: top;\n",
       "    }\n",
       "\n",
       "    .dataframe thead th {\n",
       "        text-align: right;\n",
       "    }\n",
       "</style>\n",
       "<table border=\"1\" class=\"dataframe\">\n",
       "  <thead>\n",
       "    <tr style=\"text-align: right;\">\n",
       "      <th></th>\n",
       "      <th>f2_no3</th>\n",
       "      <th>no2_f3</th>\n",
       "      <th>f2_f3</th>\n",
       "    </tr>\n",
       "  </thead>\n",
       "  <tbody>\n",
       "    <tr>\n",
       "      <th>0</th>\n",
       "      <td>0</td>\n",
       "      <td>0</td>\n",
       "      <td>0</td>\n",
       "    </tr>\n",
       "    <tr>\n",
       "      <th>1</th>\n",
       "      <td>0</td>\n",
       "      <td>1</td>\n",
       "      <td>0</td>\n",
       "    </tr>\n",
       "    <tr>\n",
       "      <th>2</th>\n",
       "      <td>0</td>\n",
       "      <td>2</td>\n",
       "      <td>0</td>\n",
       "    </tr>\n",
       "    <tr>\n",
       "      <th>3</th>\n",
       "      <td>0</td>\n",
       "      <td>1</td>\n",
       "      <td>0</td>\n",
       "    </tr>\n",
       "    <tr>\n",
       "      <th>4</th>\n",
       "      <td>0</td>\n",
       "      <td>2</td>\n",
       "      <td>1</td>\n",
       "    </tr>\n",
       "  </tbody>\n",
       "</table>\n",
       "</div>"
      ],
      "text/plain": [
       "   f2_no3  no2_f3  f2_f3\n",
       "0       0       0      0\n",
       "1       0       1      0\n",
       "2       0       2      0\n",
       "3       0       1      0\n",
       "4       0       2      1"
      ]
     },
     "execution_count": 29,
     "metadata": {},
     "output_type": "execute_result"
    }
   ],
   "source": [
    "# modify f2_no3, no2_f3, f2_f3\n",
    "r, _ = df2.shape\n",
    "original = [\"なし\", \"週１回\", \"週２回\", \"週３回\", \"週４回\", \"週５回\"]\n",
    "column_names = [\"f2_no3\", \"no2_f3\", \"f2_f3\"]\n",
    "result = [[0] * 3 for _ in range(r)]\n",
    "for i in range(r):\n",
    "    for j in range(4, 7):\n",
    "        result[i][j - 4] = original.index(df2.iloc[i, j])\n",
    "df_class = pd.DataFrame(data=result, columns=column_names)\n",
    "df_class.head()"
   ]
  },
  {
   "cell_type": "markdown",
   "metadata": {},
   "source": [
    "### frequency_c（回答必須）"
   ]
  },
  {
   "cell_type": "code",
   "execution_count": 30,
   "metadata": {},
   "outputs": [
    {
     "name": "stdout",
     "output_type": "stream",
     "text": [
      "{'４回以上', '２〜３回', '0回', '１回'}\n"
     ]
    }
   ],
   "source": [
    "print(set(df2[\"frequency_c\"]))"
   ]
  },
  {
   "cell_type": "code",
   "execution_count": 31,
   "metadata": {},
   "outputs": [
    {
     "data": {
      "text/html": [
       "<div>\n",
       "<style scoped>\n",
       "    .dataframe tbody tr th:only-of-type {\n",
       "        vertical-align: middle;\n",
       "    }\n",
       "\n",
       "    .dataframe tbody tr th {\n",
       "        vertical-align: top;\n",
       "    }\n",
       "\n",
       "    .dataframe thead th {\n",
       "        text-align: right;\n",
       "    }\n",
       "</style>\n",
       "<table border=\"1\" class=\"dataframe\">\n",
       "  <thead>\n",
       "    <tr style=\"text-align: right;\">\n",
       "      <th></th>\n",
       "      <th>frequency_c</th>\n",
       "    </tr>\n",
       "  </thead>\n",
       "  <tbody>\n",
       "    <tr>\n",
       "      <th>0</th>\n",
       "      <td>0</td>\n",
       "    </tr>\n",
       "    <tr>\n",
       "      <th>1</th>\n",
       "      <td>0</td>\n",
       "    </tr>\n",
       "    <tr>\n",
       "      <th>2</th>\n",
       "      <td>0</td>\n",
       "    </tr>\n",
       "    <tr>\n",
       "      <th>3</th>\n",
       "      <td>2</td>\n",
       "    </tr>\n",
       "    <tr>\n",
       "      <th>4</th>\n",
       "      <td>1</td>\n",
       "    </tr>\n",
       "  </tbody>\n",
       "</table>\n",
       "</div>"
      ],
      "text/plain": [
       "   frequency_c\n",
       "0            0\n",
       "1            0\n",
       "2            0\n",
       "3            2\n",
       "4            1"
      ]
     },
     "execution_count": 31,
     "metadata": {},
     "output_type": "execute_result"
    }
   ],
   "source": [
    "# modify frequency_c\n",
    "# ordinal scale\n",
    "original = [\"0回\", \"１回\", \"２〜３回\", \"４回以上\"]\n",
    "df_frequency_c = modify_values_ordinal_scale(df2, \"frequency_c\", original)\n",
    "df_frequency_c.head()"
   ]
  },
  {
   "cell_type": "markdown",
   "metadata": {},
   "source": [
    "### average_payment（回答必須）"
   ]
  },
  {
   "cell_type": "code",
   "execution_count": 32,
   "metadata": {},
   "outputs": [
    {
     "name": "stdout",
     "output_type": "stream",
     "text": [
      "{'800円〜1000円', '500円〜800円', '1000円〜', '〜300円', '利用しない', '300円〜500円'}\n"
     ]
    }
   ],
   "source": [
    "print(set(df2[\"average_payment\"]))"
   ]
  },
  {
   "cell_type": "code",
   "execution_count": 33,
   "metadata": {},
   "outputs": [
    {
     "data": {
      "text/html": [
       "<div>\n",
       "<style scoped>\n",
       "    .dataframe tbody tr th:only-of-type {\n",
       "        vertical-align: middle;\n",
       "    }\n",
       "\n",
       "    .dataframe tbody tr th {\n",
       "        vertical-align: top;\n",
       "    }\n",
       "\n",
       "    .dataframe thead th {\n",
       "        text-align: right;\n",
       "    }\n",
       "</style>\n",
       "<table border=\"1\" class=\"dataframe\">\n",
       "  <thead>\n",
       "    <tr style=\"text-align: right;\">\n",
       "      <th></th>\n",
       "      <th>average_payment</th>\n",
       "    </tr>\n",
       "  </thead>\n",
       "  <tbody>\n",
       "    <tr>\n",
       "      <th>0</th>\n",
       "      <td>3</td>\n",
       "    </tr>\n",
       "    <tr>\n",
       "      <th>1</th>\n",
       "      <td>0</td>\n",
       "    </tr>\n",
       "    <tr>\n",
       "      <th>2</th>\n",
       "      <td>3</td>\n",
       "    </tr>\n",
       "    <tr>\n",
       "      <th>3</th>\n",
       "      <td>2</td>\n",
       "    </tr>\n",
       "    <tr>\n",
       "      <th>4</th>\n",
       "      <td>2</td>\n",
       "    </tr>\n",
       "  </tbody>\n",
       "</table>\n",
       "</div>"
      ],
      "text/plain": [
       "   average_payment\n",
       "0                3\n",
       "1                0\n",
       "2                3\n",
       "3                2\n",
       "4                2"
      ]
     },
     "execution_count": 33,
     "metadata": {},
     "output_type": "execute_result"
    }
   ],
   "source": [
    "# modify average_payment\n",
    "# ordinal scale\n",
    "original = [\"利用しない\", \"〜300円\", \"300円〜500円\", \"500円〜800円\", \"800円〜1000円\", \"1000円〜\"]\n",
    "df_average_payment = modify_values_ordinal_scale(df2, \"average_payment\", original)\n",
    "df_average_payment.head()"
   ]
  },
  {
   "cell_type": "markdown",
   "metadata": {},
   "source": [
    "### when_to_use（回答必須）"
   ]
  },
  {
   "cell_type": "markdown",
   "metadata": {},
   "source": [
    " - 西食堂は11:00~14:00, 17:30~19:30\n",
    " - 東食堂は11:30~13:30\n",
    " - 15分ごとに答えさせる意味はないかも（回答が面倒くさくなるので、適当に答える人が増える可能性も高まる）\n",
    " - また、ここでパンショップについて聞く必要はないかも\n",
    " - 「利用しない」、「~12:30」、「12:30~13:15」、「13:15~14:00」、「夜間営業」という区分で良いのでは"
   ]
  },
  {
   "cell_type": "code",
   "execution_count": 34,
   "metadata": {},
   "outputs": [
    {
     "data": {
      "text/plain": [
       "{'11:30~11:45',\n",
       " '11:45~12:00',\n",
       " '12:00~12:15',\n",
       " '12:15~12:30',\n",
       " '12:30~12:45',\n",
       " '12:45~13:00',\n",
       " '13:00~13:15',\n",
       " '13:15~13:30',\n",
       " '13:30~13:45',\n",
       " '13:45~14:00',\n",
       " '14:00~14:15',\n",
       " '14:15~14:30',\n",
       " 'パンショップのみ利用',\n",
       " '利用しない',\n",
       " '夜営業'}"
      ]
     },
     "execution_count": 34,
     "metadata": {},
     "output_type": "execute_result"
    }
   ],
   "source": [
    "tmp1 = list(df2[\"when_to_use\"])\n",
    "unique_values = set()\n",
    "for times in tmp1:\n",
    "    tmp3 = set(times.split(\", \"))\n",
    "    unique_values = unique_values | tmp3\n",
    "unique_values"
   ]
  },
  {
   "cell_type": "code",
   "execution_count": 35,
   "metadata": {},
   "outputs": [
    {
     "data": {
      "text/html": [
       "<div>\n",
       "<style scoped>\n",
       "    .dataframe tbody tr th:only-of-type {\n",
       "        vertical-align: middle;\n",
       "    }\n",
       "\n",
       "    .dataframe tbody tr th {\n",
       "        vertical-align: top;\n",
       "    }\n",
       "\n",
       "    .dataframe thead th {\n",
       "        text-align: right;\n",
       "    }\n",
       "</style>\n",
       "<table border=\"1\" class=\"dataframe\">\n",
       "  <thead>\n",
       "    <tr style=\"text-align: right;\">\n",
       "      <th></th>\n",
       "      <th>11:30~11:45</th>\n",
       "      <th>11:45~12:00</th>\n",
       "      <th>12:00~12:15</th>\n",
       "      <th>12:15~12:30</th>\n",
       "      <th>12:30~12:45</th>\n",
       "      <th>12:45~13:00</th>\n",
       "      <th>13:00~13:15</th>\n",
       "      <th>13:15~13:30</th>\n",
       "      <th>13:30~13:45</th>\n",
       "      <th>13:45~14:00</th>\n",
       "      <th>14:00~14:15</th>\n",
       "      <th>14:15~14:30</th>\n",
       "      <th>bakery_only</th>\n",
       "      <th>not_using</th>\n",
       "      <th>night</th>\n",
       "    </tr>\n",
       "  </thead>\n",
       "  <tbody>\n",
       "    <tr>\n",
       "      <th>0</th>\n",
       "      <td>0</td>\n",
       "      <td>0</td>\n",
       "      <td>0</td>\n",
       "      <td>0</td>\n",
       "      <td>0</td>\n",
       "      <td>0</td>\n",
       "      <td>0</td>\n",
       "      <td>0</td>\n",
       "      <td>0</td>\n",
       "      <td>0</td>\n",
       "      <td>0</td>\n",
       "      <td>0</td>\n",
       "      <td>0</td>\n",
       "      <td>1</td>\n",
       "      <td>0</td>\n",
       "    </tr>\n",
       "    <tr>\n",
       "      <th>1</th>\n",
       "      <td>0</td>\n",
       "      <td>0</td>\n",
       "      <td>0</td>\n",
       "      <td>0</td>\n",
       "      <td>0</td>\n",
       "      <td>0</td>\n",
       "      <td>0</td>\n",
       "      <td>0</td>\n",
       "      <td>0</td>\n",
       "      <td>0</td>\n",
       "      <td>0</td>\n",
       "      <td>0</td>\n",
       "      <td>0</td>\n",
       "      <td>1</td>\n",
       "      <td>0</td>\n",
       "    </tr>\n",
       "    <tr>\n",
       "      <th>2</th>\n",
       "      <td>1</td>\n",
       "      <td>1</td>\n",
       "      <td>1</td>\n",
       "      <td>1</td>\n",
       "      <td>1</td>\n",
       "      <td>0</td>\n",
       "      <td>0</td>\n",
       "      <td>0</td>\n",
       "      <td>0</td>\n",
       "      <td>0</td>\n",
       "      <td>0</td>\n",
       "      <td>0</td>\n",
       "      <td>0</td>\n",
       "      <td>0</td>\n",
       "      <td>0</td>\n",
       "    </tr>\n",
       "    <tr>\n",
       "      <th>3</th>\n",
       "      <td>0</td>\n",
       "      <td>0</td>\n",
       "      <td>0</td>\n",
       "      <td>0</td>\n",
       "      <td>0</td>\n",
       "      <td>1</td>\n",
       "      <td>0</td>\n",
       "      <td>0</td>\n",
       "      <td>0</td>\n",
       "      <td>0</td>\n",
       "      <td>0</td>\n",
       "      <td>0</td>\n",
       "      <td>0</td>\n",
       "      <td>0</td>\n",
       "      <td>1</td>\n",
       "    </tr>\n",
       "    <tr>\n",
       "      <th>4</th>\n",
       "      <td>0</td>\n",
       "      <td>0</td>\n",
       "      <td>1</td>\n",
       "      <td>1</td>\n",
       "      <td>0</td>\n",
       "      <td>0</td>\n",
       "      <td>0</td>\n",
       "      <td>0</td>\n",
       "      <td>0</td>\n",
       "      <td>0</td>\n",
       "      <td>0</td>\n",
       "      <td>0</td>\n",
       "      <td>1</td>\n",
       "      <td>0</td>\n",
       "      <td>0</td>\n",
       "    </tr>\n",
       "  </tbody>\n",
       "</table>\n",
       "</div>"
      ],
      "text/plain": [
       "   11:30~11:45  11:45~12:00  12:00~12:15  12:15~12:30  12:30~12:45  \\\n",
       "0            0            0            0            0            0   \n",
       "1            0            0            0            0            0   \n",
       "2            1            1            1            1            1   \n",
       "3            0            0            0            0            0   \n",
       "4            0            0            1            1            0   \n",
       "\n",
       "   12:45~13:00  13:00~13:15  13:15~13:30  13:30~13:45  13:45~14:00  \\\n",
       "0            0            0            0            0            0   \n",
       "1            0            0            0            0            0   \n",
       "2            0            0            0            0            0   \n",
       "3            1            0            0            0            0   \n",
       "4            0            0            0            0            0   \n",
       "\n",
       "   14:00~14:15  14:15~14:30  bakery_only  not_using  night  \n",
       "0            0            0            0          1      0  \n",
       "1            0            0            0          1      0  \n",
       "2            0            0            0          0      0  \n",
       "3            0            0            0          0      1  \n",
       "4            0            0            1          0      0  "
      ]
     },
     "execution_count": 35,
     "metadata": {},
     "output_type": "execute_result"
    }
   ],
   "source": [
    "# modify when_to_use\n",
    "original = ['11:30~11:45',\n",
    "            '11:45~12:00',\n",
    "            '12:00~12:15',\n",
    "            '12:15~12:30',\n",
    "            '12:30~12:45',\n",
    "            '12:45~13:00',\n",
    "            '13:00~13:15',\n",
    "            '13:15~13:30',\n",
    "            '13:30~13:45',\n",
    "            '13:45~14:00',\n",
    "            '14:00~14:15',\n",
    "            '14:15~14:30',\n",
    "            'パンショップのみ利用',\n",
    "            '利用しない',\n",
    "            '夜営業']\n",
    "new = ['11:30~11:45',\n",
    "       '11:45~12:00',\n",
    "       '12:00~12:15',\n",
    "       '12:15~12:30',\n",
    "       '12:30~12:45',\n",
    "       '12:45~13:00',\n",
    "       '13:00~13:15',\n",
    "       '13:15~13:30',\n",
    "       '13:30~13:45',\n",
    "       '13:45~14:00',\n",
    "       '14:00~14:15',\n",
    "       '14:15~14:30',\n",
    "       'bakery_only',\n",
    "       'not_using',\n",
    "       'night']\n",
    "df_when_to_use = modify_values_dummies(df2, \"when_to_use\", original, new)\n",
    "df_when_to_use.head()"
   ]
  },
  {
   "cell_type": "markdown",
   "metadata": {},
   "source": [
    "### n_of_people（回答必須）"
   ]
  },
  {
   "cell_type": "markdown",
   "metadata": {},
   "source": [
    " - 「利用しない」の選択肢を用意すべき？"
   ]
  },
  {
   "cell_type": "code",
   "execution_count": 36,
   "metadata": {},
   "outputs": [
    {
     "name": "stdout",
     "output_type": "stream",
     "text": [
      "{'1人', '利用しない', '4人以上', '2～3人'}\n"
     ]
    }
   ],
   "source": [
    "print(set(df2[\"n_of_people\"]))"
   ]
  },
  {
   "cell_type": "code",
   "execution_count": 37,
   "metadata": {},
   "outputs": [
    {
     "data": {
      "text/html": [
       "<div>\n",
       "<style scoped>\n",
       "    .dataframe tbody tr th:only-of-type {\n",
       "        vertical-align: middle;\n",
       "    }\n",
       "\n",
       "    .dataframe tbody tr th {\n",
       "        vertical-align: top;\n",
       "    }\n",
       "\n",
       "    .dataframe thead th {\n",
       "        text-align: right;\n",
       "    }\n",
       "</style>\n",
       "<table border=\"1\" class=\"dataframe\">\n",
       "  <thead>\n",
       "    <tr style=\"text-align: right;\">\n",
       "      <th></th>\n",
       "      <th>n_of_people</th>\n",
       "    </tr>\n",
       "  </thead>\n",
       "  <tbody>\n",
       "    <tr>\n",
       "      <th>0</th>\n",
       "      <td>2</td>\n",
       "    </tr>\n",
       "    <tr>\n",
       "      <th>1</th>\n",
       "      <td>2</td>\n",
       "    </tr>\n",
       "    <tr>\n",
       "      <th>2</th>\n",
       "      <td>2</td>\n",
       "    </tr>\n",
       "    <tr>\n",
       "      <th>3</th>\n",
       "      <td>2</td>\n",
       "    </tr>\n",
       "    <tr>\n",
       "      <th>4</th>\n",
       "      <td>2</td>\n",
       "    </tr>\n",
       "  </tbody>\n",
       "</table>\n",
       "</div>"
      ],
      "text/plain": [
       "   n_of_people\n",
       "0            2\n",
       "1            2\n",
       "2            2\n",
       "3            2\n",
       "4            2"
      ]
     },
     "execution_count": 37,
     "metadata": {},
     "output_type": "execute_result"
    }
   ],
   "source": [
    "# modify #_of_people\n",
    "# oridinal scale\n",
    "original = ['利用しない', '1人', '2～3人', '4人以上']\n",
    "df_n_of_people = modify_values_ordinal_scale(df2, \"n_of_people\", original)\n",
    "df_n_of_people.head()"
   ]
  },
  {
   "cell_type": "markdown",
   "metadata": {},
   "source": [
    "### reasons_for_using_c（回答必須）"
   ]
  },
  {
   "cell_type": "code",
   "execution_count": 38,
   "metadata": {},
   "outputs": [
    {
     "data": {
      "text/plain": [
       "{'',\n",
       " '人間関係の構築のため',\n",
       " '他の人が行きたいと言うから',\n",
       " '価格が安いから',\n",
       " '利用していない',\n",
       " '友人に誘われるから',\n",
       " '友達と行くのに1番誘いやすいから',\n",
       " '友達と食べたいから',\n",
       " '大学の外に行かなくていいので',\n",
       " '大学内でご飯を食べる場所が生協しかないから。',\n",
       " '学食なら親が費用を負担してくれるから',\n",
       " '手っ取り早く量を食べれる',\n",
       " '授業の教室に近いから\\u3000友達と合流しやすいから',\n",
       " '支払いが便利だから',\n",
       " '時間の節約になるから',\n",
       " '栄養バランスが良いから',\n",
       " '近いから',\n",
       " '食べたことのないメニューが出ることがあるから。'}"
      ]
     },
     "execution_count": 38,
     "metadata": {},
     "output_type": "execute_result"
    }
   ],
   "source": [
    "tmp1 = list(df2[\"reasons_for_using_c\"])\n",
    "unique_values = set()\n",
    "for values in tmp1:\n",
    "    tmp3 = set(values.split(\", \"))\n",
    "    unique_values = unique_values | tmp3\n",
    "unique_values"
   ]
  },
  {
   "cell_type": "code",
   "execution_count": 39,
   "metadata": {},
   "outputs": [
    {
     "data": {
      "text/html": [
       "<div>\n",
       "<style scoped>\n",
       "    .dataframe tbody tr th:only-of-type {\n",
       "        vertical-align: middle;\n",
       "    }\n",
       "\n",
       "    .dataframe tbody tr th {\n",
       "        vertical-align: top;\n",
       "    }\n",
       "\n",
       "    .dataframe thead th {\n",
       "        text-align: right;\n",
       "    }\n",
       "</style>\n",
       "<table border=\"1\" class=\"dataframe\">\n",
       "  <thead>\n",
       "    <tr style=\"text-align: right;\">\n",
       "      <th></th>\n",
       "      <th>価格が安いから</th>\n",
       "      <th>栄養バランスが良いから</th>\n",
       "      <th>時間の節約になるから</th>\n",
       "      <th>支払いが便利だから</th>\n",
       "      <th>人間関係のため</th>\n",
       "      <th>近いから</th>\n",
       "      <th>メニュー</th>\n",
       "      <th>生協しかないから</th>\n",
       "      <th>学食だと親が費用負担するから</th>\n",
       "      <th>量が多いから</th>\n",
       "      <th>利用していない</th>\n",
       "    </tr>\n",
       "  </thead>\n",
       "  <tbody>\n",
       "    <tr>\n",
       "      <th>0</th>\n",
       "      <td>1</td>\n",
       "      <td>0</td>\n",
       "      <td>0</td>\n",
       "      <td>0</td>\n",
       "      <td>0</td>\n",
       "      <td>0</td>\n",
       "      <td>0</td>\n",
       "      <td>0</td>\n",
       "      <td>0</td>\n",
       "      <td>0</td>\n",
       "      <td>0</td>\n",
       "    </tr>\n",
       "    <tr>\n",
       "      <th>1</th>\n",
       "      <td>0</td>\n",
       "      <td>0</td>\n",
       "      <td>0</td>\n",
       "      <td>0</td>\n",
       "      <td>0</td>\n",
       "      <td>0</td>\n",
       "      <td>0</td>\n",
       "      <td>0</td>\n",
       "      <td>0</td>\n",
       "      <td>0</td>\n",
       "      <td>1</td>\n",
       "    </tr>\n",
       "    <tr>\n",
       "      <th>2</th>\n",
       "      <td>0</td>\n",
       "      <td>1</td>\n",
       "      <td>1</td>\n",
       "      <td>0</td>\n",
       "      <td>0</td>\n",
       "      <td>0</td>\n",
       "      <td>0</td>\n",
       "      <td>0</td>\n",
       "      <td>0</td>\n",
       "      <td>0</td>\n",
       "      <td>0</td>\n",
       "    </tr>\n",
       "    <tr>\n",
       "      <th>3</th>\n",
       "      <td>0</td>\n",
       "      <td>0</td>\n",
       "      <td>1</td>\n",
       "      <td>0</td>\n",
       "      <td>1</td>\n",
       "      <td>0</td>\n",
       "      <td>0</td>\n",
       "      <td>0</td>\n",
       "      <td>0</td>\n",
       "      <td>0</td>\n",
       "      <td>0</td>\n",
       "    </tr>\n",
       "    <tr>\n",
       "      <th>4</th>\n",
       "      <td>1</td>\n",
       "      <td>0</td>\n",
       "      <td>0</td>\n",
       "      <td>0</td>\n",
       "      <td>0</td>\n",
       "      <td>0</td>\n",
       "      <td>0</td>\n",
       "      <td>0</td>\n",
       "      <td>0</td>\n",
       "      <td>0</td>\n",
       "      <td>0</td>\n",
       "    </tr>\n",
       "  </tbody>\n",
       "</table>\n",
       "</div>"
      ],
      "text/plain": [
       "   価格が安いから  栄養バランスが良いから  時間の節約になるから  支払いが便利だから  人間関係のため  近いから  メニュー  生協しかないから  \\\n",
       "0        1            0           0          0        0     0     0         0   \n",
       "1        0            0           0          0        0     0     0         0   \n",
       "2        0            1           1          0        0     0     0         0   \n",
       "3        0            0           1          0        1     0     0         0   \n",
       "4        1            0           0          0        0     0     0         0   \n",
       "\n",
       "   学食だと親が費用負担するから  量が多いから  利用していない  \n",
       "0               0       0        0  \n",
       "1               0       0        1  \n",
       "2               0       0        0  \n",
       "3               0       0        0  \n",
       "4               0       0        0  "
      ]
     },
     "execution_count": 39,
     "metadata": {},
     "output_type": "execute_result"
    }
   ],
   "source": [
    "# modify reasons_for_using_c\n",
    "original = ['',\n",
    "            '人間関係の構築のため',\n",
    "            '他の人が行きたいと言うから',\n",
    "            '価格が安いから',\n",
    "            '利用していない',\n",
    "            '友人に誘われるから',\n",
    "            '友達と行くのに1番誘いやすいから',\n",
    "            '友達と食べたいから',\n",
    "            '大学の外に行かなくていいので',\n",
    "            '大学内でご飯を食べる場所が生協しかないから。',\n",
    "            '学食なら親が費用を負担してくれるから',\n",
    "            '手っ取り早く量を食べれる',\n",
    "            '授業の教室に近いから\\u3000友達と合流しやすいから',\n",
    "            '支払いが便利だから',\n",
    "            '時間の節約になるから',\n",
    "            '栄養バランスが良いから',\n",
    "            '近いから',\n",
    "            '食べたことのないメニューが出ることがあるから。']\n",
    "new = [\"価格が安いから\", \n",
    "       \"栄養バランスが良いから\", \n",
    "       \"時間の節約になるから\", \n",
    "       \"支払いが便利だから\", \n",
    "       \"人間関係のため\", \n",
    "       \"近いから\", \n",
    "       \"メニュー\", \n",
    "       \"生協しかないから\", \n",
    "       \"学食だと親が費用負担するから\", \n",
    "       \"量が多いから\", \n",
    "       \"利用していない\"]\n",
    "original_to_new_idxs = [[], [4], [4], [0], [10], [4], [4], [4], [2, 5], [7], [8], [2, 9], [4, 5], [3], [2], [1], [5], [6]]\n",
    "result = [[0] * len(new) for _ in range(r)]\n",
    "for i in range(r):\n",
    "    values = df2[\"reasons_for_using_c\"][i].split(\", \")\n",
    "    for value in values:\n",
    "        idx = original.index(value)\n",
    "        new_idxs = original_to_new_idxs[idx]\n",
    "        for j in new_idxs:\n",
    "            result[i][j] = 1\n",
    "df_reasons_for_using_c = pd.DataFrame(data=result, columns=new)\n",
    "df_reasons_for_using_c.head()"
   ]
  },
  {
   "cell_type": "code",
   "execution_count": 80,
   "metadata": {},
   "outputs": [
    {
     "name": "stdout",
     "output_type": "stream",
     "text": [
      "価格が安いから           36\n",
      "栄養バランスが良いから       19\n",
      "時間の節約になるから        59\n",
      "支払いが便利だから         10\n",
      "人間関係のため            6\n",
      "近いから               4\n",
      "メニュー               1\n",
      "生協しかないから           1\n",
      "学食だと親が費用負担するから     1\n",
      "量が多いから             1\n",
      "利用していない           13\n",
      "dtype: int64\n"
     ]
    }
   ],
   "source": [
    "df_reasons_for_using_c.sum()"
   ]
  },
  {
   "cell_type": "code",
   "execution_count": 82,
   "metadata": {},
   "outputs": [
    {
     "data": {
      "text/html": [
       "<div>\n",
       "<style scoped>\n",
       "    .dataframe tbody tr th:only-of-type {\n",
       "        vertical-align: middle;\n",
       "    }\n",
       "\n",
       "    .dataframe tbody tr th {\n",
       "        vertical-align: top;\n",
       "    }\n",
       "\n",
       "    .dataframe thead th {\n",
       "        text-align: right;\n",
       "    }\n",
       "</style>\n",
       "<table border=\"1\" class=\"dataframe\">\n",
       "  <thead>\n",
       "    <tr style=\"text-align: right;\">\n",
       "      <th></th>\n",
       "      <th>価格が安いから</th>\n",
       "      <th>栄養バランスが良いから</th>\n",
       "      <th>時間の節約になるから</th>\n",
       "      <th>支払いが便利だから</th>\n",
       "      <th>人間関係のため</th>\n",
       "      <th>近いから</th>\n",
       "      <th>利用していない</th>\n",
       "    </tr>\n",
       "  </thead>\n",
       "  <tbody>\n",
       "    <tr>\n",
       "      <th>0</th>\n",
       "      <td>1</td>\n",
       "      <td>0</td>\n",
       "      <td>0</td>\n",
       "      <td>0</td>\n",
       "      <td>0</td>\n",
       "      <td>0</td>\n",
       "      <td>0</td>\n",
       "    </tr>\n",
       "    <tr>\n",
       "      <th>1</th>\n",
       "      <td>0</td>\n",
       "      <td>0</td>\n",
       "      <td>0</td>\n",
       "      <td>0</td>\n",
       "      <td>0</td>\n",
       "      <td>0</td>\n",
       "      <td>1</td>\n",
       "    </tr>\n",
       "    <tr>\n",
       "      <th>2</th>\n",
       "      <td>0</td>\n",
       "      <td>1</td>\n",
       "      <td>1</td>\n",
       "      <td>0</td>\n",
       "      <td>0</td>\n",
       "      <td>0</td>\n",
       "      <td>0</td>\n",
       "    </tr>\n",
       "    <tr>\n",
       "      <th>3</th>\n",
       "      <td>0</td>\n",
       "      <td>0</td>\n",
       "      <td>1</td>\n",
       "      <td>0</td>\n",
       "      <td>1</td>\n",
       "      <td>0</td>\n",
       "      <td>0</td>\n",
       "    </tr>\n",
       "    <tr>\n",
       "      <th>4</th>\n",
       "      <td>1</td>\n",
       "      <td>0</td>\n",
       "      <td>0</td>\n",
       "      <td>0</td>\n",
       "      <td>0</td>\n",
       "      <td>0</td>\n",
       "      <td>0</td>\n",
       "    </tr>\n",
       "  </tbody>\n",
       "</table>\n",
       "</div>"
      ],
      "text/plain": [
       "   価格が安いから  栄養バランスが良いから  時間の節約になるから  支払いが便利だから  人間関係のため  近いから  利用していない\n",
       "0        1            0           0          0        0     0        0\n",
       "1        0            0           0          0        0     0        1\n",
       "2        0            1           1          0        0     0        0\n",
       "3        0            0           1          0        1     0        0\n",
       "4        1            0           0          0        0     0        0"
      ]
     },
     "execution_count": 82,
     "metadata": {},
     "output_type": "execute_result"
    }
   ],
   "source": [
    "# 「食べたことのないメニューが出ることがあるから。」\n",
    "# 「大学内でご飯を食べる場所が生協しかないから。」\n",
    "# 「学食なら親が費用を負担してくれるから」\n",
    "# 「手っ取り早く量を食べれる」\n",
    "# これらはそれぞれ1人しか回答していないので除外する\n",
    "# ただし、意見としては貴重なのでここに記しておく\n",
    "df_reasons_for_using_c.drop(columns=[\"メニュー\", \"生協しかないから\", \"学食だと親が費用負担するから\", \"量が多いから\"], inplace=True)\n",
    "df_reasons_for_using_c.head()"
   ]
  },
  {
   "cell_type": "markdown",
   "metadata": {},
   "source": [
    "### reasons_for_not_using_c（回答必須）"
   ]
  },
  {
   "cell_type": "code",
   "execution_count": 40,
   "metadata": {},
   "outputs": [
    {
     "data": {
      "text/plain": [
       "{'下宿まで5分程度で家に帰って作り置きなどを食べる方がコストパフォーマンスが良いように感じる。学食(生協？)は値上げをしないようがんばっていることは伝わるものの、私が体育会ということもあり1メニューでは空腹を満たしきれないのであまり積極的に使おうとは思わない。',\n",
       " '人がたくさんいて、落ち着かない',\n",
       " '利用している',\n",
       " '利用しない理由はない',\n",
       " '利用する必要がない。',\n",
       " '外食やコンビニを好むから',\n",
       " '家に帰りたいから',\n",
       " '家のご飯の方が安くて美味しい',\n",
       " '家帰って食べた方が節約になる',\n",
       " '座席が確保しにくいから',\n",
       " '混雑していて、並ぶのが嫌',\n",
       " '清潔感がないから',\n",
       " '自炊や外食の方が、コストや質の点で妥当感がある。',\n",
       " '食堂の値段がたかいから',\n",
       " '高いしさほど美味しくない',\n",
       " '高価であるため'}"
      ]
     },
     "execution_count": 40,
     "metadata": {},
     "output_type": "execute_result"
    }
   ],
   "source": [
    "tmp1 = list(df2[\"reasons_for_not_using_c\"])\n",
    "unique_values = set()\n",
    "for values in tmp1:\n",
    "    tmp3 = set(values.split(\", \"))\n",
    "    unique_values = unique_values | tmp3\n",
    "unique_values"
   ]
  },
  {
   "cell_type": "code",
   "execution_count": 85,
   "metadata": {},
   "outputs": [
    {
     "data": {
      "text/html": [
       "<div>\n",
       "<style scoped>\n",
       "    .dataframe tbody tr th:only-of-type {\n",
       "        vertical-align: middle;\n",
       "    }\n",
       "\n",
       "    .dataframe tbody tr th {\n",
       "        vertical-align: top;\n",
       "    }\n",
       "\n",
       "    .dataframe thead th {\n",
       "        text-align: right;\n",
       "    }\n",
       "</style>\n",
       "<table border=\"1\" class=\"dataframe\">\n",
       "  <thead>\n",
       "    <tr style=\"text-align: right;\">\n",
       "      <th></th>\n",
       "      <th>混雑していて落ち着かないから</th>\n",
       "      <th>混雑していて並ぶのが嫌</th>\n",
       "      <th>座席が確保しにくいから</th>\n",
       "      <th>清潔感がないから</th>\n",
       "      <th>外食やコンビニを好むから</th>\n",
       "      <th>量が少ないから</th>\n",
       "      <th>家に帰りたいから</th>\n",
       "      <th>値段が高いから</th>\n",
       "      <th>おいしくないから</th>\n",
       "      <th>利用する必要がないから</th>\n",
       "      <th>利用している</th>\n",
       "    </tr>\n",
       "  </thead>\n",
       "  <tbody>\n",
       "    <tr>\n",
       "      <th>91</th>\n",
       "      <td>0</td>\n",
       "      <td>0</td>\n",
       "      <td>0</td>\n",
       "      <td>0</td>\n",
       "      <td>0</td>\n",
       "      <td>0</td>\n",
       "      <td>0</td>\n",
       "      <td>0</td>\n",
       "      <td>0</td>\n",
       "      <td>0</td>\n",
       "      <td>1</td>\n",
       "    </tr>\n",
       "    <tr>\n",
       "      <th>92</th>\n",
       "      <td>0</td>\n",
       "      <td>0</td>\n",
       "      <td>0</td>\n",
       "      <td>0</td>\n",
       "      <td>0</td>\n",
       "      <td>0</td>\n",
       "      <td>0</td>\n",
       "      <td>0</td>\n",
       "      <td>0</td>\n",
       "      <td>0</td>\n",
       "      <td>1</td>\n",
       "    </tr>\n",
       "    <tr>\n",
       "      <th>93</th>\n",
       "      <td>1</td>\n",
       "      <td>1</td>\n",
       "      <td>1</td>\n",
       "      <td>0</td>\n",
       "      <td>0</td>\n",
       "      <td>0</td>\n",
       "      <td>0</td>\n",
       "      <td>0</td>\n",
       "      <td>0</td>\n",
       "      <td>0</td>\n",
       "      <td>0</td>\n",
       "    </tr>\n",
       "    <tr>\n",
       "      <th>94</th>\n",
       "      <td>1</td>\n",
       "      <td>1</td>\n",
       "      <td>1</td>\n",
       "      <td>0</td>\n",
       "      <td>0</td>\n",
       "      <td>0</td>\n",
       "      <td>0</td>\n",
       "      <td>0</td>\n",
       "      <td>0</td>\n",
       "      <td>0</td>\n",
       "      <td>0</td>\n",
       "    </tr>\n",
       "    <tr>\n",
       "      <th>95</th>\n",
       "      <td>1</td>\n",
       "      <td>0</td>\n",
       "      <td>0</td>\n",
       "      <td>0</td>\n",
       "      <td>0</td>\n",
       "      <td>0</td>\n",
       "      <td>0</td>\n",
       "      <td>0</td>\n",
       "      <td>0</td>\n",
       "      <td>0</td>\n",
       "      <td>0</td>\n",
       "    </tr>\n",
       "  </tbody>\n",
       "</table>\n",
       "</div>"
      ],
      "text/plain": [
       "    混雑していて落ち着かないから  混雑していて並ぶのが嫌  座席が確保しにくいから  清潔感がないから  外食やコンビニを好むから  量が少ないから  \\\n",
       "91               0            0            0         0             0        0   \n",
       "92               0            0            0         0             0        0   \n",
       "93               1            1            1         0             0        0   \n",
       "94               1            1            1         0             0        0   \n",
       "95               1            0            0         0             0        0   \n",
       "\n",
       "    家に帰りたいから  値段が高いから  おいしくないから  利用する必要がないから  利用している  \n",
       "91         0        0         0            0       1  \n",
       "92         0        0         0            0       1  \n",
       "93         0        0         0            0       0  \n",
       "94         0        0         0            0       0  \n",
       "95         0        0         0            0       0  "
      ]
     },
     "execution_count": 85,
     "metadata": {},
     "output_type": "execute_result"
    }
   ],
   "source": [
    "# コスパが良い = 味の割に価格が安い\n",
    "# コスパが悪い = 味の割に価格が高い = おいしくない + 価格が高い\n",
    "original = ['下宿まで5分程度で家に帰って作り置きなどを食べる方がコストパフォーマンスが良いように感じる。学食(生協？)は値上げをしないようがんばっていることは伝わるものの、私が体育会ということもあり1メニューでは空腹を満たしきれないのであまり積極的に使おうとは思わない。',\n",
    "            '人がたくさんいて、落ち着かない',\n",
    "            '利用している',\n",
    "            '利用しない理由はない',\n",
    "            '利用する必要がない。',\n",
    "            '外食やコンビニを好むから',\n",
    "            '家に帰りたいから',\n",
    "            '家のご飯の方が安くて美味しい',\n",
    "            '家帰って食べた方が節約になる',\n",
    "            '座席が確保しにくいから',\n",
    "            '混雑していて、並ぶのが嫌',\n",
    "            '清潔感がないから',\n",
    "            '自炊や外食の方が、コストや質の点で妥当感がある。',\n",
    "            '食堂の値段がたかいから',\n",
    "            '高いしさほど美味しくない',\n",
    "            '高価であるため']\n",
    "new = [\"混雑していて落ち着かないから\", \n",
    "       \"混雑していて並ぶのが嫌\", \n",
    "       \"座席が確保しにくいから\", \n",
    "       \"清潔感がないから\", \n",
    "       \"外食やコンビニを好むから\", \n",
    "       \"量が少ないから\", \n",
    "       \"家に帰りたいから\", \n",
    "       \"値段が高いから\", \n",
    "       \"おいしくないから\",  \n",
    "       \"利用する必要がないから\", \n",
    "       \"利用している\"]\n",
    "original_to_new_idxs = [[5, 7, 8], [0], [10], [10], [9], [4], [6], [7, 8], [7], [2], [1], [3], [7, 8], [7], [7, 8], [7]]\n",
    "result = [[0] * len(new) for _ in range(r)]\n",
    "for i in range(r):\n",
    "    values = df2[\"reasons_for_not_using_c\"][i].split(\", \")\n",
    "    for value in values:\n",
    "        idx = original.index(value)\n",
    "        new_idxs = original_to_new_idxs[idx]\n",
    "        for j in new_idxs:\n",
    "            result[i][j] = 1\n",
    "df_reasons_for_not_using_c = pd.DataFrame(data=result, columns=new)\n",
    "df_reasons_for_not_using_c.tail()"
   ]
  },
  {
   "cell_type": "code",
   "execution_count": 86,
   "metadata": {},
   "outputs": [
    {
     "data": {
      "text/plain": [
       "混雑していて落ち着かないから    21\n",
       "混雑していて並ぶのが嫌       41\n",
       "座席が確保しにくいから       28\n",
       "清潔感がないから           3\n",
       "外食やコンビニを好むから      11\n",
       "量が少ないから            1\n",
       "家に帰りたいから           1\n",
       "値段が高いから            7\n",
       "おいしくないから           4\n",
       "利用する必要がないから        1\n",
       "利用している            39\n",
       "dtype: int64"
      ]
     },
     "execution_count": 86,
     "metadata": {},
     "output_type": "execute_result"
    }
   ],
   "source": [
    "df_reasons_for_not_using_c.sum()"
   ]
  },
  {
   "cell_type": "code",
   "execution_count": 88,
   "metadata": {},
   "outputs": [
    {
     "data": {
      "text/html": [
       "<div>\n",
       "<style scoped>\n",
       "    .dataframe tbody tr th:only-of-type {\n",
       "        vertical-align: middle;\n",
       "    }\n",
       "\n",
       "    .dataframe tbody tr th {\n",
       "        vertical-align: top;\n",
       "    }\n",
       "\n",
       "    .dataframe thead th {\n",
       "        text-align: right;\n",
       "    }\n",
       "</style>\n",
       "<table border=\"1\" class=\"dataframe\">\n",
       "  <thead>\n",
       "    <tr style=\"text-align: right;\">\n",
       "      <th></th>\n",
       "      <th>混雑していて落ち着かないから</th>\n",
       "      <th>混雑していて並ぶのが嫌</th>\n",
       "      <th>座席が確保しにくいから</th>\n",
       "      <th>清潔感がないから</th>\n",
       "      <th>外食やコンビニを好むから</th>\n",
       "      <th>値段が高いから</th>\n",
       "      <th>おいしくないから</th>\n",
       "      <th>利用している</th>\n",
       "    </tr>\n",
       "  </thead>\n",
       "  <tbody>\n",
       "    <tr>\n",
       "      <th>0</th>\n",
       "      <td>0</td>\n",
       "      <td>0</td>\n",
       "      <td>0</td>\n",
       "      <td>0</td>\n",
       "      <td>1</td>\n",
       "      <td>0</td>\n",
       "      <td>0</td>\n",
       "      <td>0</td>\n",
       "    </tr>\n",
       "    <tr>\n",
       "      <th>1</th>\n",
       "      <td>1</td>\n",
       "      <td>0</td>\n",
       "      <td>0</td>\n",
       "      <td>0</td>\n",
       "      <td>0</td>\n",
       "      <td>0</td>\n",
       "      <td>0</td>\n",
       "      <td>0</td>\n",
       "    </tr>\n",
       "    <tr>\n",
       "      <th>2</th>\n",
       "      <td>0</td>\n",
       "      <td>0</td>\n",
       "      <td>0</td>\n",
       "      <td>0</td>\n",
       "      <td>1</td>\n",
       "      <td>0</td>\n",
       "      <td>0</td>\n",
       "      <td>0</td>\n",
       "    </tr>\n",
       "    <tr>\n",
       "      <th>3</th>\n",
       "      <td>0</td>\n",
       "      <td>0</td>\n",
       "      <td>1</td>\n",
       "      <td>0</td>\n",
       "      <td>0</td>\n",
       "      <td>0</td>\n",
       "      <td>0</td>\n",
       "      <td>0</td>\n",
       "    </tr>\n",
       "    <tr>\n",
       "      <th>4</th>\n",
       "      <td>1</td>\n",
       "      <td>0</td>\n",
       "      <td>0</td>\n",
       "      <td>0</td>\n",
       "      <td>0</td>\n",
       "      <td>0</td>\n",
       "      <td>0</td>\n",
       "      <td>0</td>\n",
       "    </tr>\n",
       "  </tbody>\n",
       "</table>\n",
       "</div>"
      ],
      "text/plain": [
       "   混雑していて落ち着かないから  混雑していて並ぶのが嫌  座席が確保しにくいから  清潔感がないから  外食やコンビニを好むから  値段が高いから  \\\n",
       "0               0            0            0         0             1        0   \n",
       "1               1            0            0         0             0        0   \n",
       "2               0            0            0         0             1        0   \n",
       "3               0            0            1         0             0        0   \n",
       "4               1            0            0         0             0        0   \n",
       "\n",
       "   おいしくないから  利用している  \n",
       "0         0       0  \n",
       "1         0       0  \n",
       "2         0       0  \n",
       "3         0       0  \n",
       "4         0       0  "
      ]
     },
     "execution_count": 88,
     "metadata": {},
     "output_type": "execute_result"
    }
   ],
   "source": [
    "# 「体育会系の私にとっては、1メニューでは空腹を満たしきれない」= 「量が少ないから」\n",
    "# 「家に帰りたいから」\n",
    "# 「利用する必要がないから」\n",
    "# 上記の3つはそれぞれ1人しか回答していないので除外する\n",
    "# ただし、意見としては貴重なのでここに記しておく\n",
    "df_reasons_for_not_using_c.drop(columns=[\"量が少ないから\", \"家に帰りたいから\", \"利用する必要がないから\"], inplace=True)\n",
    "df_reasons_for_not_using_c.head()"
   ]
  },
  {
   "cell_type": "markdown",
   "metadata": {},
   "source": [
    "### frequently_chose_menu（回答必須）"
   ]
  },
  {
   "cell_type": "code",
   "execution_count": 42,
   "metadata": {},
   "outputs": [
    {
     "data": {
      "text/plain": [
       "{'おかず', 'パン', '丼もの（カレー含む）', '利用しない', '小鉢', '麺類'}"
      ]
     },
     "execution_count": 42,
     "metadata": {},
     "output_type": "execute_result"
    }
   ],
   "source": [
    "tmp1 = list(df2[\"frequently_chose_menu\"])\n",
    "unique_values = set()\n",
    "for values in tmp1:\n",
    "    tmp3 = set(values.split(\", \"))\n",
    "    unique_values = unique_values | tmp3\n",
    "unique_values"
   ]
  },
  {
   "cell_type": "code",
   "execution_count": 43,
   "metadata": {},
   "outputs": [
    {
     "data": {
      "text/html": [
       "<div>\n",
       "<style scoped>\n",
       "    .dataframe tbody tr th:only-of-type {\n",
       "        vertical-align: middle;\n",
       "    }\n",
       "\n",
       "    .dataframe tbody tr th {\n",
       "        vertical-align: top;\n",
       "    }\n",
       "\n",
       "    .dataframe thead th {\n",
       "        text-align: right;\n",
       "    }\n",
       "</style>\n",
       "<table border=\"1\" class=\"dataframe\">\n",
       "  <thead>\n",
       "    <tr style=\"text-align: right;\">\n",
       "      <th></th>\n",
       "      <th>おかず</th>\n",
       "      <th>パン</th>\n",
       "      <th>丼もの（カレー含む）</th>\n",
       "      <th>小鉢</th>\n",
       "      <th>麺類</th>\n",
       "      <th>利用しない</th>\n",
       "    </tr>\n",
       "  </thead>\n",
       "  <tbody>\n",
       "    <tr>\n",
       "      <th>0</th>\n",
       "      <td>1</td>\n",
       "      <td>0</td>\n",
       "      <td>1</td>\n",
       "      <td>0</td>\n",
       "      <td>0</td>\n",
       "      <td>0</td>\n",
       "    </tr>\n",
       "    <tr>\n",
       "      <th>1</th>\n",
       "      <td>0</td>\n",
       "      <td>0</td>\n",
       "      <td>0</td>\n",
       "      <td>0</td>\n",
       "      <td>0</td>\n",
       "      <td>1</td>\n",
       "    </tr>\n",
       "    <tr>\n",
       "      <th>2</th>\n",
       "      <td>0</td>\n",
       "      <td>0</td>\n",
       "      <td>0</td>\n",
       "      <td>0</td>\n",
       "      <td>1</td>\n",
       "      <td>0</td>\n",
       "    </tr>\n",
       "    <tr>\n",
       "      <th>3</th>\n",
       "      <td>1</td>\n",
       "      <td>0</td>\n",
       "      <td>0</td>\n",
       "      <td>0</td>\n",
       "      <td>0</td>\n",
       "      <td>0</td>\n",
       "    </tr>\n",
       "    <tr>\n",
       "      <th>4</th>\n",
       "      <td>1</td>\n",
       "      <td>1</td>\n",
       "      <td>0</td>\n",
       "      <td>1</td>\n",
       "      <td>0</td>\n",
       "      <td>0</td>\n",
       "    </tr>\n",
       "  </tbody>\n",
       "</table>\n",
       "</div>"
      ],
      "text/plain": [
       "   おかず  パン  丼もの（カレー含む）  小鉢  麺類  利用しない\n",
       "0    1   0           1   0   0      0\n",
       "1    0   0           0   0   0      1\n",
       "2    0   0           0   0   1      0\n",
       "3    1   0           0   0   0      0\n",
       "4    1   1           0   1   0      0"
      ]
     },
     "execution_count": 43,
     "metadata": {},
     "output_type": "execute_result"
    }
   ],
   "source": [
    "original = new = ['おかず', 'パン', '丼もの（カレー含む）', '小鉢', '麺類', '利用しない']\n",
    "df_frequently_chose_menu = modify_values_dummies(df2, \"frequently_chose_menu\", original, new)\n",
    "df_frequently_chose_menu.head()"
   ]
  },
  {
   "cell_type": "markdown",
   "metadata": {},
   "source": [
    "### good_points_of_c（回答必須でない）"
   ]
  },
  {
   "cell_type": "markdown",
   "metadata": {},
   "source": [
    " - 「好きな点はない」という選択肢を加え、回答必須にすべき"
   ]
  },
  {
   "cell_type": "code",
   "execution_count": 44,
   "metadata": {},
   "outputs": [
    {
     "name": "stdout",
     "output_type": "stream",
     "text": [
      "nan is included\n"
     ]
    },
    {
     "data": {
      "text/plain": [
       "{'パンが美味しい', 'メニューのバリエーションが豊富', '利用しない', '安い', '支払いが便利', '近い'}"
      ]
     },
     "execution_count": 44,
     "metadata": {},
     "output_type": "execute_result"
    }
   ],
   "source": [
    "tmp1 = list(df2[\"good_points_of_c\"])\n",
    "unique_values = set()\n",
    "nan_flag = False\n",
    "for values in tmp1:\n",
    "    if pd.isnull(values):\n",
    "        nan_flag = True\n",
    "    else:\n",
    "        tmp3 = set(values.split(\", \"))\n",
    "        unique_values = unique_values | tmp3\n",
    "if nan_flag:\n",
    "    print(\"nan is included\")\n",
    "unique_values"
   ]
  },
  {
   "cell_type": "code",
   "execution_count": 45,
   "metadata": {},
   "outputs": [
    {
     "data": {
      "text/html": [
       "<div>\n",
       "<style scoped>\n",
       "    .dataframe tbody tr th:only-of-type {\n",
       "        vertical-align: middle;\n",
       "    }\n",
       "\n",
       "    .dataframe tbody tr th {\n",
       "        vertical-align: top;\n",
       "    }\n",
       "\n",
       "    .dataframe thead th {\n",
       "        text-align: right;\n",
       "    }\n",
       "</style>\n",
       "<table border=\"1\" class=\"dataframe\">\n",
       "  <thead>\n",
       "    <tr style=\"text-align: right;\">\n",
       "      <th></th>\n",
       "      <th>パンが美味しい</th>\n",
       "      <th>メニューのバリエーションが豊富</th>\n",
       "      <th>安い</th>\n",
       "      <th>支払いが便利</th>\n",
       "      <th>近い</th>\n",
       "      <th>利用しない</th>\n",
       "    </tr>\n",
       "  </thead>\n",
       "  <tbody>\n",
       "    <tr>\n",
       "      <th>91</th>\n",
       "      <td>0</td>\n",
       "      <td>0</td>\n",
       "      <td>0</td>\n",
       "      <td>0</td>\n",
       "      <td>1</td>\n",
       "      <td>0</td>\n",
       "    </tr>\n",
       "    <tr>\n",
       "      <th>92</th>\n",
       "      <td>0</td>\n",
       "      <td>0</td>\n",
       "      <td>1</td>\n",
       "      <td>1</td>\n",
       "      <td>1</td>\n",
       "      <td>0</td>\n",
       "    </tr>\n",
       "    <tr>\n",
       "      <th>93</th>\n",
       "      <td>0</td>\n",
       "      <td>0</td>\n",
       "      <td>0</td>\n",
       "      <td>0</td>\n",
       "      <td>1</td>\n",
       "      <td>0</td>\n",
       "    </tr>\n",
       "    <tr>\n",
       "      <th>94</th>\n",
       "      <td>0</td>\n",
       "      <td>0</td>\n",
       "      <td>0</td>\n",
       "      <td>0</td>\n",
       "      <td>1</td>\n",
       "      <td>0</td>\n",
       "    </tr>\n",
       "    <tr>\n",
       "      <th>95</th>\n",
       "      <td>0</td>\n",
       "      <td>0</td>\n",
       "      <td>0</td>\n",
       "      <td>0</td>\n",
       "      <td>1</td>\n",
       "      <td>0</td>\n",
       "    </tr>\n",
       "  </tbody>\n",
       "</table>\n",
       "</div>"
      ],
      "text/plain": [
       "    パンが美味しい  メニューのバリエーションが豊富  安い  支払いが便利  近い  利用しない\n",
       "91        0                0   0       0   1      0\n",
       "92        0                0   1       1   1      0\n",
       "93        0                0   0       0   1      0\n",
       "94        0                0   0       0   1      0\n",
       "95        0                0   0       0   1      0"
      ]
     },
     "execution_count": 45,
     "metadata": {},
     "output_type": "execute_result"
    }
   ],
   "source": [
    "original = new = ['パンが美味しい', 'メニューのバリエーションが豊富', '安い', '支払いが便利', '近い', '利用しない']\n",
    "\n",
    "result = [[0] * len(new) for _ in range(r)]\n",
    "for i in range(r):\n",
    "    values = df2[\"good_points_of_c\"][i]\n",
    "    if pd.isnull(values):\n",
    "        pass\n",
    "    else:\n",
    "        values = values.split(\", \")\n",
    "        for value in values:\n",
    "            idx = original.index(value)\n",
    "            result[i][idx] = 1\n",
    "df_good_points_of_c = pd.DataFrame(data=result, columns=new)\n",
    "df_good_points_of_c.tail()"
   ]
  },
  {
   "cell_type": "code",
   "execution_count": 90,
   "metadata": {},
   "outputs": [
    {
     "data": {
      "text/plain": [
       "パンが美味しい             1\n",
       "メニューのバリエーションが豊富    13\n",
       "安い                 33\n",
       "支払いが便利             10\n",
       "近い                 69\n",
       "利用しない               1\n",
       "dtype: int64"
      ]
     },
     "execution_count": 90,
     "metadata": {},
     "output_type": "execute_result"
    }
   ],
   "source": [
    "df_good_points_of_c.sum()"
   ]
  },
  {
   "cell_type": "code",
   "execution_count": 98,
   "metadata": {},
   "outputs": [
    {
     "data": {
      "text/html": [
       "<div>\n",
       "<style scoped>\n",
       "    .dataframe tbody tr th:only-of-type {\n",
       "        vertical-align: middle;\n",
       "    }\n",
       "\n",
       "    .dataframe tbody tr th {\n",
       "        vertical-align: top;\n",
       "    }\n",
       "\n",
       "    .dataframe thead th {\n",
       "        text-align: right;\n",
       "    }\n",
       "</style>\n",
       "<table border=\"1\" class=\"dataframe\">\n",
       "  <thead>\n",
       "    <tr style=\"text-align: right;\">\n",
       "      <th></th>\n",
       "      <th>メニューのバリエーションが豊富</th>\n",
       "      <th>安い</th>\n",
       "      <th>支払いが便利</th>\n",
       "      <th>近い</th>\n",
       "    </tr>\n",
       "  </thead>\n",
       "  <tbody>\n",
       "    <tr>\n",
       "      <th>0</th>\n",
       "      <td>0</td>\n",
       "      <td>1</td>\n",
       "      <td>0</td>\n",
       "      <td>1</td>\n",
       "    </tr>\n",
       "    <tr>\n",
       "      <th>1</th>\n",
       "      <td>0</td>\n",
       "      <td>1</td>\n",
       "      <td>0</td>\n",
       "      <td>0</td>\n",
       "    </tr>\n",
       "    <tr>\n",
       "      <th>2</th>\n",
       "      <td>0</td>\n",
       "      <td>0</td>\n",
       "      <td>0</td>\n",
       "      <td>1</td>\n",
       "    </tr>\n",
       "    <tr>\n",
       "      <th>3</th>\n",
       "      <td>0</td>\n",
       "      <td>0</td>\n",
       "      <td>0</td>\n",
       "      <td>1</td>\n",
       "    </tr>\n",
       "    <tr>\n",
       "      <th>4</th>\n",
       "      <td>0</td>\n",
       "      <td>1</td>\n",
       "      <td>0</td>\n",
       "      <td>0</td>\n",
       "    </tr>\n",
       "  </tbody>\n",
       "</table>\n",
       "</div>"
      ],
      "text/plain": [
       "   メニューのバリエーションが豊富  安い  支払いが便利  近い\n",
       "0                0   1       0   1\n",
       "1                0   1       0   0\n",
       "2                0   0       0   1\n",
       "3                0   0       0   1\n",
       "4                0   1       0   0"
      ]
     },
     "execution_count": 98,
     "metadata": {},
     "output_type": "execute_result"
    }
   ],
   "source": [
    "# 「パンが美味しい」\n",
    "# 「利用しない」\n",
    "# 上記2つは1人ずつしか回答していないので除外する\n",
    "# また、無回答者の多くが学食を利用しない人であった\n",
    "# 「好きな点はない」という選択肢を用意すべき\n",
    "df_good_points_of_c.drop(columns=[\"パンが美味しい\", \"利用しない\"], inplace=True)\n",
    "df_good_points_of_c.head()"
   ]
  },
  {
   "cell_type": "markdown",
   "metadata": {},
   "source": [
    "### bad_points_of_c（回答必須）"
   ]
  },
  {
   "cell_type": "markdown",
   "metadata": {},
   "source": [
    " - 「嫌いな点はない」という選択肢を加えた方が良いかも"
   ]
  },
  {
   "cell_type": "code",
   "execution_count": 46,
   "metadata": {},
   "outputs": [
    {
     "data": {
      "text/plain": [
       "{'インテリアがいまいち',\n",
       " 'メニュー内容',\n",
       " '並ぶのが嫌、時間がかかる',\n",
       " '人がたくさんいて、落ち着かない',\n",
       " '価格が高い',\n",
       " '価格が高いというより、無理して値下げするなら普通の価格でお腹いっぱい食べたいです。',\n",
       " '利用しない',\n",
       " '動線が悪い',\n",
       " '座席が少ない'}"
      ]
     },
     "execution_count": 46,
     "metadata": {},
     "output_type": "execute_result"
    }
   ],
   "source": [
    "tmp1 = list(df2[\"bad_points_of_c\"])\n",
    "unique_values = set()\n",
    "nan_flag = False\n",
    "for values in tmp1:\n",
    "    if pd.isnull(values):\n",
    "        nan_flag = True\n",
    "    else:\n",
    "        tmp3 = set(values.split(\", \"))\n",
    "        unique_values = unique_values | tmp3\n",
    "if nan_flag:\n",
    "    print(\"nan is included\")\n",
    "unique_values"
   ]
  },
  {
   "cell_type": "code",
   "execution_count": 62,
   "metadata": {},
   "outputs": [
    {
     "data": {
      "text/html": [
       "<div>\n",
       "<style scoped>\n",
       "    .dataframe tbody tr th:only-of-type {\n",
       "        vertical-align: middle;\n",
       "    }\n",
       "\n",
       "    .dataframe tbody tr th {\n",
       "        vertical-align: top;\n",
       "    }\n",
       "\n",
       "    .dataframe thead th {\n",
       "        text-align: right;\n",
       "    }\n",
       "</style>\n",
       "<table border=\"1\" class=\"dataframe\">\n",
       "  <thead>\n",
       "    <tr style=\"text-align: right;\">\n",
       "      <th></th>\n",
       "      <th>混雑していて落ち着かない</th>\n",
       "      <th>長時間並ぶのが嫌</th>\n",
       "      <th>価格が高い</th>\n",
       "      <th>動線が悪い</th>\n",
       "      <th>座席が少ない</th>\n",
       "      <th>内装がいまいち</th>\n",
       "      <th>量が少ない</th>\n",
       "      <th>メニューが良くない</th>\n",
       "      <th>利用しない</th>\n",
       "    </tr>\n",
       "  </thead>\n",
       "  <tbody>\n",
       "    <tr>\n",
       "      <th>0</th>\n",
       "      <td>1</td>\n",
       "      <td>1</td>\n",
       "      <td>0</td>\n",
       "      <td>0</td>\n",
       "      <td>0</td>\n",
       "      <td>0</td>\n",
       "      <td>0</td>\n",
       "      <td>0</td>\n",
       "      <td>0</td>\n",
       "    </tr>\n",
       "    <tr>\n",
       "      <th>1</th>\n",
       "      <td>1</td>\n",
       "      <td>0</td>\n",
       "      <td>0</td>\n",
       "      <td>0</td>\n",
       "      <td>1</td>\n",
       "      <td>0</td>\n",
       "      <td>0</td>\n",
       "      <td>0</td>\n",
       "      <td>0</td>\n",
       "    </tr>\n",
       "    <tr>\n",
       "      <th>2</th>\n",
       "      <td>0</td>\n",
       "      <td>0</td>\n",
       "      <td>1</td>\n",
       "      <td>0</td>\n",
       "      <td>0</td>\n",
       "      <td>0</td>\n",
       "      <td>0</td>\n",
       "      <td>0</td>\n",
       "      <td>0</td>\n",
       "    </tr>\n",
       "    <tr>\n",
       "      <th>3</th>\n",
       "      <td>1</td>\n",
       "      <td>0</td>\n",
       "      <td>0</td>\n",
       "      <td>0</td>\n",
       "      <td>0</td>\n",
       "      <td>0</td>\n",
       "      <td>0</td>\n",
       "      <td>0</td>\n",
       "      <td>0</td>\n",
       "    </tr>\n",
       "    <tr>\n",
       "      <th>4</th>\n",
       "      <td>1</td>\n",
       "      <td>1</td>\n",
       "      <td>0</td>\n",
       "      <td>0</td>\n",
       "      <td>0</td>\n",
       "      <td>0</td>\n",
       "      <td>0</td>\n",
       "      <td>0</td>\n",
       "      <td>0</td>\n",
       "    </tr>\n",
       "  </tbody>\n",
       "</table>\n",
       "</div>"
      ],
      "text/plain": [
       "   混雑していて落ち着かない  長時間並ぶのが嫌  価格が高い  動線が悪い  座席が少ない  内装がいまいち  量が少ない  メニューが良くない  \\\n",
       "0             1         1      0      0       0        0      0          0   \n",
       "1             1         0      0      0       1        0      0          0   \n",
       "2             0         0      1      0       0        0      0          0   \n",
       "3             1         0      0      0       0        0      0          0   \n",
       "4             1         1      0      0       0        0      0          0   \n",
       "\n",
       "   利用しない  \n",
       "0      0  \n",
       "1      0  \n",
       "2      0  \n",
       "3      0  \n",
       "4      0  "
      ]
     },
     "execution_count": 62,
     "metadata": {},
     "output_type": "execute_result"
    }
   ],
   "source": [
    "original = ['人がたくさんいて、落ち着かない', \n",
    "            '並ぶのが嫌、時間がかかる', \n",
    "            '価格が高い', \n",
    "            '動線が悪い', \n",
    "            '座席が少ない', \n",
    "            'インテリアがいまいち',\n",
    "            '価格が高いというより、無理して値下げするなら普通の価格でお腹いっぱい食べたいです。', \n",
    "            'メニュー内容',\n",
    "            '利用しない']\n",
    "new = [\"混雑していて落ち着かない\", \n",
    "       \"長時間並ぶのが嫌\", \n",
    "       \"価格が高い\", \n",
    "       \"動線が悪い\", \n",
    "       \"座席が少ない\", \n",
    "       \"内装がいまいち\", \n",
    "       \"量が少ない\", \n",
    "       \"メニューが良くない\", \n",
    "       \"利用しない\"]\n",
    "df_bad_points_of_c = modify_values_dummies(df2, \"bad_points_of_c\", original, new)\n",
    "df_bad_points_of_c.head()"
   ]
  },
  {
   "cell_type": "code",
   "execution_count": 91,
   "metadata": {},
   "outputs": [
    {
     "data": {
      "text/plain": [
       "混雑していて落ち着かない    49\n",
       "長時間並ぶのが嫌        70\n",
       "価格が高い           32\n",
       "動線が悪い           32\n",
       "座席が少ない          41\n",
       "内装がいまいち          1\n",
       "量が少ない            1\n",
       "メニューが良くない        1\n",
       "利用しない            1\n",
       "dtype: int64"
      ]
     },
     "execution_count": 91,
     "metadata": {},
     "output_type": "execute_result"
    }
   ],
   "source": [
    "df_bad_points_of_c.sum()"
   ]
  },
  {
   "cell_type": "code",
   "execution_count": 92,
   "metadata": {},
   "outputs": [
    {
     "data": {
      "text/html": [
       "<div>\n",
       "<style scoped>\n",
       "    .dataframe tbody tr th:only-of-type {\n",
       "        vertical-align: middle;\n",
       "    }\n",
       "\n",
       "    .dataframe tbody tr th {\n",
       "        vertical-align: top;\n",
       "    }\n",
       "\n",
       "    .dataframe thead th {\n",
       "        text-align: right;\n",
       "    }\n",
       "</style>\n",
       "<table border=\"1\" class=\"dataframe\">\n",
       "  <thead>\n",
       "    <tr style=\"text-align: right;\">\n",
       "      <th></th>\n",
       "      <th>混雑していて落ち着かない</th>\n",
       "      <th>長時間並ぶのが嫌</th>\n",
       "      <th>価格が高い</th>\n",
       "      <th>動線が悪い</th>\n",
       "      <th>座席が少ない</th>\n",
       "    </tr>\n",
       "  </thead>\n",
       "  <tbody>\n",
       "    <tr>\n",
       "      <th>0</th>\n",
       "      <td>1</td>\n",
       "      <td>1</td>\n",
       "      <td>0</td>\n",
       "      <td>0</td>\n",
       "      <td>0</td>\n",
       "    </tr>\n",
       "    <tr>\n",
       "      <th>1</th>\n",
       "      <td>1</td>\n",
       "      <td>0</td>\n",
       "      <td>0</td>\n",
       "      <td>0</td>\n",
       "      <td>1</td>\n",
       "    </tr>\n",
       "    <tr>\n",
       "      <th>2</th>\n",
       "      <td>0</td>\n",
       "      <td>0</td>\n",
       "      <td>1</td>\n",
       "      <td>0</td>\n",
       "      <td>0</td>\n",
       "    </tr>\n",
       "    <tr>\n",
       "      <th>3</th>\n",
       "      <td>1</td>\n",
       "      <td>0</td>\n",
       "      <td>0</td>\n",
       "      <td>0</td>\n",
       "      <td>0</td>\n",
       "    </tr>\n",
       "    <tr>\n",
       "      <th>4</th>\n",
       "      <td>1</td>\n",
       "      <td>1</td>\n",
       "      <td>0</td>\n",
       "      <td>0</td>\n",
       "      <td>0</td>\n",
       "    </tr>\n",
       "  </tbody>\n",
       "</table>\n",
       "</div>"
      ],
      "text/plain": [
       "   混雑していて落ち着かない  長時間並ぶのが嫌  価格が高い  動線が悪い  座席が少ない\n",
       "0             1         1      0      0       0\n",
       "1             1         0      0      0       1\n",
       "2             0         0      1      0       0\n",
       "3             1         0      0      0       0\n",
       "4             1         1      0      0       0"
      ]
     },
     "execution_count": 92,
     "metadata": {},
     "output_type": "execute_result"
    }
   ],
   "source": [
    "# 「内装がいまいち」\n",
    "# 「価格が高いというより、無理して値下げするなら普通の価格でお腹いっぱい食べたいです。」=「量が少ない」\n",
    "# 「メニューが良くない」\n",
    "# 「利用しない」\n",
    "# 上記4つは1人ずつしか回答していないので除外する\n",
    "# ただし、貴重な意見であるため、ここに記しておく\n",
    "df_bad_points_of_c.drop(columns=[\"内装がいまいち\", \"量が少ない\", \"メニューが良くない\", \"利用しない\"], inplace=True)\n",
    "df_bad_points_of_c.head()"
   ]
  },
  {
   "cell_type": "markdown",
   "metadata": {},
   "source": [
    "### impression_of_c（回答必須）"
   ]
  },
  {
   "cell_type": "code",
   "execution_count": 48,
   "metadata": {},
   "outputs": [
    {
     "data": {
      "text/plain": [
       "{'1年生',\n",
       " '2限と3限の間がかなり混んでいて、授業に間に合わない',\n",
       " '2限終わりに行くと超混雑してる',\n",
       " 'あまり味が良くない',\n",
       " 'いつも同じメニューしかない。',\n",
       " 'いつも混んでいる',\n",
       " 'いろんな人と会うため落ち着かない',\n",
       " 'うるさい、さほどおいしくない',\n",
       " 'ごみごみしている',\n",
       " 'せまい',\n",
       " 'たくさん食べようと思ったら高い',\n",
       " 'たのしい',\n",
       " 'ちょっとコスパ悪い',\n",
       " 'ちょっと高い\\n美味しい',\n",
       " 'なし',\n",
       " 'なんだかんだお金がかかる',\n",
       " 'やすい',\n",
       " 'カス',\n",
       " 'カレー大があんまり大きくない',\n",
       " 'コスパが悪い',\n",
       " 'スピーディーに提供される高くはない食事',\n",
       " 'バンバンジー豆腐がおいしい。',\n",
       " 'レジに並ぶ時間が長い。今年度になってさらに混雑している。',\n",
       " 'ローコストローリターン',\n",
       " '並びが酷すぎる、特に麺類は改善しない理由がわからない',\n",
       " '人が多い',\n",
       " '人が多い、うるさい、落ち着かない、知り合いと会う、そこまで安くもない',\n",
       " '人が多い、わざわざ混んでるのにばしPay専用レーンを作ったせいでよりレジが混むようになって不愉快',\n",
       " '人が多い、メニューのバリエーションが少ない、小皿をつけると意外と値段が高い、麺類並びがち',\n",
       " '他の大学よりはメニュー（味含む）、値段で劣るが一般の飲食店よりはコスパは良いか。',\n",
       " '他の選択肢があまりないから、利用している人が多いイメージ。',\n",
       " '価格ほど美味しくない。パンショップやコンビニに行くか、もう少しお金を出して駅周辺のチェーン店を利用することが多い。',\n",
       " '便利',\n",
       " '友達と行きやすい',\n",
       " '味が濃いめ。',\n",
       " '商品のレパートリーが少ない',\n",
       " '営業時間が短い',\n",
       " '多く食べようとするとコスパが悪い、混んでるからタイパも悪い、それなら外の定食屋さんに行く方がマシ\\n',\n",
       " '大人数のグループがうるさく牛耳っている',\n",
       " '大学にあるから使ってるイメージ',\n",
       " '大学らしい',\n",
       " '大衆食堂',\n",
       " '学校の食堂',\n",
       " '学生の集まる場所兼食堂',\n",
       " '学生向けの大盛りで安いご飯の提供',\n",
       " '安い',\n",
       " '安い。特に小鉢。期間限定のものは少し割高の印象。',\n",
       " '安い！',\n",
       " '安くてある程度美味しいが、昼時には混雑していて何分も待たなければならない。',\n",
       " '安くて質素',\n",
       " '安く栄養が取れる',\n",
       " '席空いてない',\n",
       " '常に混雑している。メニューが少なく、2限が長引くと売り切れてしまっている🥺',\n",
       " '思っているほど安くは無い',\n",
       " '意外と高い',\n",
       " '手頃の価格でいっぱい食べられる学生に優しい食堂',\n",
       " '昼休みの時間は混んでいる',\n",
       " '昼時には大分混雑している印象を受ける',\n",
       " '時間節約のために利用する',\n",
       " '来る人に対する店員の数少なすぎる',\n",
       " '栄養バランスが良い',\n",
       " '混みすぎている、外部の人の利用が多い',\n",
       " '混んでいる',\n",
       " '混んでいる、メニューが少ない',\n",
       " '混んでいる。意外と高い',\n",
       " '混んでいるというイメージは強いので、時間に余裕があるとき以外は使わない。',\n",
       " '混んでる',\n",
       " '混んでる。めにゅーがほうふ',\n",
       " '混んでるおいしくない',\n",
       " '狭い',\n",
       " '狭い、営業時間が短く混雑している',\n",
       " '生活協同組合なのに生活に寄り添っていない印象。200円の小さいパンはなんのために存在するのか？',\n",
       " '種類が少ない',\n",
       " '美味しい、混んでいる',\n",
       " '美味しいけど、ちょっと高いなぁ',\n",
       " '美味しいものは美味しい',\n",
       " '美味しくない\\n割と高い',\n",
       " '若干高い',\n",
       " '親の金で食べれるという利点',\n",
       " '近くて便利',\n",
       " '進化の方向が見当違いな学校の食堂',\n",
       " '量の割に値段が高い。混んでる。メニューの変化が乏しい。スパゲティ系が無い',\n",
       " '食べる量が少ない人には便利。食べる量が多いと値段が張る。',\n",
       " '食事のバリエーションが少ない',\n",
       " '高い、キャデまでの動線がいい',\n",
       " '高い気がする',\n",
       " '高くはないが期待してるほど安くもない価格帯',\n",
       " '麺レーンの回転率が悪すぎる'}"
      ]
     },
     "execution_count": 48,
     "metadata": {},
     "output_type": "execute_result"
    }
   ],
   "source": [
    "set(df2[\"impression_of_c\"])"
   ]
  },
  {
   "cell_type": "code",
   "execution_count": 49,
   "metadata": {},
   "outputs": [],
   "source": [
    "# sentiment analysis\n",
    "# label付け"
   ]
  },
  {
   "cell_type": "markdown",
   "metadata": {},
   "source": [
    "### frequency_b（回答必須）"
   ]
  },
  {
   "cell_type": "code",
   "execution_count": 50,
   "metadata": {},
   "outputs": [
    {
     "name": "stdout",
     "output_type": "stream",
     "text": [
      "{'月2〜3回', '週２〜３回', '週１回', '週０回', '週４回以上', '月1回程度。部活後にアイス食べたりはしちゃいます。'}\n"
     ]
    }
   ],
   "source": [
    "print(set(df2[\"frequency_b\"]))"
   ]
  },
  {
   "cell_type": "code",
   "execution_count": 51,
   "metadata": {},
   "outputs": [
    {
     "data": {
      "text/html": [
       "<div>\n",
       "<style scoped>\n",
       "    .dataframe tbody tr th:only-of-type {\n",
       "        vertical-align: middle;\n",
       "    }\n",
       "\n",
       "    .dataframe tbody tr th {\n",
       "        vertical-align: top;\n",
       "    }\n",
       "\n",
       "    .dataframe thead th {\n",
       "        text-align: right;\n",
       "    }\n",
       "</style>\n",
       "<table border=\"1\" class=\"dataframe\">\n",
       "  <thead>\n",
       "    <tr style=\"text-align: right;\">\n",
       "      <th></th>\n",
       "      <th>frequency_b</th>\n",
       "    </tr>\n",
       "  </thead>\n",
       "  <tbody>\n",
       "    <tr>\n",
       "      <th>0</th>\n",
       "      <td>0</td>\n",
       "    </tr>\n",
       "    <tr>\n",
       "      <th>1</th>\n",
       "      <td>0</td>\n",
       "    </tr>\n",
       "    <tr>\n",
       "      <th>2</th>\n",
       "      <td>0</td>\n",
       "    </tr>\n",
       "    <tr>\n",
       "      <th>3</th>\n",
       "      <td>3</td>\n",
       "    </tr>\n",
       "    <tr>\n",
       "      <th>4</th>\n",
       "      <td>4</td>\n",
       "    </tr>\n",
       "  </tbody>\n",
       "</table>\n",
       "</div>"
      ],
      "text/plain": [
       "   frequency_b\n",
       "0            0\n",
       "1            0\n",
       "2            0\n",
       "3            3\n",
       "4            4"
      ]
     },
     "execution_count": 51,
     "metadata": {},
     "output_type": "execute_result"
    }
   ],
   "source": [
    "original = ['週０回', \n",
    "            '月1回程度。部活後にアイス食べたりはしちゃいます。', \n",
    "            '月2〜3回', \n",
    "            '週１回', \n",
    "            '週２〜３回', \n",
    "            '週４回以上']\n",
    "df_freqency_b = modify_values_ordinal_scale(df2, \"frequency_b\", original)\n",
    "df_freqency_b.head()"
   ]
  },
  {
   "cell_type": "markdown",
   "metadata": {},
   "source": [
    "### preference_b_vs_c（回答必須）"
   ]
  },
  {
   "cell_type": "code",
   "execution_count": 52,
   "metadata": {},
   "outputs": [
    {
     "name": "stdout",
     "output_type": "stream",
     "text": [
      "{'学食', 'どちらも好きではない', 'パンショップ', '好き嫌い無くどちらも利用する'}\n"
     ]
    }
   ],
   "source": [
    "print(set(df2[\"preference_b_vs_c\"]))"
   ]
  },
  {
   "cell_type": "code",
   "execution_count": 53,
   "metadata": {},
   "outputs": [
    {
     "data": {
      "text/html": [
       "<div>\n",
       "<style scoped>\n",
       "    .dataframe tbody tr th:only-of-type {\n",
       "        vertical-align: middle;\n",
       "    }\n",
       "\n",
       "    .dataframe tbody tr th {\n",
       "        vertical-align: top;\n",
       "    }\n",
       "\n",
       "    .dataframe thead th {\n",
       "        text-align: right;\n",
       "    }\n",
       "</style>\n",
       "<table border=\"1\" class=\"dataframe\">\n",
       "  <thead>\n",
       "    <tr style=\"text-align: right;\">\n",
       "      <th></th>\n",
       "      <th>prefer_coop</th>\n",
       "      <th>prefer_bakery</th>\n",
       "    </tr>\n",
       "  </thead>\n",
       "  <tbody>\n",
       "    <tr>\n",
       "      <th>0</th>\n",
       "      <td>0</td>\n",
       "      <td>1</td>\n",
       "    </tr>\n",
       "    <tr>\n",
       "      <th>1</th>\n",
       "      <td>0</td>\n",
       "      <td>0</td>\n",
       "    </tr>\n",
       "    <tr>\n",
       "      <th>2</th>\n",
       "      <td>1</td>\n",
       "      <td>0</td>\n",
       "    </tr>\n",
       "    <tr>\n",
       "      <th>3</th>\n",
       "      <td>1</td>\n",
       "      <td>0</td>\n",
       "    </tr>\n",
       "    <tr>\n",
       "      <th>4</th>\n",
       "      <td>0</td>\n",
       "      <td>1</td>\n",
       "    </tr>\n",
       "  </tbody>\n",
       "</table>\n",
       "</div>"
      ],
      "text/plain": [
       "  prefer_coop  prefer_bakery\n",
       "0           0              1\n",
       "1           0              0\n",
       "2           1              0\n",
       "3           1              0\n",
       "4           0              1"
      ]
     },
     "execution_count": 53,
     "metadata": {},
     "output_type": "execute_result"
    }
   ],
   "source": [
    "original = ['パンショップ', '学食', 'どちらも好きではない', '好き嫌い無くどちらも利用する']\n",
    "columns = [\"prefer_coop\", \"prefer_bakery\"]\n",
    "result = [[0] * 2 for _ in range(r)]\n",
    "for i in range(r):\n",
    "    value = df2[\"preference_b_vs_c\"][i]\n",
    "    if value == 'パンショップ':\n",
    "        result[i][1] = 1\n",
    "    elif value == '学食':\n",
    "        result[i][0] = 1\n",
    "    elif value == '好き嫌い無くどちらも利用する':\n",
    "        result[i][0] = [1, 1]\n",
    "df_preference_b_vs_c = pd.DataFrame(data=result, columns=columns)\n",
    "df_preference_b_vs_c.head()"
   ]
  },
  {
   "cell_type": "markdown",
   "metadata": {},
   "source": [
    "### where_to_eat_b（回答必須でない）"
   ]
  },
  {
   "cell_type": "code",
   "execution_count": 54,
   "metadata": {},
   "outputs": [
    {
     "name": "stdout",
     "output_type": "stream",
     "text": [
      "{'次の授業の教室', 'その他教室', '買わない', '外のベンチ', '研究室', '学食内の席', '部室', '利用しない', '食べ歩き', nan}\n"
     ]
    }
   ],
   "source": [
    "print(set(df2[\"where_to_eat_b\"]))"
   ]
  },
  {
   "cell_type": "code",
   "execution_count": 93,
   "metadata": {},
   "outputs": [
    {
     "data": {
      "text/html": [
       "<div>\n",
       "<style scoped>\n",
       "    .dataframe tbody tr th:only-of-type {\n",
       "        vertical-align: middle;\n",
       "    }\n",
       "\n",
       "    .dataframe tbody tr th {\n",
       "        vertical-align: top;\n",
       "    }\n",
       "\n",
       "    .dataframe thead th {\n",
       "        text-align: right;\n",
       "    }\n",
       "</style>\n",
       "<table border=\"1\" class=\"dataframe\">\n",
       "  <thead>\n",
       "    <tr style=\"text-align: right;\">\n",
       "      <th></th>\n",
       "      <th>その他教室</th>\n",
       "      <th>利用しない</th>\n",
       "      <th>外のベンチ</th>\n",
       "      <th>学食内の席</th>\n",
       "      <th>次の授業の教室</th>\n",
       "      <th>研究室</th>\n",
       "      <th>買わない</th>\n",
       "      <th>部室</th>\n",
       "      <th>食べ歩き</th>\n",
       "    </tr>\n",
       "  </thead>\n",
       "  <tbody>\n",
       "    <tr>\n",
       "      <th>0</th>\n",
       "      <td>0</td>\n",
       "      <td>0</td>\n",
       "      <td>0</td>\n",
       "      <td>0</td>\n",
       "      <td>1</td>\n",
       "      <td>0</td>\n",
       "      <td>0</td>\n",
       "      <td>0</td>\n",
       "      <td>0</td>\n",
       "    </tr>\n",
       "    <tr>\n",
       "      <th>1</th>\n",
       "      <td>0</td>\n",
       "      <td>0</td>\n",
       "      <td>0</td>\n",
       "      <td>1</td>\n",
       "      <td>0</td>\n",
       "      <td>0</td>\n",
       "      <td>0</td>\n",
       "      <td>0</td>\n",
       "      <td>0</td>\n",
       "    </tr>\n",
       "    <tr>\n",
       "      <th>2</th>\n",
       "      <td>0</td>\n",
       "      <td>0</td>\n",
       "      <td>0</td>\n",
       "      <td>1</td>\n",
       "      <td>0</td>\n",
       "      <td>0</td>\n",
       "      <td>0</td>\n",
       "      <td>0</td>\n",
       "      <td>0</td>\n",
       "    </tr>\n",
       "    <tr>\n",
       "      <th>3</th>\n",
       "      <td>1</td>\n",
       "      <td>0</td>\n",
       "      <td>0</td>\n",
       "      <td>0</td>\n",
       "      <td>0</td>\n",
       "      <td>0</td>\n",
       "      <td>0</td>\n",
       "      <td>0</td>\n",
       "      <td>0</td>\n",
       "    </tr>\n",
       "    <tr>\n",
       "      <th>4</th>\n",
       "      <td>0</td>\n",
       "      <td>0</td>\n",
       "      <td>0</td>\n",
       "      <td>0</td>\n",
       "      <td>1</td>\n",
       "      <td>0</td>\n",
       "      <td>0</td>\n",
       "      <td>0</td>\n",
       "      <td>0</td>\n",
       "    </tr>\n",
       "  </tbody>\n",
       "</table>\n",
       "</div>"
      ],
      "text/plain": [
       "   その他教室  利用しない  外のベンチ  学食内の席  次の授業の教室  研究室  買わない  部室  食べ歩き\n",
       "0      0      0      0      0        1    0     0   0     0\n",
       "1      0      0      0      1        0    0     0   0     0\n",
       "2      0      0      0      1        0    0     0   0     0\n",
       "3      1      0      0      0        0    0     0   0     0\n",
       "4      0      0      0      0        1    0     0   0     0"
      ]
     },
     "execution_count": 93,
     "metadata": {},
     "output_type": "execute_result"
    }
   ],
   "source": [
    "df_tmp = pd.get_dummies(df2[\"where_to_eat_b\"], dtype=int)\n",
    "df_tmp.head()"
   ]
  },
  {
   "cell_type": "code",
   "execution_count": 94,
   "metadata": {},
   "outputs": [
    {
     "data": {
      "text/plain": [
       "その他教室      12\n",
       "利用しない       1\n",
       "外のベンチ       8\n",
       "学食内の席      31\n",
       "次の授業の教室    19\n",
       "研究室         1\n",
       "買わない        1\n",
       "部室          8\n",
       "食べ歩き        1\n",
       "dtype: int64"
      ]
     },
     "execution_count": 94,
     "metadata": {},
     "output_type": "execute_result"
    }
   ],
   "source": [
    "df_tmp.sum()"
   ]
  },
  {
   "cell_type": "code",
   "execution_count": null,
   "metadata": {},
   "outputs": [],
   "source": [
    "# 「次の授業の教室」=「その他の教室」=「研究室」=「教室」として扱う\n",
    "# 「外のベンチ」=「食べ歩き」=「外」として扱う\n",
    "# 無回答 =「買わない」=「利用しない」として扱う\n",
    "\n",
    "original = ['次の授業の教室', 'その他教室', '買わない', '外のベンチ', '研究室', '学食内の席', '部室', '利用しない', '食べ歩き']\n",
    "new = [\"学食内\", \"教室\", \"部室\", \"外\", \"研究室\"]"
   ]
  },
  {
   "cell_type": "markdown",
   "metadata": {},
   "source": [
    "### preference_e_vs_w（回答必須）"
   ]
  },
  {
   "cell_type": "code",
   "execution_count": 55,
   "metadata": {},
   "outputs": [
    {
     "name": "stdout",
     "output_type": "stream",
     "text": [
      "{'東学食', 'どちらも好き。', 'どちらも好きではない', '西学食'}\n"
     ]
    }
   ],
   "source": [
    "print(set(df2[\"preference_e_vs_w\"]))"
   ]
  },
  {
   "cell_type": "markdown",
   "metadata": {},
   "source": [
    "### reasons_e_vs_w（回答必須でない）"
   ]
  },
  {
   "cell_type": "code",
   "execution_count": 56,
   "metadata": {},
   "outputs": [
    {
     "name": "stdout",
     "output_type": "stream",
     "text": [
      "nan is included\n"
     ]
    },
    {
     "data": {
      "text/plain": [
       "{'パンが充実しているから。',\n",
       " 'パンショップでしか学食(生協)を利用しないため。',\n",
       " 'メニュー数が多い',\n",
       " '売店が充実している',\n",
       " '席数が多い',\n",
       " '東は片付けが楽',\n",
       " '混んでいない気がする',\n",
       " '片付けが楽',\n",
       " '生協があるから',\n",
       " '立地',\n",
       " '西生協はパンの種類が多いから。',\n",
       " '雰囲気'}"
      ]
     },
     "execution_count": 56,
     "metadata": {},
     "output_type": "execute_result"
    }
   ],
   "source": [
    "tmp1 = list(df2[\"reasons_e_vs_w\"])\n",
    "unique_values = set()\n",
    "nan_flag = False\n",
    "for values in tmp1:\n",
    "    if pd.isnull(values):\n",
    "        nan_flag = True\n",
    "    else:\n",
    "        tmp3 = set(values.split(\", \"))\n",
    "        unique_values = unique_values | tmp3\n",
    "if nan_flag:\n",
    "    print(\"nan is included\")\n",
    "unique_values"
   ]
  },
  {
   "cell_type": "markdown",
   "metadata": {},
   "source": [
    "### using_app（回答必須）"
   ]
  },
  {
   "cell_type": "code",
   "execution_count": 57,
   "metadata": {},
   "outputs": [
    {
     "name": "stdout",
     "output_type": "stream",
     "text": [
      "{'いいえ', 'はい'}\n"
     ]
    }
   ],
   "source": [
    "print(set(df2[\"using_app\"]))"
   ]
  },
  {
   "cell_type": "markdown",
   "metadata": {},
   "source": [
    "### reasons_for_using_app（回答必須でない）"
   ]
  },
  {
   "cell_type": "code",
   "execution_count": 58,
   "metadata": {},
   "outputs": [
    {
     "name": "stdout",
     "output_type": "stream",
     "text": [
      "nan is included\n"
     ]
    },
    {
     "data": {
      "text/plain": [
       "{'ポイントが貯まる',\n",
       " '学食ペイの残金を他で使えないから。',\n",
       " '専用レジを利用し、迅速に会計を済ませたい',\n",
       " '支払いが便利',\n",
       " '教科書販売のときに利用することの方が多いです。'}"
      ]
     },
     "execution_count": 58,
     "metadata": {},
     "output_type": "execute_result"
    }
   ],
   "source": [
    "tmp1 = list(df2[\"reasons_for_using_app\"])\n",
    "unique_values = set()\n",
    "nan_flag = False\n",
    "for values in tmp1:\n",
    "    if pd.isnull(values):\n",
    "        nan_flag = True\n",
    "    else:\n",
    "        tmp3 = set(values.split(\", \"))\n",
    "        unique_values = unique_values | tmp3\n",
    "if nan_flag:\n",
    "    print(\"nan is included\")\n",
    "unique_values"
   ]
  },
  {
   "cell_type": "markdown",
   "metadata": {},
   "source": [
    "### how_to_deposit（回答必須でない）"
   ]
  },
  {
   "cell_type": "code",
   "execution_count": 59,
   "metadata": {},
   "outputs": [
    {
     "name": "stdout",
     "output_type": "stream",
     "text": [
      "{'生協レジでチャージ（自分のお金）', '入学した時にチャージしただけ', 'クレカ入金（親のお金）', 'コンビニ入金（自分のお金）', 'アプリ導入時に学食カード？の残金を移行したのが残っているため使っている。使い切ったら使用しないと思う。', '生協レジでチャージ（親のお金）', 'コンビニ入金（親のお金）', 'クレカ入金（自分のお金）', nan}\n"
     ]
    }
   ],
   "source": [
    "print(set(df2[\"how_to_deposit\"]))"
   ]
  },
  {
   "cell_type": "markdown",
   "metadata": {},
   "source": [
    "### reasons_for_not_using_app（回答必須）"
   ]
  },
  {
   "cell_type": "code",
   "execution_count": 60,
   "metadata": {},
   "outputs": [
    {
     "data": {
      "text/plain": [
       "{'',\n",
       " '使用が面倒だから',\n",
       " '使用方法を知らないから',\n",
       " '入金が面倒だから',\n",
       " '利用している',\n",
       " '利用価値を感じないから',\n",
       " '存在を知らないから',\n",
       " '学食を利用しないから'}"
      ]
     },
     "execution_count": 60,
     "metadata": {},
     "output_type": "execute_result"
    }
   ],
   "source": [
    "tmp1 = list(df2[\"reasons_for_not_using_app\"])\n",
    "unique_values = set()\n",
    "nan_flag = False\n",
    "for values in tmp1:\n",
    "    if pd.isnull(values):\n",
    "        nan_flag = True\n",
    "    else:\n",
    "        tmp3 = set(values.split(\", \"))\n",
    "        unique_values = unique_values | tmp3\n",
    "if nan_flag:\n",
    "    print(\"nan is included\")\n",
    "unique_values"
   ]
  },
  {
   "cell_type": "markdown",
   "metadata": {},
   "source": [
    "### desirable_features（回答必須でない）"
   ]
  },
  {
   "cell_type": "code",
   "execution_count": 61,
   "metadata": {},
   "outputs": [
    {
     "name": "stdout",
     "output_type": "stream",
     "text": [
      "nan is included\n"
     ]
    },
    {
     "data": {
      "text/plain": [
       "{'アプリの軽さ。',\n",
       " 'クレカとの紐付け',\n",
       " 'クーポンの配布',\n",
       " 'ドーナツ情報。ミスドは1週間前にアプリでも通知してほしいです',\n",
       " '事前注文',\n",
       " '席から頼めたら便利。入金もっと簡単にして欲しいです🥺。(クレカ情報の記憶など)',\n",
       " '混雑状況の確認'}"
      ]
     },
     "execution_count": 61,
     "metadata": {},
     "output_type": "execute_result"
    }
   ],
   "source": [
    "tmp1 = list(df2[\"desirable_features\"])\n",
    "unique_values = set()\n",
    "nan_flag = False\n",
    "for values in tmp1:\n",
    "    if pd.isnull(values):\n",
    "        nan_flag = True\n",
    "    else:\n",
    "        tmp3 = set(values.split(\", \"))\n",
    "        unique_values = unique_values | tmp3\n",
    "if nan_flag:\n",
    "    print(\"nan is included\")\n",
    "unique_values"
   ]
  }
 ],
 "metadata": {
  "kernelspec": {
   "display_name": "coop_iot_env",
   "language": "python",
   "name": "python3"
  },
  "language_info": {
   "codemirror_mode": {
    "name": "ipython",
    "version": 3
   },
   "file_extension": ".py",
   "mimetype": "text/x-python",
   "name": "python",
   "nbconvert_exporter": "python",
   "pygments_lexer": "ipython3",
   "version": "3.11.9"
  }
 },
 "nbformat": 4,
 "nbformat_minor": 2
}
