{
 "cells": [
  {
   "cell_type": "markdown",
   "metadata": {},
   "source": [
    "# Preparation"
   ]
  },
  {
   "cell_type": "code",
   "execution_count": null,
   "metadata": {},
   "outputs": [],
   "source": [
    "import pandas as pd\n",
    "from pandas import DataFrame\n",
    "import matplotlib.pyplot as plt\n",
    "import numpy as np"
   ]
  },
  {
   "cell_type": "code",
   "execution_count": null,
   "metadata": {},
   "outputs": [],
   "source": [
    "df_non_dummy = pd.read_excel(\"data/forms_cleaned.xlsx\", sheet_name=0)\n",
    "df_WhenG = pd.read_excel(\"data/forms_cleaned.xlsx\", sheet_name=1)\n",
    "df_ReasonUseG = pd.read_excel(\"data/forms_cleaned.xlsx\", sheet_name=2)\n",
    "df_ReasonNotUseG = pd.read_excel(\"data/forms_cleaned.xlsx\", sheet_name=3)\n",
    "df_FreqMenu = pd.read_excel(\"data/forms_cleaned.xlsx\", sheet_name=4)\n",
    "df_LikeG = pd.read_excel(\"data/forms_cleaned.xlsx\", sheet_name=5)\n",
    "df_DislikeG = pd.read_excel(\"data/forms_cleaned.xlsx\", sheet_name=6)\n",
    "df_ReasonEvsW = pd.read_excel(\"data/forms_cleaned.xlsx\", sheet_name=7)\n",
    "df_ReasonUseApp = pd.read_excel(\"data/forms_cleaned.xlsx\", sheet_name=8)\n",
    "df_ReasonNotUseApp = pd.read_excel(\"data/forms_cleaned.xlsx\", sheet_name=9)\n",
    "df_AppFeature = pd.read_excel(\"data/forms_cleaned.xlsx\", sheet_name=10)\n",
    "df_ImprsG = pd.read_excel(\"data/forms_cleaned.xlsx\", sheet_name=11)"
   ]
  },
  {
   "cell_type": "code",
   "execution_count": null,
   "metadata": {},
   "outputs": [],
   "source": [
    "df_FreqG = df_non_dummy[[\"FreqG\"]]\n",
    "df_FreqP = df_non_dummy[[\"FreqP\"]]\n",
    "color4 = [\"lightgreen\", \"skyblue\", \"plum\", \"lightcoral\"]\n",
    "color6 = [\"bisque\", \"lightgreen\", \"turquoise\", \"skyblue\", \"plum\", \"lightcoral\"]"
   ]
  },
  {
   "cell_type": "markdown",
   "metadata": {},
   "source": [
    "# df_non_dummy"
   ]
  },
  {
   "cell_type": "code",
   "execution_count": null,
   "metadata": {},
   "outputs": [],
   "source": [
    "df_non_dummy.head()"
   ]
  },
  {
   "cell_type": "code",
   "execution_count": null,
   "metadata": {},
   "outputs": [],
   "source": [
    "df_non_dummy.info()"
   ]
  },
  {
   "cell_type": "code",
   "execution_count": null,
   "metadata": {},
   "outputs": [],
   "source": [
    "def plot_cumulative_bar(df: DataFrame, \n",
    "                        x: str, \n",
    "                        hue: str, \n",
    "                        x_order: list, \n",
    "                        hue_order: list, \n",
    "                        c: list, \n",
    "                        type: str = \"vertical\", \n",
    "                        save: bool = True):\n",
    "    n_hue = len(hue_order)\n",
    "    n_x = len(x_order)\n",
    "    count_x = np.array(df.groupby(x).size().reindex(x_order))\n",
    "    result = [[0] * n_x for _ in range(n_hue)]\n",
    "    color = c\n",
    "\n",
    "    for i in range(n_hue):\n",
    "        for j in range(n_x):\n",
    "            result[i][j] = df[(df[x] == x_order[j]) & (df[hue] == hue_order[i])].shape[0]\n",
    "\n",
    "    fig, ax = plt.subplots(figsize=(10, 6), layout=\"constrained\")\n",
    "    bottom = np.zeros(n_x)\n",
    "\n",
    "    if type == \"horizontal\":\n",
    "        for i in range(n_hue):\n",
    "            b = ax.barh(x_order, result[i], left=bottom, label=hue_order[i], color=color[i])\n",
    "            percentage = list(np.array(result[i]) / count_x * 100)\n",
    "            percentage = list(map(lambda x: f\"{x:.0f}%\" if x != 0 and x != 100 else \"\", percentage))\n",
    "            ax.bar_label(b, labels=percentage, label_type=\"center\", fontsize=10)\n",
    "            bottom += result[i]\n",
    "        ax.set_xlabel(\"Count\")\n",
    "        ax.set_ylabel(x)\n",
    "        \n",
    "    elif type == \"vertical\":\n",
    "        for i in range(n_hue):\n",
    "            b = ax.bar(x_order, result[i], bottom=bottom, label=hue_order[i], color=color[i])\n",
    "            percentage = list(np.array(result[i]) / count_x * 100)\n",
    "            percentage = list(map(lambda x: f\"{x:.0f}%\" if x != 0 and x != 100 else \"\", percentage))\n",
    "            ax.bar_label(b, labels=percentage, label_type=\"center\", fontsize=10)\n",
    "            bottom += result[i]\n",
    "        ax.set_xlabel(x)\n",
    "        ax.set_ylabel(\"Count\")\n",
    "    \n",
    "    ax.bar_label(b, labels=count_x, label_type=\"edge\", padding=3, fontweight=\"bold\")\n",
    "    ax.set_title(f\"{x} by {hue}\")\n",
    "    ax.title.set_fontweight(\"bold\")\n",
    "    ax.legend(title=hue)\n",
    "    ax.grid(linestyle=\"--\")\n",
    "\n",
    "    if save:\n",
    "        fig.savefig(f\"images/{x}By{hue}.png\")\n",
    "    return fig, ax"
   ]
  },
  {
   "cell_type": "code",
   "execution_count": null,
   "metadata": {},
   "outputs": [],
   "source": [
    "plot_cumulative_bar(df_non_dummy, \"Grade\", \"FreqG\", \n",
    "                    [\"B1\", \"B2\", \"B3\", \"B4\", \"M\"], [\"0\", \"1\", \"2-3\", \"4+\"], color4)"
   ]
  },
  {
   "cell_type": "code",
   "execution_count": null,
   "metadata": {},
   "outputs": [],
   "source": [
    "plot_cumulative_bar(df_non_dummy, \"Faculty\", \"FreqG\", \n",
    "                    [\"Com\", \"Econ\", \"Law\", \"Soc\", \"SDS\", \"Grad\"], \n",
    "                    [\"0\", \"1\", \"2-3\", \"4+\"], color4)"
   ]
  },
  {
   "cell_type": "code",
   "execution_count": null,
   "metadata": {},
   "outputs": [],
   "source": [
    "plot_cumulative_bar(df_non_dummy, \"Sex\", \"FreqG\", [\"F\", \"M\"], [\"0\", \"1\", \"2-3\", \"4+\"], color4)"
   ]
  },
  {
   "cell_type": "code",
   "execution_count": null,
   "metadata": {},
   "outputs": [],
   "source": [
    "plot_cumulative_bar(df_non_dummy, \"Living\", \"FreqG\", \n",
    "                    ['WithParents', 'Alone(Cook)', 'Alone(NoCook)', 'Dormitory(Meal)', 'Dormitory(NoMeal)'], \n",
    "                    [\"0\", \"1\", \"2-3\", \"4+\"], color4)"
   ]
  },
  {
   "cell_type": "code",
   "execution_count": null,
   "metadata": {},
   "outputs": [],
   "source": [
    "df_tmp = pd.concat([df_non_dummy[\"2F3N\"].astype(str), df_non_dummy[\"FreqG\"]], axis=1)\n",
    "\n",
    "plot_cumulative_bar(df_tmp, \"2F3N\", \"FreqG\", \n",
    "                    [\"0\", \"1\", \"2\", \"3\", \"5\"], \n",
    "                    [\"0\", \"1\", \"2-3\", \"4+\"], color4)"
   ]
  },
  {
   "cell_type": "code",
   "execution_count": null,
   "metadata": {},
   "outputs": [],
   "source": [
    "df_tmp = pd.concat([df_non_dummy[\"2N3F\"].astype(str), df_non_dummy[\"FreqG\"]], axis=1)\n",
    "\n",
    "plot_cumulative_bar(df_tmp, \"2N3F\", \"FreqG\", \n",
    "                    [\"0\", \"1\", \"2\", \"3\"], \n",
    "                    [\"0\", \"1\", \"2-3\", \"4+\"], color4)"
   ]
  },
  {
   "cell_type": "code",
   "execution_count": null,
   "metadata": {},
   "outputs": [],
   "source": [
    "df_tmp = pd.concat([df_non_dummy[\"2F3F\"].astype(str), df_non_dummy[\"FreqG\"]], axis=1)\n",
    "\n",
    "plot_cumulative_bar(df_tmp, \"2F3F\", \"FreqG\", \n",
    "                    [\"0\", \"1\", \"2\", \"3\", \"4\", \"5\"], \n",
    "                    [\"0\", \"1\", \"2-3\", \"4+\"], color4)"
   ]
  },
  {
   "cell_type": "code",
   "execution_count": null,
   "metadata": {},
   "outputs": [],
   "source": [
    "plot_cumulative_bar(df_non_dummy, \"AvePayG\", \"FreqG\", \n",
    "                    ['0', '1-299', '300-499', '500-799', '800-999', '1000+'], \n",
    "                    [\"0\", \"1\", \"2-3\", \"4+\"], color4)"
   ]
  },
  {
   "cell_type": "code",
   "execution_count": null,
   "metadata": {},
   "outputs": [],
   "source": [
    "plot_cumulative_bar(df_non_dummy, \"PeopleG\", \"FreqG\", \n",
    "                    ['0', '1', '2-3', '4+'], [\"0\", \"1\", \"2-3\", \"4+\"], color4)"
   ]
  },
  {
   "cell_type": "code",
   "execution_count": null,
   "metadata": {},
   "outputs": [],
   "source": [
    "fig, ax = plot_cumulative_bar(df_non_dummy, \"FreqG\", \"FreqP\", \n",
    "                              [\"0\", \"1\", \"2-3\", \"4+\"], \n",
    "                              ['0', '1/M', '2-3/M', '1/W', '2-3/W', '4+/W'], color6, save=False)\n",
    "ax.set_ylim(0, 35)\n",
    "fig.savefig(\"images/FreqGByFreqP.png\")"
   ]
  },
  {
   "cell_type": "code",
   "execution_count": null,
   "metadata": {},
   "outputs": [],
   "source": [
    "fig, ax = plot_cumulative_bar(df_non_dummy, \"FreqP\", \"FreqG\", \n",
    "                              ['0', '1/M', '2-3/M', '1/W', '2-3/W', '4+/W'], \n",
    "                              [\"0\", \"1\", \"2-3\", \"4+\"], \n",
    "                              color4)"
   ]
  },
  {
   "cell_type": "code",
   "execution_count": null,
   "metadata": {},
   "outputs": [],
   "source": [
    "plot_cumulative_bar(df_non_dummy, \"GvsP\", \"FreqG\", \n",
    "                    ['Gakushoku', 'PanShop', 'Both', 'NoneOfThem'], \n",
    "                    [\"0\", \"1\", \"2-3\", \"4+\"], color4)"
   ]
  },
  {
   "cell_type": "code",
   "execution_count": null,
   "metadata": {},
   "outputs": [],
   "source": [
    "fig, ax = plot_cumulative_bar(df_non_dummy, \"GvsP\", \"FreqP\", \n",
    "                              ['Gakushoku', 'PanShop', 'Both', 'NoneOfThem'], \n",
    "                              ['0', '1/M', '2-3/M', '1/W', '2-3/W', '4+/W'], color6, save=False)\n",
    "ax.set_ylim(0, 50)\n",
    "fig.savefig(\"images/GvsPByFreqP.png\")"
   ]
  },
  {
   "cell_type": "code",
   "execution_count": null,
   "metadata": {},
   "outputs": [],
   "source": [
    "plot_cumulative_bar(df_non_dummy, \"WhereP\", \"FreqP\", \n",
    "                    ['InGakushoku', 'NxtClass', 'OtherClass', 'Clubroom', \n",
    "                     'Lab', 'Outside', 'DontUse','Unanswered'], \n",
    "                    ['0', '1/M', '2-3/M', '1/W', '2-3/W', '4+/W'], color6)"
   ]
  },
  {
   "cell_type": "code",
   "execution_count": null,
   "metadata": {},
   "outputs": [],
   "source": [
    "plot_cumulative_bar(df_non_dummy, \"EvsW\", \"FreqG\", \n",
    "                    ['East', 'West', 'Both', 'NoneOfThem'], \n",
    "                    [\"0\", \"1\", \"2-3\", \"4+\"], color4)"
   ]
  },
  {
   "cell_type": "code",
   "execution_count": null,
   "metadata": {},
   "outputs": [],
   "source": [
    "plot_cumulative_bar(df_non_dummy, \"EvsW\", \"FreqP\", \n",
    "                    ['East', 'West', 'Both', 'NoneOfThem'], \n",
    "                    ['0', '1/M', '2-3/M', '1/W', '2-3/W', '4+/W'], color6)"
   ]
  },
  {
   "cell_type": "code",
   "execution_count": null,
   "metadata": {},
   "outputs": [],
   "source": [
    "plot_cumulative_bar(df_non_dummy, \"App\", \"FreqG\", \n",
    "                    ['Use', 'DontUse'], [\"0\", \"1\", \"2-3\", \"4+\"], color4)"
   ]
  },
  {
   "cell_type": "code",
   "execution_count": null,
   "metadata": {},
   "outputs": [],
   "source": [
    "fig, ax = plot_cumulative_bar(df_non_dummy, \"RepositApp\", \"FreqG\", \n",
    "                              ['CreditCard(own)', 'CreditCard(prt)', 'CoopCashier(own)', 'CoopCashier(prt)', \n",
    "                               'ConvStore(own)', 'ConvStore(prt)', 'DontReposit', 'Unanswered'], \n",
    "                               [\"0\", \"1\", \"2-3\", \"4+\"], color4, save=False)\n",
    "ax.tick_params(axis=\"x\", rotation=90)\n",
    "fig.savefig(\"images/RepositAppByFreqG_all.png\")"
   ]
  },
  {
   "cell_type": "code",
   "execution_count": null,
   "metadata": {},
   "outputs": [],
   "source": [
    "fig, ax = plot_cumulative_bar(df_non_dummy, \"RepositApp\", \"FreqG\", \n",
    "                              ['CreditCard(own)', 'CreditCard(prt)', 'CoopCashier(own)', 'CoopCashier(prt)', \n",
    "                               'ConvStore(own)', 'ConvStore(prt)', 'DontReposit'], \n",
    "                               [\"0\", \"1\", \"2-3\", \"4+\"], color4, save=False)\n",
    "fig.savefig(\"images/RepositAppByFreqG_excl_unanswered.png\")"
   ]
  },
  {
   "cell_type": "markdown",
   "metadata": {},
   "source": [
    "# Others"
   ]
  },
  {
   "cell_type": "code",
   "execution_count": null,
   "metadata": {},
   "outputs": [],
   "source": [
    "def plot_cumulative_bar_dummy(df_x: DataFrame, \n",
    "                              df_hue: DataFrame,\n",
    "                              x: str, \n",
    "                              hue: str, \n",
    "                              x_order: list, \n",
    "                              hue_order: list, \n",
    "                              c: list, \n",
    "                              type: str = \"horizontal\", \n",
    "                              save: bool = True):\n",
    "    \n",
    "    n_hue = len(hue_order)\n",
    "    n_x = len(x_order)\n",
    "\n",
    "    _count_x = np.array(df_x.sum().reindex(x_order))\n",
    "    # zero divideによるエラーを防ぐため、countが0の場合は1にしている\n",
    "    count_x = np.array([_count_x[i] if _count_x[i] != 0 else 1 for i in range(len(_count_x))])\n",
    "\n",
    "    result = [[0] * n_x for _ in range(n_hue)]\n",
    "    color = c\n",
    "    df_mixed = pd.concat([df_x, df_hue], axis=1)\n",
    "\n",
    "    for i in range(n_hue):\n",
    "        for j in range(n_x):\n",
    "            result[i][j] = df_mixed[(df_mixed[x_order[j]] == 1) & (df_mixed[hue] == hue_order[i])].shape[0]\n",
    "\n",
    "    fig, ax = plt.subplots(figsize=(10, 6), layout=\"constrained\")\n",
    "    bottom = np.zeros(n_x)\n",
    "\n",
    "    if type == \"horizontal\":\n",
    "        for i in range(n_hue):\n",
    "            b = ax.barh(x_order, result[i], left=bottom, label=hue_order[i], color=color[i])\n",
    "            percentage = list(np.array(result[i]) / count_x * 100)\n",
    "            percentage = list(map(lambda x: f\"{x:.0f}%\" if x != 0 and x != 100 else \"\", percentage))\n",
    "            ax.bar_label(b, labels=percentage, label_type=\"center\", fontsize=10)\n",
    "            bottom += result[i]\n",
    "        ax.set_xlabel(\"Count\")\n",
    "        ax.set_ylabel(x)\n",
    "        \n",
    "    elif type == \"vertical\":\n",
    "        for i in range(n_hue):\n",
    "            b = ax.bar(x_order, result[i], bottom=bottom, label=hue_order[i], color=color[i])\n",
    "            percentage = list(np.array(result[i]) / count_x * 100)\n",
    "            percentage = list(map(lambda x: f\"{x:.0f}%\" if x != 0 and x != 100 else \"\", percentage))\n",
    "            ax.bar_label(b, labels=percentage, label_type=\"center\", fontsize=10)\n",
    "            bottom += result[i]\n",
    "        ax.set_xlabel(x)\n",
    "        ax.set_ylabel(\"Count\")\n",
    "    \n",
    "    ax.bar_label(b, labels=_count_x, label_type=\"edge\", padding=3, fontweight=\"bold\")\n",
    "    ax.set_title(f\"{x} by {hue}\")\n",
    "    ax.title.set_fontweight(\"bold\")\n",
    "    ax.legend(title=hue)\n",
    "    ax.grid(linestyle=\"--\")\n",
    "\n",
    "    if save:\n",
    "        fig.savefig(f\"images/{x}By{hue}.png\")\n",
    "    return fig, ax"
   ]
  },
  {
   "cell_type": "code",
   "execution_count": null,
   "metadata": {},
   "outputs": [],
   "source": [
    "fig, ax = plot_cumulative_bar_dummy(df_WhenG[df_WhenG[\"PanShop\"] == 0], df_FreqG, \"WhenG (PanShop=0)\", \"FreqG\", \n",
    "                                    ['11:30-11:45', '11:45-12:00', '12:00-12:15', '12:15-12:30',\n",
    "                                     '12:30-12:45', '12:45-13:00', '13:00-13:15', '13:15-13:30',\n",
    "                                     '13:30-13:45', '13:45-14:00', '14:00-14:15', '14:15-14:30', 'Night',\n",
    "                                     'PanShop', 'DontUse'], \n",
    "                                    [\"0\", \"1\", \"2-3\", \"4+\"], color4, type=\"vertical\", save=False)\n",
    "ax.tick_params(axis=\"x\", rotation=90)\n",
    "fig.savefig(\"images/WhenGByFreqG.png\")"
   ]
  },
  {
   "cell_type": "code",
   "execution_count": null,
   "metadata": {},
   "outputs": [],
   "source": [
    "fig, ax = plot_cumulative_bar_dummy(df_WhenG[df_WhenG[\"PanShop\"] == 1], df_FreqP, \n",
    "                                    \"WhenG (PanShop=1)\", \"FreqP\", \n",
    "                                    ['11:30-11:45', '11:45-12:00', '12:00-12:15', '12:15-12:30',\n",
    "                                     '12:30-12:45', '12:45-13:00', '13:00-13:15', '13:15-13:30',\n",
    "                                     '13:30-13:45', '13:45-14:00', '14:00-14:15', '14:15-14:30', 'Night',\n",
    "                                     'PanShop', 'DontUse'], \n",
    "                                    ['0', '1/M', '2-3/M', '1/W', '2-3/W', '4+/W'], \n",
    "                                    color6, type=\"vertical\", save=False)\n",
    "ax.tick_params(axis=\"x\", rotation=90)\n",
    "ax.set_ylim(0, 24)\n",
    "fig.savefig(\"images/WhenGByFreqP.png\")"
   ]
  },
  {
   "cell_type": "code",
   "execution_count": null,
   "metadata": {},
   "outputs": [],
   "source": [
    "fig, ax = plot_cumulative_bar_dummy(df_ReasonUseG, df_FreqG, \"ReasonUseG\", \"FreqG\", \n",
    "                                    ['HumanRelation', 'Cheap', 'Friend', 'Close', 'OnlyCoopInUniv', \n",
    "                                     'ParentsToPay', 'CanEatQuickly', 'EasyToPay', 'TimeSave', \n",
    "                                     'Nutritious', 'Menu', 'DontUse'], \n",
    "                                    [\"0\", \"1\", \"2-3\", \"4+\"], color4, type=\"vertical\", save=False)\n",
    "ax.tick_params(axis=\"x\", rotation=90)\n",
    "ax.set_ylim(0, 62)\n",
    "fig.savefig(\"images/ReasonUseGByFreqG.png\")"
   ]
  },
  {
   "cell_type": "code",
   "execution_count": null,
   "metadata": {},
   "outputs": [],
   "source": [
    "fig, ax = plot_cumulative_bar_dummy(df_ReasonNotUseG, df_FreqG, \"ReasonNotUseG\", \"FreqG\", \n",
    "                                    ['PreferHome', 'SmallPortionSize', 'Crowded', 'CantBeRelaxed', \n",
    "                                     'NoNeedToUse', 'PreferOut', 'Expensive', 'NotDelicious', \n",
    "                                     'FewSeats', 'LongQueue', 'Dirty', 'Use'], \n",
    "                                    [\"0\", \"1\", \"2-3\", \"4+\"], color4, type=\"vertical\", save=False)\n",
    "ax.tick_params(axis=\"x\", rotation=90)\n",
    "ax.set_ylim(0, 50)\n",
    "fig.savefig(\"images/ReasonNotUseGByFreqG.png\")"
   ]
  },
  {
   "cell_type": "code",
   "execution_count": null,
   "metadata": {},
   "outputs": [],
   "source": [
    "plot_cumulative_bar_dummy(df_FreqMenu, df_FreqG, \"FreqMenu\", \"FreqG\", \n",
    "                          ['Okazu', 'Bread', 'Don-mono', 'Kobachi', 'Noodle', 'DontUse'], \n",
    "                          [\"0\", \"1\", \"2-3\", \"4+\"], color4, type=\"vertical\")"
   ]
  },
  {
   "cell_type": "code",
   "execution_count": null,
   "metadata": {},
   "outputs": [],
   "source": [
    "fig, ax = plot_cumulative_bar_dummy(df_LikeG, df_FreqG, \"LikeG\", \"FreqG\", \n",
    "                                    ['DeliciousBread', 'WideVarietyMenu', 'Cheap', 'ConvenientToPay',\n",
    "                                     'Close', 'DontUse', 'Unanswered'], \n",
    "                                    [\"0\", \"1\", \"2-3\", \"4+\"], color4, type=\"vertical\", save=False)\n",
    "ax.set_ylim(0, 74)\n",
    "fig.savefig(\"images/LikeGByFreqG.png\")"
   ]
  },
  {
   "cell_type": "code",
   "execution_count": null,
   "metadata": {},
   "outputs": [],
   "source": [
    "fig, ax = plot_cumulative_bar_dummy(df_DislikeG, df_FreqG, \"DislikeG\", \"FreqG\", \n",
    "                                    ['PoorInterior', 'PoorMenu', 'LongQueue', 'Crowded', 'CantBeRelaxed', \n",
    "                                     'Expensive', 'FewSeats', 'SmallPortionSize', 'BadFlow', 'DontUse'], \n",
    "                                    [\"0\", \"1\", \"2-3\", \"4+\"], color4, type=\"vertical\", save=False)\n",
    "ax.tick_params(axis=\"x\", rotation=90)\n",
    "ax.set_ylim(0, 76)\n",
    "fig.savefig(\"images/DislikeGByFreqG.png\")"
   ]
  },
  {
   "cell_type": "code",
   "execution_count": null,
   "metadata": {},
   "outputs": [],
   "source": [
    "fig, ax = plot_cumulative_bar_dummy(df_ReasonEvsW, df_non_dummy[[\"EvsW\"]], \"ReasonEvsW\", \"EvsW\", \n",
    "                                    ['WideVarietyBread', 'OnlyUsePan-shop', 'WideVarietyMenu', \n",
    "                                     'RichSchoolStore', 'MoreSeats', 'EasyToClear', 'NotCrowded', \n",
    "                                     'Coop', 'Location', 'Atmosphere', 'Unanswered'], \n",
    "                                    ['East', 'West', 'Both', 'NoneOfThem'], \n",
    "                                    color4, save=False)\n",
    "ax.set_xlim(0, 30)\n",
    "fig.savefig(\"images/ReasonEvsWByEvsW.png\")"
   ]
  },
  {
   "cell_type": "code",
   "execution_count": null,
   "metadata": {},
   "outputs": [],
   "source": [
    "fig, ax = plot_cumulative_bar_dummy(df_ReasonEvsW, df_FreqG, \"ReasonEvsW\", \"FreqG\", \n",
    "                                    ['WideVarietyBread', 'OnlyUsePan-shop', 'WideVarietyMenu', \n",
    "                                     'RichSchoolStore', 'MoreSeats', 'EasyToClear', 'NotCrowded', \n",
    "                                     'Coop', 'Location', 'Atmosphere', 'Unanswered'], \n",
    "                                    [\"0\", \"1\", \"2-3\", \"4+\"], \n",
    "                                    color4, save=False)\n",
    "ax.set_xlim(0, 30)\n",
    "fig.savefig(\"images/ReasonEvsWByFreqG.png\")"
   ]
  },
  {
   "cell_type": "code",
   "execution_count": null,
   "metadata": {},
   "outputs": [],
   "source": [
    "plot_cumulative_bar_dummy(df_ReasonUseApp, df_FreqG, \"ReasonUseApp\", \"FreqG\", \n",
    "                          ['Point', 'CantUseGakuPayElsewhere', 'ToPayQuickly', \n",
    "                           'ConvenientToPay', 'ToBuyTextbook', 'Unanswered'], \n",
    "                          [\"0\", \"1\", \"2-3\", \"4+\"], color4, type=\"vertical\")"
   ]
  },
  {
   "cell_type": "code",
   "execution_count": null,
   "metadata": {},
   "outputs": [],
   "source": [
    "plot_cumulative_bar_dummy(df_ReasonNotUseApp, df_FreqG, \"ReasonNotUseApp\", \"FreqG\", \n",
    "                          ['TroublesomeToUse', 'DontKnowHowToUse', 'TroublesomeToReposit',\n",
    "                           'NotWorthUsing', 'DontKnowApp', 'DontUseGakushoku', 'Use'], \n",
    "                           [\"0\", \"1\", \"2-3\", \"4+\"], color4)"
   ]
  },
  {
   "cell_type": "code",
   "execution_count": null,
   "metadata": {},
   "outputs": [],
   "source": [
    "plot_cumulative_bar_dummy(df_AppFeature, df_FreqG, \"AppFeature\", \"FreqG\", \n",
    "                          ['Responsiveness', 'CreditCard', 'Coupon', 'DonutsInfo', \n",
    "                           'PreOrder', 'CrowdednessInfo', 'Unanswered'], \n",
    "                           [\"0\", \"1\", \"2-3\", \"4+\"], color4)"
   ]
  },
  {
   "cell_type": "code",
   "execution_count": null,
   "metadata": {},
   "outputs": [],
   "source": [
    "plot_cumulative_bar_dummy(df_AppFeature, df_non_dummy[[\"App\"]], \"AppFeature\", \"App\", \n",
    "                          ['Responsiveness', 'CreditCard', 'Coupon', 'DonutsInfo', \n",
    "                           'PreOrder', 'CrowdednessInfo', 'Unanswered'], \n",
    "                           [\"Use\", \"DontUse\"], [\"lightgreen\", \"skyblue\"])"
   ]
  },
  {
   "cell_type": "markdown",
   "metadata": {},
   "source": [
    "# df_ImprsG"
   ]
  },
  {
   "cell_type": "code",
   "execution_count": null,
   "metadata": {},
   "outputs": [],
   "source": [
    "df_ImprsG_labeled = pd.read_csv(\"data/forms_imprsg_labeled.csv\")\n",
    "df_ImprsG_labeled.head()"
   ]
  },
  {
   "cell_type": "code",
   "execution_count": null,
   "metadata": {},
   "outputs": [],
   "source": [
    "plot_cumulative_bar_dummy(df_ImprsG_labeled[[\"Positive\", \"Neutral\", \"Negative\"]], df_FreqG, \n",
    "                          \"ImprsG\", \"FreqG\", \n",
    "                          [\"Positive\", \"Neutral\", \"Negative\"], \n",
    "                          [\"0\", \"1\", \"2-3\", \"4+\"], color4, type=\"vertical\")"
   ]
  },
  {
   "cell_type": "code",
   "execution_count": null,
   "metadata": {},
   "outputs": [],
   "source": [
    "df_tmp = df_ImprsG_labeled.drop(columns=[\"Positive\", \"Neutral\", \"Negative\"])"
   ]
  },
  {
   "cell_type": "code",
   "execution_count": null,
   "metadata": {},
   "outputs": [],
   "source": [
    "n = \"0\"\n",
    "\n",
    "df_tmp1 = df_tmp[df_FreqG[\"FreqG\"] == n]\n",
    "df_tmp_columns = list(df_tmp1.columns)\n",
    "df_tmp_counts = list(df_tmp1.sum().values)\n",
    "drop_columns = [df_tmp_columns[i] for i in range(len(df_tmp_columns)) if df_tmp_counts[i] == 0]\n",
    "df_tmp1 = df_tmp1.drop(columns=drop_columns)\n",
    "fig, ax = plt.subplots(figsize=(10, 6), layout=\"constrained\")\n",
    "bar = ax.barh(df_tmp1.columns, df_tmp1.sum().values, color=\"lightgreen\")\n",
    "ax.set_xlabel(\"Count\")\n",
    "ax.set_ylabel(f\"ImprsG of FreqG={n}\")\n",
    "ax.bar_label(bar, labels=df_tmp1.sum().values, label_type=\"edge\", padding=3, fontweight=\"bold\")\n",
    "ax.set_title(f\"ImprsG (FreqG={n})\")\n",
    "ax.title.set_fontweight(\"bold\")\n",
    "ax.grid(linestyle=\"--\")\n",
    "fig.savefig(f\"images/ImprsGByFreqG={n}.png\")"
   ]
  },
  {
   "cell_type": "code",
   "execution_count": null,
   "metadata": {},
   "outputs": [],
   "source": [
    "n = \"1\"\n",
    "\n",
    "df_tmp1 = df_tmp[df_FreqG[\"FreqG\"] == n]\n",
    "df_tmp_columns = list(df_tmp1.columns)\n",
    "df_tmp_counts = list(df_tmp1.sum().values)\n",
    "drop_columns = [df_tmp_columns[i] for i in range(len(df_tmp_columns)) if df_tmp_counts[i] == 0]\n",
    "df_tmp1 = df_tmp1.drop(columns=drop_columns)\n",
    "fig, ax = plt.subplots(figsize=(10, 6), layout=\"constrained\")\n",
    "bar = ax.barh(df_tmp1.columns, df_tmp1.sum().values, color=\"skyblue\")\n",
    "ax.set_xlabel(\"Count\")\n",
    "ax.set_ylabel(f\"ImprsG of FreqG={n}\")\n",
    "ax.bar_label(bar, labels=df_tmp1.sum().values, label_type=\"edge\", padding=3, fontweight=\"bold\")\n",
    "ax.set_title(f\"ImprsG (FreqG={n})\")\n",
    "ax.title.set_fontweight(\"bold\")\n",
    "ax.grid(linestyle=\"--\")\n",
    "fig.savefig(f\"images/ImprsGByFreqG={n}.png\")"
   ]
  },
  {
   "cell_type": "code",
   "execution_count": null,
   "metadata": {},
   "outputs": [],
   "source": [
    "n = \"2-3\"\n",
    "\n",
    "df_tmp1 = df_tmp[df_FreqG[\"FreqG\"] == n]\n",
    "df_tmp_columns = list(df_tmp1.columns)\n",
    "df_tmp_counts = list(df_tmp1.sum().values)\n",
    "drop_columns = [df_tmp_columns[i] for i in range(len(df_tmp_columns)) if df_tmp_counts[i] == 0]\n",
    "df_tmp1 = df_tmp1.drop(columns=drop_columns)\n",
    "fig, ax = plt.subplots(figsize=(10, 6), layout=\"constrained\")\n",
    "bar = ax.barh(df_tmp1.columns, df_tmp1.sum().values, color=\"plum\")\n",
    "ax.set_xlabel(\"Count\")\n",
    "ax.set_ylabel(f\"ImprsG of FreqG={n}\")\n",
    "ax.bar_label(bar, labels=df_tmp1.sum().values, label_type=\"edge\", padding=3, fontweight=\"bold\")\n",
    "ax.set_title(f\"ImprsG (FreqG={n})\")\n",
    "ax.title.set_fontweight(\"bold\")\n",
    "ax.grid(linestyle=\"--\")\n",
    "fig.savefig(f\"images/ImprsGByFreqG={n}.png\")"
   ]
  },
  {
   "cell_type": "code",
   "execution_count": null,
   "metadata": {},
   "outputs": [],
   "source": [
    "n = \"4+\"\n",
    "\n",
    "df_tmp1 = df_tmp[df_FreqG[\"FreqG\"] == n]\n",
    "df_tmp_columns = list(df_tmp1.columns)\n",
    "df_tmp_counts = list(df_tmp1.sum().values)\n",
    "drop_columns = [df_tmp_columns[i] for i in range(len(df_tmp_columns)) if df_tmp_counts[i] == 0]\n",
    "df_tmp1 = df_tmp1.drop(columns=drop_columns)\n",
    "fig, ax = plt.subplots(figsize=(10, 6), layout=\"constrained\")\n",
    "bar = ax.barh(df_tmp1.columns, df_tmp1.sum().values, color=\"lightcoral\")\n",
    "ax.set_xlabel(\"Count\")\n",
    "ax.set_ylabel(f\"ImprsG of FreqG={n}\")\n",
    "ax.bar_label(bar, labels=df_tmp1.sum().values, label_type=\"edge\", padding=3, fontweight=\"bold\")\n",
    "ax.set_title(f\"ImprsG (FreqG={n})\")\n",
    "ax.title.set_fontweight(\"bold\")\n",
    "ax.grid(linestyle=\"--\")\n",
    "fig.savefig(f\"images/ImprsGByFreqG={n}.png\")"
   ]
  }
 ],
 "metadata": {
  "kernelspec": {
   "display_name": "coop_iot_env",
   "language": "python",
   "name": "python3"
  },
  "language_info": {
   "codemirror_mode": {
    "name": "ipython",
    "version": 3
   },
   "file_extension": ".py",
   "mimetype": "text/x-python",
   "name": "python",
   "nbconvert_exporter": "python",
   "pygments_lexer": "ipython3",
   "version": "3.11.9"
  }
 },
 "nbformat": 4,
 "nbformat_minor": 2
}
